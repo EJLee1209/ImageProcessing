{
 "cells": [
  {
   "cell_type": "markdown",
   "metadata": {},
   "source": [
    "<h1 align='center'> 영상처리 프로그래밍 실습 1</h1>\n",
    "\n",
    "<h6 align='right'> 2022. 3. 10.</h6>"
   ]
  },
  {
   "cell_type": "markdown",
   "metadata": {},
   "source": [
    "<div class=\"alert alert-block alert-info\">\n",
    "    \n",
    "- 파일 이름에서 00000000을 자신의 학번으로, name을 자신의 이름으로 수정하세요.\n",
    "\n",
    "- 다음 줄에 자신의 이름, 학번, 학과(전공)을 적으세요.\n",
    "\n",
    "* 이름:   &nbsp;이은재&nbsp;          학번:    &nbsp;20185158&nbsp;         학과(전공): 빅데이터\n",
    "    \n",
    "</div>\n",
    "\n",
    "- JupyterLab 문서의 최신 버전은 [JupyterLab Documentation](https://jupyterlab.readthedocs.io/en/stable/index.html#/)을  참고하라\n",
    "\n",
    "- Markdown은 [Markdown Guide](https://www.markdownguide.org/)를 참고하라.\n",
    "- [Markdown Cheat Sheet](https://www.markdownguide.org/cheat-sheet/)\n",
    "\n",
    "* 제출 마감: 3월 16일 (수) 오후 6:00까지 최종본 SmartLEAD제출\n"
   ]
  },
  {
   "cell_type": "markdown",
   "metadata": {
    "tags": []
   },
   "source": [
    "# JupyterLab 관련\n",
    "\n",
    "## Notebook의 셀 모드에서 hot key\n",
    "\n",
    "- Edit mode\n",
    "  - 셀 실행\n",
    "    * shift + enter: 현재 셀 실행 후 아래 셀로 이동\n",
    "    * ctrl + enter: 현재 셀 실행\n",
    "    * alt + enter: 현재 셀 실행 후 아래에 새로운 셀을 하나 삽입 후 삽입된 셀로 이동\n",
    "  - tab: 인덴트 또는 코드 완성 (code completion)\n",
    "  - tab, ctrl+\\] : 인덴트\n",
    "  - shift-tab, ctrl+\\[: 디인덴트\n",
    "  - ctrl + a: 셀 내부 모두 선택\n",
    "  - ctrl + c: 선택한 부분 복사\n",
    "  - ctrl + v: 붙여 넣기\n",
    "  - ctrl + /: comment 토글\n",
    "  - ctrl + shift + -: cursor에서 셀 분리\n",
    "- Command mode \n",
    "  - 선택한 셀 실행\n",
    "    * shift + enter: 선택한 셀 모두 실행 후 아래 셀로 이동\n",
    "    * ctrl + enter: 선택한 셀 모두 실행\n",
    "    * alt + enter: 선택한 셀 모두 실행 후 아래에 새로운 셀을 하나 만들고 이동  * enter: Edit mode로 전환\n",
    "  - Heading 번호 지정\n",
    "    * 1 : 셀을 heading 1으로 전환\n",
    "    * 2 : 셀을 heading 2으로 전환\n",
    "    * 3 : 셀을 heading 3으로 전환\n",
    "    * 4 : 셀을 heading 4으로 전환\n",
    "    * 5 : 셀을 heading 5으로 전환\n",
    "    * 6 : 셀을 heading 6으로 전환\n",
    "  - 셀 선택\n",
    "    * k, 위 화살표: 위의 셀을 선택\n",
    "    * j, 아래 화살표: 위의 셀을 선택\n",
    "    * shift + k,  shift + 위 화살표: 위의 셀을 추가로 선택\n",
    "    * shift + j,  shift + 아래 화살표: 위의 셀을 추가로 선택\n",
    "  - 페이지 스크롤\n",
    "    * PgUp, shift-space: 스크롤 업\n",
    "    * PgDn, space: 스크롤 다운  \n",
    "  - 셀 삽입\n",
    "    * a: 현재 셀의 위에 새로운 셀 삽입\n",
    "    * b: 현재 셀의 아래에 새로운 셀 삽입\n",
    "  - 셀 모드 변환\n",
    "    * m: 선택한 셀들을 Mardown 모드로 변환\n",
    "    * y: 선택한 셀들을 code 모드로 변환\n",
    "    * r: 선택한 셀들을 raw 모드로 변환\n",
    "  \n",
    "  * shift + m: 선택한 셀들 통합\n",
    "  * c: 선택한 셀 모두 복사\n",
    "  * v: 복사한 셀을 현재 셀 아래에 붙이기\n",
    "  * x, dd: 선택한 셀들 모두 삭제\n",
    "  * z: 직전 명령 취소\n",
    "  * ctrl-s: 페이지 저장\n",
    "  "
   ]
  },
  {
   "cell_type": "markdown",
   "metadata": {},
   "source": [
    "# Markdown 관련\n"
   ]
  },
  {
   "cell_type": "markdown",
   "metadata": {},
   "source": [
    "## Markdown 셀에서 수식 사용하기\n",
    "\n",
    "Markdown cell에 수식을 사용하기 위해서는 &#37;와 &#37; 사이에 또는 &#37;&#37;와 &#37;&#37; 사이에수식을 넣을 수 있다. "
   ]
  },
  {
   "cell_type": "markdown",
   "metadata": {
    "tags": []
   },
   "source": [
    "- $n$ 개의 원소 $x_i$로 이루어진 모집단의 평균, 분산, 표준편차를 구하는 식은 다음과 같다.\n",
    "\n",
    "-----------\n",
    "$$\\bar{x} = \\frac{1}{n}\\sum_{i=1}^{n} x_i $$\n",
    "$$\\sigma^2 =  \\frac{1}{n}\\sum_{i=1}^{n} (x_i - \\bar{x})^2 $$\n",
    "$$\\sigma =  \\sqrt{\\frac{1}{n}\\sum_{i=1}^{n} (x_i - \\bar{x})^2} $$\n",
    "-----------\n",
    "$$ \\sqrt[3]{8} = 2$$\n",
    "----\n",
    "- 수식에서 사용되는 Greek alphabet\n",
    "\n",
    "|alpha | beta |  gamma  | delta | epsilon| zeta | eta |\n",
    "|:--:|:--:|:--:|:--:|:--:|:--:|:--:|\n",
    "|$\\alpha$ | $\\beta$ | $\\gamma$ | $\\delta$ | $\\epsilon$ | $\\zeta$ | $\\eta $\n",
    "|$A$ | $B$ | $\\Gamma$ | $\\Delta$ | $E$ | $Z$ | $E$\n",
    "\n",
    "\n",
    "나머지 그리스어 문자들은 다음과 같다. 이 글자들을 위의 표에 넣어 전체 표를 완성하라.\n",
    "\n",
    "- theta\n",
    "- iota\n",
    "- kappa\n",
    "- lambda\n",
    "- mu\n",
    "- nu\n",
    "- xi\n",
    "- omicron\n",
    "- pi\n",
    "- rho\n",
    "- sigma\n",
    "- tau\n",
    "- upsilon\n",
    "- phi\n",
    "- chi\n",
    "- psi\n",
    "- omega\n",
    "\n",
    "|alpha | beta |  gamma  | delta | epsilon| zeta | eta |\n",
    "|:--:|:--:|:--:|:--:|:--:|:--:|:--:|\n",
    "|$\\alpha$ | $\\beta$ | $\\gamma$ | $\\delta$ | $\\epsilon$ | $\\zeta$ | $\\eta $\n",
    "|$A$ | $B$ | $\\Gamma$ | $\\Delta$ | $E$ | $Z$ | $E$\n",
    "\n",
    "|theta | iota |  kappa  | lambda | mu | nu | xi \n",
    "|:--:|:--:|:--:|:--:|:--:|:--:|:--:|\n",
    "|$\\theta$ | $\\iota$ | $\\kappa$ | $\\lambda$ | $\\mu$ | $\\nu$ | $\\xi$   \n",
    "|$\\Theta$ | $I$ | $K$ | $\\Lambda$ | $M$ | $N$ | $\\Xi$\n",
    "\n",
    "|omicron | pi |  rho  | sigma | tau| upsilon | phi   |\n",
    "|:--:|:--:|:--:|:--:|:--:|:--:|:--:|\n",
    "|$\\omicron$ | $\\pi$ | $\\rho$ | $\\sigma$ | $\\tau$ | $\\upsilon$ | $\\phi $\n",
    "|$O$ | $\\Pi$ | $P$ | $\\Sigma$ | $T$ | $\\Upsilon$ | $\\Phi$\n",
    "\n",
    "|chi | psi |  omega  | \n",
    "|:--:|:--:|:--:|\n",
    "|$\\chi$ | $\\psi$ | $\\omega$\n",
    "|$X$ | $\\Psi$ | $\\Omega$ \n",
    "\n",
    "\n"
   ]
  },
  {
   "cell_type": "markdown",
   "metadata": {},
   "source": [
    "- 이 셀에 위 셀의 수식들을 직접 입력해 보고, 적당히 변형시켜서 새로운 식을 작성해 보라."
   ]
  },
  {
   "cell_type": "markdown",
   "metadata": {
    "tags": []
   },
   "source": [
    "## Python 연산자\n",
    "\n",
    "### Python의 기본 산술 연산\n",
    "\n",
    "|연산\t\t\t| \t연산자\t\t| 예\t\t\t\t| 결과|\n",
    "|:-----:|:--:|:--:|:-----:|\n",
    "|덧셈\t\t\t|\t+\t\t| 2+3\t\t\t|5\t |\n",
    "|뺄셈\t\t\t|\t-\t\t| 5-3\t\t\t|2\t |\n",
    "|곱셈\t\t\t|\t*\t|  5 * 6\t\t|30\t\t|\n",
    "|정수 나눗셈\t\t|\t/\t\t|\t 11/3\t\t|3.6666666666666665 \t|\n",
    "|실수 나눗셈\t\t|\t/ \t\t|\t11.0/3 \t|3.6666666666666665|\n",
    "|나눗셈의 몫\t\t|\t//\t\t|\t11//3\t\t|3 \t\t|\n",
    "|나눗셈의 몫\t\t|\t//\t\t|\t11. // 3.\t\t|3. \t\t|\n",
    "|나눗셈의 나머지\t|\t%\t\t|\t11 % 3\t\t|2 \t\t|\n",
    "|지수승\t\t\t| **\t\t\t|  3 ** 2\t|9\t\t|"
   ]
  },
  {
   "cell_type": "code",
   "execution_count": 1,
   "metadata": {
    "tags": []
   },
   "outputs": [
    {
     "data": {
      "text/plain": [
       "7"
      ]
     },
     "execution_count": 1,
     "metadata": {},
     "output_type": "execute_result"
    }
   ],
   "source": [
    "3+4"
   ]
  },
  {
   "cell_type": "code",
   "execution_count": 2,
   "metadata": {},
   "outputs": [
    {
     "data": {
      "text/plain": [
       "0.7000000000000002"
      ]
     },
     "execution_count": 2,
     "metadata": {},
     "output_type": "execute_result"
    }
   ],
   "source": [
    "3.5-2.8"
   ]
  },
  {
   "cell_type": "code",
   "execution_count": 3,
   "metadata": {},
   "outputs": [
    {
     "data": {
      "text/plain": [
       "600"
      ]
     },
     "execution_count": 3,
     "metadata": {},
     "output_type": "execute_result"
    }
   ],
   "source": [
    "20*30"
   ]
  },
  {
   "cell_type": "code",
   "execution_count": 4,
   "metadata": {},
   "outputs": [
    {
     "data": {
      "text/plain": [
       "2.0"
      ]
     },
     "execution_count": 4,
     "metadata": {},
     "output_type": "execute_result"
    }
   ],
   "source": [
    "10/5"
   ]
  },
  {
   "cell_type": "code",
   "execution_count": 5,
   "metadata": {},
   "outputs": [
    {
     "data": {
      "text/plain": [
       "2"
      ]
     },
     "execution_count": 5,
     "metadata": {},
     "output_type": "execute_result"
    }
   ],
   "source": [
    "12//5"
   ]
  },
  {
   "cell_type": "code",
   "execution_count": 6,
   "metadata": {},
   "outputs": [
    {
     "data": {
      "text/plain": [
       "2"
      ]
     },
     "execution_count": 6,
     "metadata": {},
     "output_type": "execute_result"
    }
   ],
   "source": [
    "12%5"
   ]
  },
  {
   "cell_type": "code",
   "execution_count": 7,
   "metadata": {},
   "outputs": [
    {
     "data": {
      "text/plain": [
       "1024"
      ]
     },
     "execution_count": 7,
     "metadata": {},
     "output_type": "execute_result"
    }
   ],
   "source": [
    "2**10"
   ]
  },
  {
   "cell_type": "markdown",
   "metadata": {},
   "source": [
    "<div class=\"alert alert-info\">\n",
    "    \n",
    "**나머지 정리**\n",
    "    \n",
    "정수 $m$을 $n$으로 나누었을 때의 몫과 나머지를 각각 $q$와 $r$이라고 하면,\n",
    "   $$ m = qn + r,  (0 \\le r < n)$$\n",
    "</div>\n",
    "\n",
    "$$ 8 = 2 \\cdot 3 + 2$$\n",
    "$$ -8 = -3 \\cdot 3 + 1$$"
   ]
  },
  {
   "cell_type": "markdown",
   "metadata": {},
   "source": [
    "### 연산자 우선 순위\n",
    "\n",
    "| 순위 |  연산자 |\n",
    "|--:|:--:|\n",
    "1 | ( )\n",
    "2 | \\*\\*\n",
    "3 | +x, -x, ~x\n",
    "4 | \\*, \\/, \\/\\/, \\%\n",
    "5 | +, -\n",
    "6 | \\<\\<, \\>\\>\n",
    "7 | \\&\n",
    "8 | \\^\n",
    "9 | &#124;\n",
    "10 | ==, !=, \\>, \\>=, \\<, \\<=, is, is not, in, not in\n",
    "11 | not\n",
    "12 | and\n",
    "13 | or\n",
    "\n",
    "- 한 명령 줄에 우선 순위가 동일한 연산자들이 여러 개 있는 경우에는 왼쪽에서 오른쪽\n",
    "순으로 연산이 실행됨"
   ]
  },
  {
   "cell_type": "code",
   "execution_count": 8,
   "metadata": {},
   "outputs": [
    {
     "data": {
      "text/plain": [
       "18.0"
      ]
     },
     "execution_count": 8,
     "metadata": {},
     "output_type": "execute_result"
    }
   ],
   "source": [
    "4 * 3 ** 2 / 2\n",
    "\n",
    "#1. 3 ** 2 : 4 * 9 / 2\n",
    "#2. 4 * 9: 36 /2\n",
    "#3. 36 / 2: 18.0"
   ]
  },
  {
   "cell_type": "markdown",
   "metadata": {},
   "source": [
    "## 복수어(multi-word) 변수 이름 정하기\n",
    "\n",
    "- Camel case\n",
    "  * camelCaseVariableName\n",
    "- Pascal case\n",
    "  * PascalCaseVariableName\n",
    "- Snake case\n",
    "  * snake_case_variable_name"
   ]
  },
  {
   "cell_type": "markdown",
   "metadata": {},
   "source": [
    "## 변수 이용하기"
   ]
  },
  {
   "cell_type": "code",
   "execution_count": 9,
   "metadata": {},
   "outputs": [
    {
     "name": "stdout",
     "output_type": "stream",
     "text": [
      "3.9.7\n"
     ]
    }
   ],
   "source": [
    "version = '3.9.7'\n",
    "print(version)"
   ]
  },
  {
   "cell_type": "code",
   "execution_count": 10,
   "metadata": {},
   "outputs": [
    {
     "name": "stdout",
     "output_type": "stream",
     "text": [
      "100\n"
     ]
    }
   ],
   "source": [
    "n = 100\n",
    "print(n)"
   ]
  },
  {
   "cell_type": "code",
   "execution_count": 11,
   "metadata": {},
   "outputs": [
    {
     "name": "stdout",
     "output_type": "stream",
     "text": [
      "Python 3.9.7\n"
     ]
    }
   ],
   "source": [
    "print(\"Python\", version)"
   ]
  },
  {
   "cell_type": "code",
   "execution_count": 12,
   "metadata": {},
   "outputs": [
    {
     "name": "stdout",
     "output_type": "stream",
     "text": [
      "내 이름은 홍길동이고, 나이는 22 살입니다.\n"
     ]
    }
   ],
   "source": [
    "myName = '홍길동'\n",
    "age = 22\n",
    "print('내 이름은', myName+'이고, 나이는', age, '살입니다.')"
   ]
  },
  {
   "cell_type": "code",
   "execution_count": 13,
   "metadata": {
    "tags": []
   },
   "outputs": [
    {
     "name": "stdout",
     "output_type": "stream",
     "text": [
      "내 이름은 홍길동이고, 나이는 22살입니다.\n"
     ]
    }
   ],
   "source": [
    "myName = '홍길동'\n",
    "age = 22\n",
    "print(f'내 이름은 {myName}이고, 나이는 {age}살입니다.')"
   ]
  },
  {
   "cell_type": "code",
   "execution_count": 14,
   "metadata": {},
   "outputs": [
    {
     "name": "stdout",
     "output_type": "stream",
     "text": [
      "x= 5.354, y=32.450, z=-135.300\n",
      "x= 5.354, y=32.450, z=-135.300\n"
     ]
    }
   ],
   "source": [
    "# 실수형 변수의 값 출력 포맷 정하기\n",
    "x = 5.3538\n",
    "y = 32.45\n",
    "z = -135.3\n",
    "# old style\n",
    "print(\"x=%6.3f, y=%6.3f, z=%6.3f\" % (x, y, z))\n",
    "# f-string\n",
    "print(f\"x={x:6.3f}, y={y:6.3f}, z={z:6.3f}\")\n"
   ]
  },
  {
   "cell_type": "markdown",
   "metadata": {},
   "source": [
    "## 조건문\n",
    "\n",
    "1.\n",
    "```code\n",
    "if <조건식>: \n",
    "    <statement(s)>\n",
    "```\n",
    "\n",
    "\n",
    "2.\n",
    "```code\n",
    "if <조건식>: \n",
    "    <statement(s)>\n",
    "else:\n",
    "    <statement(s)>\n",
    "```\n",
    "\n",
    "3.\n",
    "\n",
    "```code\n",
    "if <조건식>: \n",
    "    <statement(s)>\n",
    "elif <조건식>:\n",
    "    <statement(s)>\n",
    "else:\n",
    "    <statement(s)>\n",
    "```"
   ]
  },
  {
   "cell_type": "markdown",
   "metadata": {},
   "source": [
    "## 반복문\n",
    "\n",
    "### For 문을 이용한 반복 제어\n",
    "\n",
    "```code\n",
    "for <var> in <iterable>: \n",
    "    <statement(s)>\n",
    "```       "
   ]
  },
  {
   "cell_type": "markdown",
   "metadata": {
    "tags": []
   },
   "source": [
    "### **예제**: 아래 셀들을 실행하면서 프로그램의 구조를 생각해 보자.\n",
    "- for loop 구조\n",
    "- indentation"
   ]
  },
  {
   "cell_type": "code",
   "execution_count": 15,
   "metadata": {
    "scrolled": true
   },
   "outputs": [
    {
     "name": "stdout",
     "output_type": "stream",
     "text": [
      "1\n",
      "2\n",
      "3\n",
      "4\n"
     ]
    }
   ],
   "source": [
    "for n in 1, 2, 3, 4:\n",
    "    print(n)"
   ]
  },
  {
   "cell_type": "code",
   "execution_count": 16,
   "metadata": {},
   "outputs": [
    {
     "name": "stdout",
     "output_type": "stream",
     "text": [
      "2, 3, 5, 7, 11, 13, 17, 19, 23, 29, "
     ]
    }
   ],
   "source": [
    "for n in 2, 3, 5, 7, 11, 13, 17, 19, 23, 29:\n",
    "    print(n, end=\", \")"
   ]
  },
  {
   "cell_type": "markdown",
   "metadata": {},
   "source": [
    "#### range 객체\n",
    "\n",
    "- range(start, stop, step) "
   ]
  },
  {
   "cell_type": "markdown",
   "metadata": {
    "tags": []
   },
   "source": [
    "### 예제. 아래 셀들을 실행하면서 프로그램의 구조를 생각해 보자."
   ]
  },
  {
   "cell_type": "code",
   "execution_count": 17,
   "metadata": {
    "scrolled": true
   },
   "outputs": [
    {
     "name": "stdout",
     "output_type": "stream",
     "text": [
      "1\n",
      "2\n",
      "3\n",
      "4\n"
     ]
    }
   ],
   "source": [
    "for n in range(1, 5):\n",
    "    print(n)"
   ]
  },
  {
   "cell_type": "code",
   "execution_count": 18,
   "metadata": {},
   "outputs": [
    {
     "name": "stdout",
     "output_type": "stream",
     "text": [
      "1\n",
      "3\n",
      "5\n",
      "7\n",
      "9\n"
     ]
    }
   ],
   "source": [
    "for n in range(1, 10, 2):\n",
    "    print(n)"
   ]
  },
  {
   "cell_type": "code",
   "execution_count": 19,
   "metadata": {},
   "outputs": [
    {
     "name": "stdout",
     "output_type": "stream",
     "text": [
      "10\n",
      "8\n",
      "6\n",
      "4\n",
      "2\n"
     ]
    }
   ],
   "source": [
    "for n in range(10, 1, -2):\n",
    "    print(n)"
   ]
  },
  {
   "cell_type": "code",
   "execution_count": 20,
   "metadata": {},
   "outputs": [
    {
     "name": "stdout",
     "output_type": "stream",
     "text": [
      "range(0, 10) : 0 10 1\n",
      "range(1, 10) : 1 10 1\n",
      "range(1, 12, 3) : 1 12 3\n"
     ]
    }
   ],
   "source": [
    "x = range(10)\n",
    "print(str(x), ':', x.start, x.stop, x.step)\n",
    "x = range(1, 10)\n",
    "print(str(x), ':',  x.start, x.stop, x.step)\n",
    "x = range(1, 12, 3)\n",
    "print(str(x), ':',  x.start, x.stop, x.step)"
   ]
  },
  {
   "cell_type": "markdown",
   "metadata": {},
   "source": [
    "##### 생각해 보기"
   ]
  },
  {
   "cell_type": "code",
   "execution_count": 21,
   "metadata": {},
   "outputs": [
    {
     "name": "stdout",
     "output_type": "stream",
     "text": [
      "2 3 4 5 6 7 8 9 10 11 12 13 14 15 16 17 18 19 20 21 22 23 24 25 26 27 28 29 30 "
     ]
    }
   ],
   "source": [
    "for n in range(2, 31):\n",
    "     print(n, end=\" \")"
   ]
  },
  {
   "cell_type": "markdown",
   "metadata": {},
   "source": [
    "#### 예제. 키보드로 입력받은 자연수가 소수인지 확인하는 프로그램을 아래 셀에 작성하라. 단, for loop을 사용하라."
   ]
  },
  {
   "cell_type": "code",
   "execution_count": 22,
   "metadata": {},
   "outputs": [
    {
     "name": "stdin",
     "output_type": "stream",
     "text": [
      "입력 :  10\n"
     ]
    },
    {
     "name": "stdout",
     "output_type": "stream",
     "text": [
      "소수 아님\n"
     ]
    }
   ],
   "source": [
    "def isPrime(num):\n",
    "    if num < 2:\n",
    "        return False\n",
    "    for i in range(2, num):\n",
    "        if num % i == 0:\n",
    "            return False\n",
    "    return True\n",
    "\n",
    "num = int(input(\"입력 : \"))\n",
    "\n",
    "result = isPrime(num)\n",
    "if result == True:\n",
    "    print(\"소수\")\n",
    "else:\n",
    "    print(\"소수 아님\")"
   ]
  },
  {
   "cell_type": "code",
   "execution_count": null,
   "metadata": {},
   "outputs": [],
   "source": []
  },
  {
   "cell_type": "code",
   "execution_count": null,
   "metadata": {},
   "outputs": [],
   "source": [
    "n = int(input(\"구구단 단 수를 입력하시오 (2 ~ 9):\"))  \n",
    "assert 2 <= n <= 9\n",
    "for i in range(1, 10):  \n",
    "    print(f\"{n} x {i} = {n*i:2}\")"
   ]
  },
  {
   "cell_type": "markdown",
   "metadata": {
    "tags": []
   },
   "source": [
    "### 예제. Console에 다음과 같은 문자열을 출력하는 프로그램을 작성하라.\n",
    "\n",
    "```\n",
    "2 x 1 =  2  3 x 1 =  3  4 x 1 =  4  5 x 1 =  5  6 x 1 =  6  7 x 1 =  7  8 x 1 =  8  9 x 1 =  9  \n",
    "2 x 2 =  4  3 x 2 =  6  4 x 2 =  8  5 x 2 = 10  6 x 2 = 12  7 x 2 = 14  8 x 2 = 16  9 x 2 = 18  \n",
    "2 x 3 =  6  3 x 3 =  9  4 x 3 = 12  5 x 3 = 15  6 x 3 = 18  7 x 3 = 21  8 x 3 = 24  9 x 3 = 27  \n",
    "2 x 4 =  8  3 x 4 = 12  4 x 4 = 16  5 x 4 = 20  6 x 4 = 24  7 x 4 = 28  8 x 4 = 32  9 x 4 = 36  \n",
    "2 x 5 = 10  3 x 5 = 15  4 x 5 = 20  5 x 5 = 25  6 x 5 = 30  7 x 5 = 35  8 x 5 = 40  9 x 5 = 45  \n",
    "2 x 6 = 12  3 x 6 = 18  4 x 6 = 24  5 x 6 = 30  6 x 6 = 36  7 x 6 = 42  8 x 6 = 48  9 x 6 = 54  \n",
    "2 x 7 = 14  3 x 7 = 21  4 x 7 = 28  5 x 7 = 35  6 x 7 = 42  7 x 7 = 49  8 x 7 = 56  9 x 7 = 63  \n",
    "2 x 8 = 16  3 x 8 = 24  4 x 8 = 32  5 x 8 = 40  6 x 8 = 48  7 x 8 = 56  8 x 8 = 64  9 x 8 = 72  \n",
    "2 x 9 = 18  3 x 9 = 27  4 x 9 = 36  5 x 9 = 45  6 x 9 = 54  7 x 9 = 63  8 x 9 = 72  9 x 9 = 81  \n",
    "```"
   ]
  },
  {
   "cell_type": "code",
   "execution_count": null,
   "metadata": {
    "scrolled": true
   },
   "outputs": [],
   "source": [
    "for num in range(1,10):\n",
    "    for dan in range(2,10):\n",
    "        print(f\"{dan} x {num} = {dan * num:2} \", end=\" \")\n",
    "    print()"
   ]
  },
  {
   "cell_type": "markdown",
   "metadata": {},
   "source": [
    "### 4.3 While Loop을 이용한 반복 제어\n",
    "\n",
    "```code\n",
    "while <boolean_expression>: \n",
    "    <statement(s)>\n",
    "```       "
   ]
  },
  {
   "cell_type": "markdown",
   "metadata": {
    "tags": []
   },
   "source": [
    "### 예제. 아래 셀들에 있는 프로그램들의 구조를 생각해 보자."
   ]
  },
  {
   "cell_type": "code",
   "execution_count": null,
   "metadata": {
    "scrolled": true
   },
   "outputs": [],
   "source": [
    "# for count in range(1, 5)\n",
    "count = 1\n",
    "while count < 5:\n",
    "   print(count)\n",
    "   count = count + 1\n"
   ]
  },
  {
   "cell_type": "code",
   "execution_count": null,
   "metadata": {
    "scrolled": true
   },
   "outputs": [],
   "source": [
    "# for count in range(-1, 10, 2)\n",
    "count = -1\n",
    "while count < 10:\n",
    "   print(count)\n",
    "   count += 2\n"
   ]
  },
  {
   "cell_type": "markdown",
   "metadata": {},
   "source": [
    "### 예제: 최대공약수를 구하는 유클리드 호제법\n",
    "\n",
    "- 208과 80의 최대공약수\n",
    "    - 208 = 80 x 2 + 48\n",
    "    - 80 = 48 x 1 + 32\n",
    "    - 48 = 32 x 1 + 16\n",
    "    - 32 = 16 x 2\n",
    "\n",
    "다음 알고리즘을 Python 프로그램으로 작성하라\n",
    "```\n",
    "Pseudo Code\n",
    "단계 1:  두 정수 중에서 큰 수를 a라고 작은 수를 b라고 하자\n",
    "단계 2:  a를 b로 나눈 나머지를 r이라고 하자\n",
    "단계 3:  r이 0이면 b를 최대공약수라 하고 단계 6으로 간다\n",
    "단계 4:  a = b,  b = r\n",
    "단계 5:  단계 2로 간다\n",
    "단계 6:  프로그램 종료\n",
    "```"
   ]
  },
  {
   "cell_type": "code",
   "execution_count": null,
   "metadata": {},
   "outputs": [],
   "source": [
    "def gcd(n1,n2): # 최대공약수를 구하는 함수\n",
    "    if n1 > n2: #단계 1\n",
    "        a = n1\n",
    "        b = n2\n",
    "    else: #단계 1\n",
    "        a = n2\n",
    "        b = n1\n",
    "    \n",
    "    r = a % b #단계 2\n",
    "    while r != 0: \n",
    "        a,b = b,r # 단계 4\n",
    "        r = a % b #단계 5\n",
    "        \n",
    "    return b #단계 3\n",
    "    \n",
    "num1 = int(input(\"첫번째 정수 입력 : \"))\n",
    "num2 = int(input(\"두번째 정수 입력 : \"))\n",
    "result = gcd(num1,num2)\n",
    "print(\"최대공약수 : \", result)"
   ]
  },
  {
   "cell_type": "code",
   "execution_count": null,
   "metadata": {},
   "outputs": [],
   "source": []
  },
  {
   "cell_type": "code",
   "execution_count": null,
   "metadata": {},
   "outputs": [],
   "source": []
  },
  {
   "cell_type": "code",
   "execution_count": null,
   "metadata": {},
   "outputs": [],
   "source": []
  },
  {
   "cell_type": "code",
   "execution_count": null,
   "metadata": {},
   "outputs": [],
   "source": []
  },
  {
   "cell_type": "markdown",
   "metadata": {},
   "source": [
    "## 모듈 이해하기"
   ]
  },
  {
   "cell_type": "code",
   "execution_count": null,
   "metadata": {},
   "outputs": [],
   "source": []
  },
  {
   "cell_type": "markdown",
   "metadata": {
    "tags": []
   },
   "source": [
    "### 문제 1. 50이하의 자연수 중에 모든 소수를 출력하는 프로그램을 아래 셀에 작성하라. 단, 중첩 (nested) for loop을 사용하라."
   ]
  },
  {
   "cell_type": "code",
   "execution_count": null,
   "metadata": {},
   "outputs": [],
   "source": [
    "for i in range(2,51): # 2~50\n",
    "    result = True\n",
    "    for j in range(2,i): # 2~i-1\n",
    "        if i%j == 0: # i를 j로 나눈 나머지가 0이면(소수가 아님)\n",
    "            result = False #result에 False저장\n",
    "            break #반복문 탈출\n",
    "    if result: #result가 True이면(소수 이면)\n",
    "        print(i, end=\" \")"
   ]
  }
 ],
 "metadata": {
  "kernelspec": {
   "display_name": "Python 3 (ipykernel)",
   "language": "python",
   "name": "python3"
  },
  "language_info": {
   "codemirror_mode": {
    "name": "ipython",
    "version": 3
   },
   "file_extension": ".py",
   "mimetype": "text/x-python",
   "name": "python",
   "nbconvert_exporter": "python",
   "pygments_lexer": "ipython3",
   "version": "3.9.7"
  },
  "latex_envs": {
   "LaTeX_envs_menu_present": true,
   "autoclose": false,
   "autocomplete": true,
   "bibliofile": "biblio.bib",
   "cite_by": "apalike",
   "current_citInitial": 1,
   "eqLabelWithNumbers": true,
   "eqNumInitial": 1,
   "hotkeys": {
    "equation": "Ctrl-E",
    "itemize": "Ctrl-I"
   },
   "labels_anchors": false,
   "latex_user_defs": false,
   "report_style_numbering": false,
   "user_envs_cfg": false
  },
  "toc": {
   "base_numbering": 1,
   "nav_menu": {},
   "number_sections": false,
   "sideBar": true,
   "skip_h1_title": false,
   "title_cell": "Table of Contents",
   "title_sidebar": "Contents",
   "toc_cell": false,
   "toc_position": {
    "height": "calc(100% - 180px)",
    "left": "10px",
    "top": "150px",
    "width": "270.5px"
   },
   "toc_section_display": true,
   "toc_window_display": false
  }
 },
 "nbformat": 4,
 "nbformat_minor": 4
}
