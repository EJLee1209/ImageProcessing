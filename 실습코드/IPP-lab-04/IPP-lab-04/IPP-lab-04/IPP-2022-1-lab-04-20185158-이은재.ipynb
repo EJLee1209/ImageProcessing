{
 "cells": [
  {
   "cell_type": "markdown",
   "id": "797d2e43-d1aa-4336-a7b7-c2247577d58a",
   "metadata": {},
   "source": [
    "<h1 align='center'> 영상처리 프로그래밍 실습 4</h1>\n",
    "\n",
    "<h6 align='right'> 2022. 3. 31. </h6>"
   ]
  },
  {
   "cell_type": "markdown",
   "id": "db5adea0",
   "metadata": {},
   "source": [
    "<div class=\"alert alert-block alert-info\">\n",
    "    \n",
    "- 파일 이름에서 00000000을 자신의 학번으로, name을 자신의 이름으로 수정하세요.\n",
    "\n",
    "- 다음 줄에 자신의 이름, 학번, 학과(전공)을 적으세요.\n",
    "\n",
    "* 이름:   &nbsp;이은재&nbsp;          학번:    &nbsp;20185158&nbsp;         학과(전공): 빅데이터\n",
    "    \n",
    "</div>\n",
    "\n",
    "- JupyterLab 문서의 최신 버전은 [JupyterLab Documentation](https://jupyterlab.readthedocs.io/en/stable/index.html#/)을  참고하라\n",
    "\n",
    "- Markdown은 [Markdown Guide](https://www.markdownguide.org/)를 참고하라.\n",
    "- [Markdown Cheat Sheet](https://www.markdownguide.org/cheat-sheet/)\n",
    "\n",
    "* 제출 마감: 4월 6일 (수) 오후 6:00까지 최종본을 SmartLEAD제출\n"
   ]
  },
  {
   "cell_type": "code",
   "execution_count": 1,
   "id": "34e117ec",
   "metadata": {},
   "outputs": [
    {
     "name": "stdout",
     "output_type": "stream",
     "text": [
      "OpenCV version 4.5.5\n",
      "NumPy version 1.20.3\n"
     ]
    }
   ],
   "source": [
    "import cv2\n",
    "import matplotlib.pyplot as plt\n",
    "import matplotlib.image as mpimg\n",
    "\n",
    "import numpy as np\n",
    "print(\"OpenCV version\", cv2.__version__)\n",
    "print(\"NumPy version\", np.__version__)"
   ]
  },
  {
   "cell_type": "markdown",
   "id": "5d8a3574-a667-4851-917c-8d0b08922f7a",
   "metadata": {},
   "source": [
    "## 지난 주 예제 8."
   ]
  },
  {
   "cell_type": "code",
   "execution_count": 83,
   "id": "d46da187-1438-4a26-9b5f-b1a873b1e616",
   "metadata": {},
   "outputs": [],
   "source": [
    "white = (255, 255, 255)\n",
    "img = cv2.imread(\"bird.png\")\n",
    "\n",
    "pt1 = np.array([30, 30])\n",
    "rect = [300, 200]\n",
    "img_a = img.copy()\n",
    "cv2.rectangle(img_a, pt1, rect, white, cv2.LINE_4)\n",
    "\n",
    "cropped_img = img[pt1[0]:pt1[0]+rect[1],pt1[1]:pt1[1]+rect[0],:]\n",
    "cv2.imshow(\"Cropped\", cropped_img)\n",
    "cv2.imshow(\"Image\", img_a)\n",
    "\n",
    "while cv2.waitKey(0) != ord('q'):\n",
    "    pass\n",
    "\n",
    "cv2.destroyAllWindows()"
   ]
  },
  {
   "cell_type": "markdown",
   "id": "bef394ab-26a0-48ab-97f2-9b4df39d2945",
   "metadata": {},
   "source": [
    "## 지난 주 문제 1.\n",
    "\n",
    "예제 8의 프로그램을 다음과 같이 수정하라.\n",
    "\n",
    "1. 'Image' 윈도우에서 마우스 왼쪽 버튼을 클릭하면 그 위치가 하얀색 창의 왼쪽 위 꼭지점의 좌표를 지정하게 되고, 흰색 창의 크기가 변하고 흰색 창에 포함된 영상이 'Cropped' 윈도우에 표시된다.\n",
    "\n",
    "2. 'Image' 윈도우에서 마우스 오른쪽 버튼을 클릭하면 그 위치가 하얀색 창의 오른쪽 아래 꼭지점의 좌표를 지정하게 되고, 흰색 창의 크기가 변하고 흰색 창에 포함된 영상이 'Cropped' 윈도우에 표시된다.\n",
    "\n",
    "3. 'Cropped' 윈도우에서 왼쪽 마우스 버튼을 클릭하면 사용자에게 저장할 파일 이름을 입력받아서 'Cropped' 윈도우에 표시된 영상 부분을 별도의 파일로 저장한다."
   ]
  },
  {
   "cell_type": "code",
   "execution_count": 97,
   "id": "79c87fe4-4b57-46e2-8fce-08181e5c544d",
   "metadata": {},
   "outputs": [],
   "source": [
    "def onMouseClick(event, x, y, flags, param):\n",
    "    global pt1, pt2, img_a, cropped_img, clicked\n",
    "    if event == cv2.EVENT_LBUTTONUP:\n",
    "        pt1 = x, y\n",
    "        clicked = clicked | LUP\n",
    "        if clicked == (LUP | RUP) :\n",
    "            img_a = img.copy()\n",
    "            cv2.rectangle(img_a, pt1, pt2, white, cv2.LINE_4)\n",
    "            cropped_img = img[pt1[1]:pt2[1]+1, pt1[0]:pt2[0]+1,:]\n",
    "            cv2.imshow(\"Cropped\", cropped_img)\n",
    "            cv2.imshow(\"Image\", img_a)\n",
    "            clicked = UNCLICKED\n",
    "        else: #왼쪽이 눌렸는데 오른쪽은 안눌린 상태\n",
    "            img_a = img.copy()\n",
    "            cv2.imshow(\"Image\", img_a)\n",
    "\n",
    "\n",
    "\n",
    "    elif event == cv2.EVENT_RBUTTONUP:\n",
    "        pt2 = x, y\n",
    "        clicked = clicked | RUP\n",
    "        if clicked == (LUP | RUP) :\n",
    "            img_a = img.copy()\n",
    "            cv2.rectangle(img_a, pt1, pt2, white, cv2.LINE_4)\n",
    "            cropped_img = img[pt1[1]:pt2[1]+1, pt1[0]:pt2[0]+1,:]\n",
    "            cv2.imshow(\"Cropped\", cropped_img)\n",
    "            cv2.imshow(\"Image\", img_a)\n",
    "            clicked = UNCLICKED\n",
    "        else: #오른쪽이 눌렸는데 왼쪽은 안눌린 상태\n",
    "            img_a = img.copy()\n",
    "            cv2.imshow(\"Image\", img_a)\n",
    "\n",
    "            \n",
    "def saveCroppedImage(event, x, y, flags, param):\n",
    "    global cropped_img\n",
    "    if event == cv2.EVENT_LBUTTONUP:\n",
    "        file_name = input(\"Enter a file name:\")\n",
    "        cv2.imwrite(file_name, cropped_img)\n",
    "\n",
    "white = (255, 255, 255)\n",
    "img = cv2.imread(\"bird.png\")\n",
    "\n",
    "UNCLICKED = 0\n",
    "LUP = 1\n",
    "RUP = 2\n",
    "clicked = UNCLICKED\n",
    "\n",
    "\n",
    "\n",
    "img_a = img.copy()\n",
    "\n",
    "#cv2.namedWindow(\"Image\", cv2.WINDOW_GUI_NORMAL)\n",
    "cv2.namedWindow(\"Cropped\", cv2.WINDOW_GUI_NORMAL)\n",
    "cv2.imshow(\"Image\", img_a)\n",
    "\n",
    "cv2.setMouseCallback(\"Image\", onMouseClick)\n",
    "cv2.setMouseCallback(\"Cropped\", saveCroppedImage)\n",
    "while cv2.waitKey(0) != ord('q'):\n",
    "    pass\n",
    "\n",
    "\n",
    "cv2.destroyAllWindows()"
   ]
  },
  {
   "cell_type": "markdown",
   "id": "fcd22c59-4d56-4c37-bc7e-b8081b9da2db",
   "metadata": {},
   "source": [
    "## NumPy의 다차원 배열의 axis 이해하기"
   ]
  },
  {
   "cell_type": "code",
   "execution_count": 4,
   "id": "818cfc36-241b-4a15-a5f6-7f78216111ad",
   "metadata": {},
   "outputs": [
    {
     "data": {
      "text/plain": [
       "array([  1,   3,   5,   7,   9,  11,  13,  15,  17,  19,  21,  23,  25,\n",
       "        27,  29,  31,  33,  35,  37,  39,  41,  43,  45,  47,  49,  51,\n",
       "        53,  55,  57,  59,  61,  63,  65,  67,  69,  71,  73,  75,  77,\n",
       "        79,  81,  83,  85,  87,  89,  91,  93,  95,  97,  99, 101, 103,\n",
       "       105, 107, 109, 111, 113, 115, 117, 119])"
      ]
     },
     "execution_count": 4,
     "metadata": {},
     "output_type": "execute_result"
    }
   ],
   "source": [
    "arr = np.arange(1, 121, 2)\n",
    "arr"
   ]
  },
  {
   "cell_type": "code",
   "execution_count": 5,
   "id": "bed35549-a853-4841-b4f3-49597f74593e",
   "metadata": {},
   "outputs": [
    {
     "data": {
      "text/plain": [
       "(60,)"
      ]
     },
     "execution_count": 5,
     "metadata": {},
     "output_type": "execute_result"
    }
   ],
   "source": [
    "arr.shape"
   ]
  },
  {
   "cell_type": "markdown",
   "id": "f079ef1f-34a2-4b1c-bd12-262add0f002a",
   "metadata": {},
   "source": [
    "- arr을 shape이 (3, 4, 5)인 배열의 view를 arr3라 하고, arr3를 만들어라."
   ]
  },
  {
   "cell_type": "code",
   "execution_count": 6,
   "id": "20cf0304-c61f-40dc-9ea8-c155c3fc0214",
   "metadata": {},
   "outputs": [
    {
     "data": {
      "text/plain": [
       "array([[[  1,   3,   5,   7,   9],\n",
       "        [ 11,  13,  15,  17,  19],\n",
       "        [ 21,  23,  25,  27,  29],\n",
       "        [ 31,  33,  35,  37,  39]],\n",
       "\n",
       "       [[ 41,  43,  45,  47,  49],\n",
       "        [ 51,  53,  55,  57,  59],\n",
       "        [ 61,  63,  65,  67,  69],\n",
       "        [ 71,  73,  75,  77,  79]],\n",
       "\n",
       "       [[ 81,  83,  85,  87,  89],\n",
       "        [ 91,  93,  95,  97,  99],\n",
       "        [101, 103, 105, 107, 109],\n",
       "        [111, 113, 115, 117, 119]]])"
      ]
     },
     "execution_count": 6,
     "metadata": {},
     "output_type": "execute_result"
    }
   ],
   "source": [
    "arr3 = arr.reshape(3,4,5) # = arr.reshape(-1,4,5) = arr.reshape(3,-1,5) = = arr.reshape(3,4,-1)\n",
    "arr3"
   ]
  },
  {
   "cell_type": "code",
   "execution_count": 37,
   "id": "46df8398-b6a8-4df8-8581-026fca7ebe74",
   "metadata": {},
   "outputs": [
    {
     "data": {
      "text/plain": [
       "array([200,   3,   5,   7,   9,  11,  13,  15,  17,  19,  21,  23,  25,\n",
       "        27,  29,  31,  33,  35,  37,  39,  41,  43,  45,  47,  49,  51,\n",
       "        53,  55,  57,  59,  61,  63,  65,  67,  69,  71,  73,  75,  77,\n",
       "        79,  81,  83,  85,  87,  89,  91,  93,  95,  97,  99, 101, 103,\n",
       "       105, 107, 109, 111, 113, 115, 117, 119])"
      ]
     },
     "execution_count": 37,
     "metadata": {},
     "output_type": "execute_result"
    }
   ],
   "source": [
    "arr[0] = 200\n",
    "arr"
   ]
  },
  {
   "cell_type": "code",
   "execution_count": 12,
   "id": "bd4c7541-cc34-47c4-977b-5c41a1ffc384",
   "metadata": {},
   "outputs": [
    {
     "data": {
      "text/plain": [
       "array([[[200,   3,   5,   7,   9],\n",
       "        [ 11,  13,  15,  17,  19],\n",
       "        [ 21,  23,  25,  27,  29],\n",
       "        [ 31,  33,  35,  37,  39]],\n",
       "\n",
       "       [[ 41,  43,  45,  47,  49],\n",
       "        [ 51,  53,  55,  57,  59],\n",
       "        [ 61,  63,  65,  67,  69],\n",
       "        [ 71,  73,  75,  77,  79]],\n",
       "\n",
       "       [[ 81,  83,  85,  87,  89],\n",
       "        [ 91,  93,  95,  97,  99],\n",
       "        [101, 103, 105, 107, 109],\n",
       "        [111, 113, 115, 117, 119]]])"
      ]
     },
     "execution_count": 12,
     "metadata": {},
     "output_type": "execute_result"
    }
   ],
   "source": [
    "arr3"
   ]
  },
  {
   "cell_type": "markdown",
   "id": "b5b64ee8-ba4e-4b91-adb6-5f2886dc11df",
   "metadata": {},
   "source": [
    "- np.sum() 함수를 이용하여 61, 63, 65, 67, 69의 합 325 구하기"
   ]
  },
  {
   "cell_type": "code",
   "execution_count": 8,
   "id": "0f2da6e9",
   "metadata": {},
   "outputs": [
    {
     "data": {
      "text/plain": [
       "array([[ 25,  75, 125, 175],\n",
       "       [225, 275, 325, 375],\n",
       "       [425, 475, 525, 575]])"
      ]
     },
     "execution_count": 8,
     "metadata": {},
     "output_type": "execute_result"
    }
   ],
   "source": [
    "np.sum(arr3,2) # np.sum(arr3, axis=2)"
   ]
  },
  {
   "cell_type": "code",
   "execution_count": 38,
   "id": "71579e41-47fe-4529-a6a3-257f17815fb8",
   "metadata": {},
   "outputs": [
    {
     "data": {
      "text/plain": [
       "325"
      ]
     },
     "execution_count": 38,
     "metadata": {},
     "output_type": "execute_result"
    }
   ],
   "source": [
    "np.sum(arr3, 2)[1,2] "
   ]
  },
  {
   "cell_type": "markdown",
   "id": "6aba3b66-4b73-40de-ab6a-05056e6ba8c8",
   "metadata": {},
   "source": [
    "- np.sum() 함수를 이용하여 47, 57, 67, 77의 합 248 구하기"
   ]
  },
  {
   "cell_type": "code",
   "execution_count": 10,
   "id": "0921b941-9ad4-4eb9-9c4e-92effb317619",
   "metadata": {},
   "outputs": [
    {
     "data": {
      "text/plain": [
       "array([[ 64,  72,  80,  88,  96],\n",
       "       [224, 232, 240, 248, 256],\n",
       "       [384, 392, 400, 408, 416]])"
      ]
     },
     "execution_count": 10,
     "metadata": {},
     "output_type": "execute_result"
    }
   ],
   "source": [
    "np.sum(arr3, 1) # np.sum(arr3, axis=1)"
   ]
  },
  {
   "cell_type": "code",
   "execution_count": 40,
   "id": "297517e5-762c-475c-8c91-880b74b1f8ca",
   "metadata": {},
   "outputs": [
    {
     "data": {
      "text/plain": [
       "248"
      ]
     },
     "execution_count": 40,
     "metadata": {},
     "output_type": "execute_result"
    }
   ],
   "source": [
    "np.sum(arr3, 1)[1,3]"
   ]
  },
  {
   "cell_type": "markdown",
   "id": "4892ba25-6b2f-4cea-bc34-d90599135767",
   "metadata": {
    "tags": []
   },
   "source": [
    "- np.sum() 함수를 이용하여 15, 55, 95의 합 165 구하기"
   ]
  },
  {
   "cell_type": "code",
   "execution_count": 12,
   "id": "65533b5b",
   "metadata": {},
   "outputs": [
    {
     "data": {
      "text/plain": [
       "array([[123, 129, 135, 141, 147],\n",
       "       [153, 159, 165, 171, 177],\n",
       "       [183, 189, 195, 201, 207],\n",
       "       [213, 219, 225, 231, 237]])"
      ]
     },
     "execution_count": 12,
     "metadata": {},
     "output_type": "execute_result"
    }
   ],
   "source": [
    "np.sum(arr3,0) # axis = 0"
   ]
  },
  {
   "cell_type": "code",
   "execution_count": 11,
   "id": "775face0-d214-4b66-83bd-947202dce181",
   "metadata": {},
   "outputs": [
    {
     "data": {
      "text/plain": [
       "165"
      ]
     },
     "execution_count": 11,
     "metadata": {},
     "output_type": "execute_result"
    }
   ],
   "source": [
    "np.sum(arr3, 0)[1,2]"
   ]
  },
  {
   "cell_type": "markdown",
   "id": "e666f6ea",
   "metadata": {},
   "source": [
    "# NumPy ndarray 객체 구조 이해\n",
    "\n",
    "### NumPy 데이터 타입 이해\n",
    "```\n",
    "getsizeof(...)\n",
    "    getsizeof(object [, default]) -> int\n",
    "    \n",
    "    Return the size of object in bytes.\n",
    "```"
   ]
  },
  {
   "cell_type": "code",
   "execution_count": 44,
   "id": "91319c9e-23e5-402f-bb5d-3b8504e6496e",
   "metadata": {
    "tags": []
   },
   "outputs": [
    {
     "name": "stdout",
     "output_type": "stream",
     "text": [
      "Help on built-in function getsizeof in module sys:\n",
      "\n",
      "getsizeof(...)\n",
      "    getsizeof(object [, default]) -> int\n",
      "    \n",
      "    Return the size of object in bytes.\n",
      "\n"
     ]
    }
   ],
   "source": [
    "help(sys.getsizeof) "
   ]
  },
  {
   "cell_type": "markdown",
   "id": "2dff4482-000f-460b-8006-947fec9f037d",
   "metadata": {},
   "source": [
    "## 예제 1. \n",
    "sys.getsizeof() 함수를 사용하여 ndarray의 원소의 개수에 따른 객체의 크기 확인하기\n"
   ]
  },
  {
   "cell_type": "code",
   "execution_count": 3,
   "id": "18208d3a-209c-4bd9-a7aa-097a6a06b21a",
   "metadata": {},
   "outputs": [],
   "source": [
    "import sys"
   ]
  },
  {
   "cell_type": "code",
   "execution_count": 4,
   "id": "76970972-5fa2-440c-91ce-457085c661a1",
   "metadata": {},
   "outputs": [],
   "source": [
    "def info_array(arr):\n",
    "    print(arr)\n",
    "    print(\"dtype:\", arr.dtype)\n",
    "    print(\"size:\", sys.getsizeof(arr))\n",
    "    print(\"id:\", id(arr))"
   ]
  },
  {
   "cell_type": "markdown",
   "id": "697ba98a-cec3-4f22-b0ab-a634bc7834f6",
   "metadata": {},
   "source": [
    "#### 1.1 빈 ndarray 객체의 크기는 얼마인가?"
   ]
  },
  {
   "cell_type": "code",
   "execution_count": 5,
   "id": "4736591a-1138-44a0-b5f4-1cb48d236208",
   "metadata": {},
   "outputs": [
    {
     "name": "stdout",
     "output_type": "stream",
     "text": [
      "[]\n",
      "dtype: float64\n",
      "size: 104\n",
      "id: 140517912328304\n"
     ]
    }
   ],
   "source": [
    "empty_array = np.array([]) # empty array\n",
    "info_array(empty_array)"
   ]
  },
  {
   "cell_type": "markdown",
   "id": "6114150d-f9b9-469a-ba8f-3651b408808e",
   "metadata": {},
   "source": [
    "#### 1.2 ndarray의 dtype에 따른 ndarray 객체의 크기 살펴 보기"
   ]
  },
  {
   "cell_type": "code",
   "execution_count": 6,
   "id": "2a202027",
   "metadata": {},
   "outputs": [
    {
     "name": "stdout",
     "output_type": "stream",
     "text": [
      "[0 1 2 3]\n",
      "dtype: int16\n",
      "size: 112\n",
      "id: 140517912328976\n"
     ]
    }
   ],
   "source": [
    "i32_array = np.arange(4, dtype=np.int16) # 16bit -> 2byte\n",
    "info_array(i32_array)"
   ]
  },
  {
   "cell_type": "code",
   "execution_count": 8,
   "id": "363b06a9-abb3-407e-82dd-43c4028b1e2f",
   "metadata": {},
   "outputs": [
    {
     "name": "stdout",
     "output_type": "stream",
     "text": [
      "[0 1 2 3]\n",
      "dtype: int32\n",
      "size: 120\n",
      "id: 140553077992592\n"
     ]
    }
   ],
   "source": [
    "#32-bit integer\n",
    "i32_array = np.arange(4, dtype= np.int32) # 32bit -> 4byte\n",
    "info_array(i32_array)"
   ]
  },
  {
   "cell_type": "code",
   "execution_count": 10,
   "id": "8c52c163-1396-490f-a00f-75241c475bc5",
   "metadata": {},
   "outputs": [
    {
     "name": "stdout",
     "output_type": "stream",
     "text": [
      "[0 1 2 3]\n",
      "dtype: int64\n",
      "size: 136\n",
      "id: 140553904886192\n"
     ]
    }
   ],
   "source": [
    "#64-bit integer\n",
    "i64_array = np.arange(4, dtype= np.int64) # 64bit -> 8byte\n",
    "info_array(i64_array)"
   ]
  },
  {
   "cell_type": "code",
   "execution_count": 9,
   "id": "bfdbab42-b306-4372-9c45-553ae5cc1447",
   "metadata": {},
   "outputs": [
    {
     "name": "stdout",
     "output_type": "stream",
     "text": [
      "[0 1 2 3]\n",
      "dtype: uint8\n",
      "size: 108\n",
      "id: 140553881695408\n"
     ]
    }
   ],
   "source": [
    "#8-bit unsigned integer\n",
    "u8_array = np.arange(4, dtype= np.uint8)\n",
    "info_array(u8_array)"
   ]
  },
  {
   "cell_type": "code",
   "execution_count": 12,
   "id": "0c3e2d84-ddf6-4865-aeb3-cd4ee088dd59",
   "metadata": {},
   "outputs": [
    {
     "name": "stdout",
     "output_type": "stream",
     "text": [
      "[0. 1. 2. 3.]\n",
      "dtype: float16\n",
      "size: 112\n",
      "id: 140553881697040\n"
     ]
    }
   ],
   "source": [
    "f16_array = np.arange(4, dtype= np.float16)\n",
    "info_array(f16_array)"
   ]
  },
  {
   "cell_type": "markdown",
   "id": "4c4a2402-63ee-4619-9f62-f772b691d71f",
   "metadata": {
    "tags": []
   },
   "source": [
    "## 예제 2. \n",
    "sys.getsizeof() 함수를 사용하여 ndarray의 원소의 개수에 따른 객체의 크기 확인하기cv\n"
   ]
  },
  {
   "cell_type": "code",
   "execution_count": null,
   "id": "d3ab39d7-a045-49ca-8b8f-f5553b2359d9",
   "metadata": {},
   "outputs": [],
   "source": []
  },
  {
   "cell_type": "markdown",
   "id": "631354b3-4302-4c30-944f-8aaf595dd4e5",
   "metadata": {
    "tags": []
   },
   "source": [
    "## 예제 3. \n",
    "sys.getsizeof() 함수를 사용하여 ndarray와 view 객체의 크기 확인하기\n"
   ]
  },
  {
   "cell_type": "code",
   "execution_count": 16,
   "id": "30b80b14",
   "metadata": {},
   "outputs": [
    {
     "data": {
      "text/plain": [
       "array([[[ 0,  1,  2,  3],\n",
       "        [ 4,  5,  6,  7],\n",
       "        [ 8,  9, 10, 11]],\n",
       "\n",
       "       [[12, 13, 14, 15],\n",
       "        [16, 17, 18, 19],\n",
       "        [20, 21, 22, 23]]])"
      ]
     },
     "execution_count": 16,
     "metadata": {},
     "output_type": "execute_result"
    }
   ],
   "source": [
    "x = np.arange(24)\n",
    "y = x.reshape(2,3,4)\n",
    "y"
   ]
  },
  {
   "cell_type": "code",
   "execution_count": 17,
   "id": "9eec3a3e",
   "metadata": {},
   "outputs": [
    {
     "data": {
      "text/plain": [
       "(24, 24)"
      ]
     },
     "execution_count": 17,
     "metadata": {},
     "output_type": "execute_result"
    }
   ],
   "source": [
    "x.size, y.size"
   ]
  },
  {
   "cell_type": "code",
   "execution_count": 13,
   "id": "f8234654",
   "metadata": {},
   "outputs": [
    {
     "name": "stdout",
     "output_type": "stream",
     "text": [
      "[ 0  1  2  3  4  5  6  7  8  9 10 11 12 13 14 15 16 17 18 19 20 21 22 23]\n",
      "dtype: int64\n",
      "size: 296\n",
      "id: 140553078133360\n"
     ]
    }
   ],
   "source": [
    "info_array(x)"
   ]
  },
  {
   "cell_type": "code",
   "execution_count": 14,
   "id": "fac02b6e",
   "metadata": {},
   "outputs": [
    {
     "name": "stdout",
     "output_type": "stream",
     "text": [
      "[[[ 0  1  2  3]\n",
      "  [ 4  5  6  7]\n",
      "  [ 8  9 10 11]]\n",
      "\n",
      " [[12 13 14 15]\n",
      "  [16 17 18 19]\n",
      "  [20 21 22 23]]]\n",
      "dtype: int64\n",
      "size: 136\n",
      "id: 140553078133456\n"
     ]
    }
   ],
   "source": [
    "info_array(y)"
   ]
  },
  {
   "cell_type": "code",
   "execution_count": 19,
   "id": "61cd20e5",
   "metadata": {},
   "outputs": [],
   "source": [
    "a1 = np.array([])\n",
    "a2 = np.array([[]])\n",
    "a3 = np.array([[[]]])"
   ]
  },
  {
   "cell_type": "code",
   "execution_count": 20,
   "id": "94015f98",
   "metadata": {},
   "outputs": [
    {
     "data": {
      "text/plain": [
       "((0,), (1, 0), (1, 1, 0))"
      ]
     },
     "execution_count": 20,
     "metadata": {},
     "output_type": "execute_result"
    }
   ],
   "source": [
    "a1.shape, a2.shape, a3.shape"
   ]
  },
  {
   "cell_type": "code",
   "execution_count": 22,
   "id": "ef125ef9",
   "metadata": {},
   "outputs": [
    {
     "name": "stdout",
     "output_type": "stream",
     "text": [
      "[]\n",
      "dtype: float64\n",
      "size: 112\n",
      "id: 2643348381296\n"
     ]
    }
   ],
   "source": [
    "info_array(a1)"
   ]
  },
  {
   "cell_type": "code",
   "execution_count": 23,
   "id": "46ef6d6f",
   "metadata": {},
   "outputs": [
    {
     "name": "stdout",
     "output_type": "stream",
     "text": [
      "[]\n",
      "dtype: float64\n",
      "size: 128\n",
      "id: 2643348381104\n"
     ]
    }
   ],
   "source": [
    "info_array(a2)"
   ]
  },
  {
   "cell_type": "code",
   "execution_count": 24,
   "id": "0a50b6e2",
   "metadata": {},
   "outputs": [
    {
     "name": "stdout",
     "output_type": "stream",
     "text": [
      "[]\n",
      "dtype: float64\n",
      "size: 144\n",
      "id: 2643348582928\n"
     ]
    }
   ],
   "source": [
    "info_array(a3)"
   ]
  },
  {
   "cell_type": "code",
   "execution_count": 25,
   "id": "eda809d8-82bd-4079-ad9d-ca7d21fc9263",
   "metadata": {},
   "outputs": [
    {
     "name": "stdout",
     "output_type": "stream",
     "text": [
      "[10 11 12 13 14]\n",
      "dtype: int32\n",
      "size: 112\n",
      "id: 2643348583312\n"
     ]
    }
   ],
   "source": [
    "info_array(x[10:15])"
   ]
  },
  {
   "cell_type": "code",
   "execution_count": 26,
   "id": "d800207b-d870-49eb-9f71-3e6c0cc5c8e7",
   "metadata": {},
   "outputs": [
    {
     "data": {
      "text/plain": [
       "array([ 0,  1,  2,  3,  4,  5,  6,  7,  8,  9, 10, 11, 12, 13, 14, 15, 16,\n",
       "       17, 18, 19, 20, 21, 22, 23])"
      ]
     },
     "execution_count": 26,
     "metadata": {},
     "output_type": "execute_result"
    }
   ],
   "source": [
    "x"
   ]
  },
  {
   "cell_type": "code",
   "execution_count": 29,
   "id": "e4f80876",
   "metadata": {},
   "outputs": [
    {
     "data": {
      "text/plain": [
       "array([10, 11, 12, 13, 14])"
      ]
     },
     "execution_count": 29,
     "metadata": {},
     "output_type": "execute_result"
    }
   ],
   "source": [
    "x1 = x[10:15]\n",
    "x1"
   ]
  },
  {
   "cell_type": "code",
   "execution_count": 30,
   "id": "734d0f43",
   "metadata": {},
   "outputs": [
    {
     "data": {
      "text/plain": [
       "array([110,  11,  12,  13,  14])"
      ]
     },
     "execution_count": 30,
     "metadata": {},
     "output_type": "execute_result"
    }
   ],
   "source": [
    "x1[0] += 100\n",
    "x1"
   ]
  },
  {
   "cell_type": "code",
   "execution_count": 31,
   "id": "1bad0ff4",
   "metadata": {},
   "outputs": [
    {
     "data": {
      "text/plain": [
       "array([  0,   1,   2,   3,   4,   5,   6,   7,   8,   9, 110,  11,  12,\n",
       "        13,  14,  15,  16,  17,  18,  19,  20,  21,  22,  23])"
      ]
     },
     "execution_count": 31,
     "metadata": {},
     "output_type": "execute_result"
    }
   ],
   "source": [
    "x"
   ]
  },
  {
   "cell_type": "markdown",
   "id": "5bcc6b59",
   "metadata": {
    "tags": []
   },
   "source": [
    "### NumPy view를 이용한 image cropping"
   ]
  },
  {
   "cell_type": "code",
   "execution_count": 7,
   "id": "0d95c8ad-4b16-45d7-a6ea-3b7b1ae44d7b",
   "metadata": {},
   "outputs": [
    {
     "data": {
      "text/plain": [
       "<matplotlib.image.AxesImage at 0x7fcd01637190>"
      ]
     },
     "execution_count": 7,
     "metadata": {},
     "output_type": "execute_result"
    },
    {
     "data": {
      "image/png": "[encoded data removed]",
      "text/plain": [
       "<Figure size 432x288 with 1 Axes>"
      ]
     },
     "metadata": {
      "needs_background": "light"
     },
     "output_type": "display_data"
    }
   ],
   "source": [
    "img = plt.imread('bird.png')\n",
    "plt.imshow(img)"
   ]
  },
  {
   "cell_type": "code",
   "execution_count": 8,
   "id": "b1fb36d3-ad88-4a02-8954-f95b29800815",
   "metadata": {},
   "outputs": [
    {
     "data": {
      "text/plain": [
       "<matplotlib.image.AxesImage at 0x7fccf0f6f400>"
      ]
     },
     "execution_count": 8,
     "metadata": {},
     "output_type": "execute_result"
    },
    {
     "data": {
      "image/png": "[encoded data removed]",
      "text/plain": [
       "<Figure size 432x288 with 1 Axes>"
      ]
     },
     "metadata": {
      "needs_background": "light"
     },
     "output_type": "display_data"
    }
   ],
   "source": [
    "img_cropped = img[100:200,100:200,::]\n",
    "plt.imshow(img_cropped)"
   ]
  },
  {
   "cell_type": "code",
   "execution_count": 40,
   "id": "036f49f7-9cde-42df-8726-ced6e7b7e0ba",
   "metadata": {},
   "outputs": [
    {
     "data": {
      "text/plain": [
       "(4352144, 144)"
      ]
     },
     "execution_count": 40,
     "metadata": {},
     "output_type": "execute_result"
    }
   ],
   "source": [
    "sys.getsizeof(img), sys.getsizeof(img_cropped)"
   ]
  },
  {
   "cell_type": "code",
   "execution_count": 41,
   "id": "5b840a37-0c08-4c75-860a-c42017fa872b",
   "metadata": {},
   "outputs": [
    {
     "data": {
      "text/plain": [
       "(425, 640, 4)"
      ]
     },
     "execution_count": 41,
     "metadata": {},
     "output_type": "execute_result"
    }
   ],
   "source": [
    "img.shape"
   ]
  },
  {
   "cell_type": "code",
   "execution_count": 42,
   "id": "20d4290a-da58-49ff-9f1d-7ffb23891b72",
   "metadata": {},
   "outputs": [
    {
     "data": {
      "text/plain": [
       "4352144"
      ]
     },
     "execution_count": 42,
     "metadata": {},
     "output_type": "execute_result"
    }
   ],
   "source": [
    "sys.getsizeof(img)"
   ]
  },
  {
   "cell_type": "code",
   "execution_count": 44,
   "id": "34e26435-a719-40c5-959b-2b92770e0129",
   "metadata": {},
   "outputs": [
    {
     "data": {
      "text/plain": [
       "144"
      ]
     },
     "execution_count": 44,
     "metadata": {},
     "output_type": "execute_result"
    }
   ],
   "source": [
    "sys.getsizeof(img_cropped)"
   ]
  },
  {
   "cell_type": "code",
   "execution_count": 45,
   "id": "17b70224-0168-4de7-821c-07f71fd7bcfd",
   "metadata": {},
   "outputs": [
    {
     "data": {
      "text/plain": [
       "(112, 128, 144)"
      ]
     },
     "execution_count": 45,
     "metadata": {},
     "output_type": "execute_result"
    }
   ],
   "source": [
    "sys.getsizeof(np.array([])), sys.getsizeof(np.array([[]])), sys.getsizeof(np.array([[[]]]))"
   ]
  },
  {
   "cell_type": "code",
   "execution_count": 46,
   "id": "4c36e02c-d2b6-4913-a19d-e8b876626a70",
   "metadata": {},
   "outputs": [
    {
     "name": "stdout",
     "output_type": "stream",
     "text": [
      "2643350523696\n",
      "2643350522256\n"
     ]
    }
   ],
   "source": [
    "img1 = img[100:200,100:200,:]\n",
    "print(id(img1))\n",
    "img2 = img[200:300,200:300,:]\n",
    "print(id(img2))"
   ]
  },
  {
   "cell_type": "code",
   "execution_count": 35,
   "id": "4303e2c4",
   "metadata": {},
   "outputs": [
    {
     "data": {
      "text/plain": [
       "array([0, 1, 2, 3])"
      ]
     },
     "execution_count": 35,
     "metadata": {},
     "output_type": "execute_result"
    }
   ],
   "source": [
    "x = np.arange(4, dtype=np.int32)\n",
    "x"
   ]
  },
  {
   "cell_type": "code",
   "execution_count": 36,
   "id": "b5ec5d44-c894-48c7-b3be-a93c7a9dc85f",
   "metadata": {
    "tags": []
   },
   "outputs": [
    {
     "data": {
      "text/plain": [
       "array([0, 0, 0, 0, 1, 0, 0, 0, 2, 0, 0, 0, 3, 0, 0, 0], dtype=uint8)"
      ]
     },
     "execution_count": 36,
     "metadata": {},
     "output_type": "execute_result"
    }
   ],
   "source": [
    "y = x.view(dtype=np.uint8)\n",
    "y"
   ]
  },
  {
   "cell_type": "code",
   "execution_count": null,
   "id": "95b11ce7-4e02-46f4-a469-5f14cc486431",
   "metadata": {},
   "outputs": [],
   "source": [
    "sys.getsizeof(x), sys.getsizeof(y)"
   ]
  },
  {
   "cell_type": "code",
   "execution_count": null,
   "id": "6c06261b-a95a-48fd-9e64-831efaa732a9",
   "metadata": {},
   "outputs": [],
   "source": [
    "x = np.arange(8, dtype=np.int32)\n",
    "y = x.view(dtype=np.uint8)\n",
    "y"
   ]
  },
  {
   "cell_type": "code",
   "execution_count": null,
   "id": "5f34272a-8445-4ae0-aac2-2f11d9e03118",
   "metadata": {},
   "outputs": [],
   "source": [
    "sys.getsizeof(x), sys.getsizeof(y)"
   ]
  },
  {
   "cell_type": "code",
   "execution_count": null,
   "id": "8a04b9a4-f95e-4343-bfc1-62eb3fa0cb6e",
   "metadata": {},
   "outputs": [],
   "source": [
    "empty_arr = np.array([], dtype=np.int32)\n",
    "sys.getsizeof(empty_arr)"
   ]
  },
  {
   "cell_type": "markdown",
   "id": "afe9812b-b6e6-4883-a440-c3ffc9c2835e",
   "metadata": {},
   "source": [
    "## NumPy 브로드캐스팅 연습"
   ]
  },
  {
   "cell_type": "code",
   "execution_count": 9,
   "id": "3693ca43-f515-43a9-9acb-6a2ae1b0a894",
   "metadata": {},
   "outputs": [
    {
     "data": {
      "text/plain": [
       "array([[1, 2, 3],\n",
       "       [4, 5, 6]])"
      ]
     },
     "execution_count": 9,
     "metadata": {},
     "output_type": "execute_result"
    }
   ],
   "source": [
    "a = np.arange(1, 7).reshape(2,3)\n",
    "a"
   ]
  },
  {
   "cell_type": "markdown",
   "id": "7ba4dd53-9697-4b0c-97b2-e920f818e267",
   "metadata": {},
   "source": [
    "####  배열 a와 연산 가능한 배열의 shape을 모두 적어라"
   ]
  },
  {
   "cell_type": "code",
   "execution_count": 10,
   "id": "4c3e9560-e1e0-4413-8a28-4ce62f647c18",
   "metadata": {
    "tags": []
   },
   "outputs": [
    {
     "data": {
      "text/plain": [
       "(2, 3)"
      ]
     },
     "execution_count": 10,
     "metadata": {},
     "output_type": "execute_result"
    }
   ],
   "source": [
    "b = np.arange(11, 17).reshape(2,3)\n",
    "b.shape"
   ]
  },
  {
   "cell_type": "code",
   "execution_count": 11,
   "id": "4fa1b211",
   "metadata": {},
   "outputs": [
    {
     "data": {
      "text/plain": [
       "array([[12, 14, 16],\n",
       "       [18, 20, 22]])"
      ]
     },
     "execution_count": 11,
     "metadata": {},
     "output_type": "execute_result"
    }
   ],
   "source": [
    "a+b # a와 b가 shape이 같은 경우(2,3)"
   ]
  },
  {
   "cell_type": "code",
   "execution_count": 12,
   "id": "bebd4312",
   "metadata": {},
   "outputs": [
    {
     "data": {
      "text/plain": [
       "array([[4, 5, 6],\n",
       "       [7, 8, 9]])"
      ]
     },
     "execution_count": 12,
     "metadata": {},
     "output_type": "execute_result"
    }
   ],
   "source": [
    "# scalar\n",
    "a+3"
   ]
  },
  {
   "cell_type": "code",
   "execution_count": 13,
   "id": "9ab8fe13",
   "metadata": {},
   "outputs": [
    {
     "data": {
      "text/plain": [
       "(1, 1)"
      ]
     },
     "execution_count": 13,
     "metadata": {},
     "output_type": "execute_result"
    }
   ],
   "source": [
    "# (1,1)\n",
    "b = np.array([[3]])\n",
    "b.shape"
   ]
  },
  {
   "cell_type": "code",
   "execution_count": 14,
   "id": "845b5b5d",
   "metadata": {},
   "outputs": [
    {
     "data": {
      "text/plain": [
       "array([[4, 5, 6],\n",
       "       [7, 8, 9]])"
      ]
     },
     "execution_count": 14,
     "metadata": {},
     "output_type": "execute_result"
    }
   ],
   "source": [
    "a+b"
   ]
  },
  {
   "cell_type": "code",
   "execution_count": 15,
   "id": "7695f6ea-83b6-4149-abf6-79088dff2da4",
   "metadata": {},
   "outputs": [
    {
     "data": {
      "text/plain": [
       "(1, 3)"
      ]
     },
     "execution_count": 15,
     "metadata": {},
     "output_type": "execute_result"
    }
   ],
   "source": [
    "#(1,3) 배열\n",
    "b = np.array([[1,3,5]])\n",
    "b.shape"
   ]
  },
  {
   "cell_type": "code",
   "execution_count": 16,
   "id": "43f385cc",
   "metadata": {},
   "outputs": [
    {
     "data": {
      "text/plain": [
       "array([[ 2,  5,  8],\n",
       "       [ 5,  8, 11]])"
      ]
     },
     "execution_count": 16,
     "metadata": {},
     "output_type": "execute_result"
    }
   ],
   "source": [
    "a+b"
   ]
  },
  {
   "cell_type": "code",
   "execution_count": 17,
   "id": "07fd07b1-02a0-4acc-b9d0-faec456d7907",
   "metadata": {},
   "outputs": [
    {
     "data": {
      "text/plain": [
       "(2, 1)"
      ]
     },
     "execution_count": 17,
     "metadata": {},
     "output_type": "execute_result"
    }
   ],
   "source": [
    "#(2,1) 배열\n",
    "b = np.array([[3],[5]])\n",
    "b.shape"
   ]
  },
  {
   "cell_type": "code",
   "execution_count": 18,
   "id": "50357605-d524-4787-931e-27a60bd56b41",
   "metadata": {},
   "outputs": [
    {
     "data": {
      "text/plain": [
       "array([[ 4,  5,  6],\n",
       "       [ 9, 10, 11]])"
      ]
     },
     "execution_count": 18,
     "metadata": {},
     "output_type": "execute_result"
    }
   ],
   "source": [
    "a+b"
   ]
  },
  {
   "cell_type": "code",
   "execution_count": 19,
   "id": "127e8a53-dd1a-40fc-9311-4c55371a88a2",
   "metadata": {},
   "outputs": [
    {
     "data": {
      "text/plain": [
       "array([[[ 0,  1,  2,  3],\n",
       "        [ 4,  5,  6,  7],\n",
       "        [ 8,  9, 10, 11]],\n",
       "\n",
       "       [[12, 13, 14, 15],\n",
       "        [16, 17, 18, 19],\n",
       "        [20, 21, 22, 23]]])"
      ]
     },
     "execution_count": 19,
     "metadata": {},
     "output_type": "execute_result"
    }
   ],
   "source": [
    "a = np.arange(24).reshape(2,3,4)\n",
    "a"
   ]
  },
  {
   "cell_type": "code",
   "execution_count": 20,
   "id": "3625fe5e",
   "metadata": {},
   "outputs": [
    {
     "data": {
      "text/plain": [
       "array([[0, 1, 2, 3, 4]])"
      ]
     },
     "execution_count": 20,
     "metadata": {},
     "output_type": "execute_result"
    }
   ],
   "source": [
    "a = np.arange(5).reshape(1,5)\n",
    "a"
   ]
  },
  {
   "cell_type": "code",
   "execution_count": 75,
   "id": "8dd17c26",
   "metadata": {},
   "outputs": [
    {
     "data": {
      "text/plain": [
       "array([[3, 4, 5, 6, 7]])"
      ]
     },
     "execution_count": 75,
     "metadata": {},
     "output_type": "execute_result"
    }
   ],
   "source": [
    "a + 3"
   ]
  },
  {
   "cell_type": "code",
   "execution_count": 73,
   "id": "22d84caf",
   "metadata": {},
   "outputs": [
    {
     "data": {
      "text/plain": [
       "array([[3, 4, 5, 6, 7]])"
      ]
     },
     "execution_count": 73,
     "metadata": {},
     "output_type": "execute_result"
    }
   ],
   "source": [
    "#(1,1)\n",
    "a + np.array([[3]])"
   ]
  },
  {
   "cell_type": "code",
   "execution_count": 76,
   "id": "66ba189f",
   "metadata": {},
   "outputs": [
    {
     "data": {
      "text/plain": [
       "(3, 1)"
      ]
     },
     "execution_count": 76,
     "metadata": {},
     "output_type": "execute_result"
    }
   ],
   "source": [
    "#(3,1)\n",
    "b = np.array([[3],[4],[5]])\n",
    "b.shape"
   ]
  },
  {
   "cell_type": "code",
   "execution_count": 86,
   "id": "2197fdbf",
   "metadata": {},
   "outputs": [
    {
     "data": {
      "text/plain": [
       "array([[0, 1, 2, 3, 4]])"
      ]
     },
     "execution_count": 86,
     "metadata": {},
     "output_type": "execute_result"
    }
   ],
   "source": [
    "a"
   ]
  },
  {
   "cell_type": "code",
   "execution_count": 87,
   "id": "cc8d0a04",
   "metadata": {},
   "outputs": [
    {
     "data": {
      "text/plain": [
       "array([[3],\n",
       "       [4],\n",
       "       [5]])"
      ]
     },
     "execution_count": 87,
     "metadata": {},
     "output_type": "execute_result"
    }
   ],
   "source": [
    "b"
   ]
  },
  {
   "cell_type": "code",
   "execution_count": 77,
   "id": "ce702458",
   "metadata": {},
   "outputs": [
    {
     "data": {
      "text/plain": [
       "array([[3, 4, 5, 6, 7],\n",
       "       [4, 5, 6, 7, 8],\n",
       "       [5, 6, 7, 8, 9]])"
      ]
     },
     "execution_count": 77,
     "metadata": {},
     "output_type": "execute_result"
    }
   ],
   "source": [
    "a+b"
   ]
  },
  {
   "cell_type": "markdown",
   "id": "61e0a1bf",
   "metadata": {},
   "source": [
    "## 문제 1.\n",
    "다음 조건을 모두 만족하는 프로그램을 작성하라.\n",
    "\n",
    "1. 'bird.png' 파일을 읽고, cv2.imshow 함수를 이용하여 \"Image\" title을 가진 윈도우에 영상을 표시한다.\n",
    "2. cv2.namedWindow(\"Cropped\", 0) 으로 윈도우를 만든다.\n",
    "3. \"Image\" 윈도우 위에 마우스 왼쪽 버튼을 누른 상태로 마우스를 움직이면 처음 마우스를 누른 위치가 사각형의 꼭지점이고 현재 마우스의 위치가 대각선 꼭지점인 사각형이 나타난다. 마우스를 움직이면 사각형의 크기가 계속 변한다.\n",
    "4. 마우스의 왼쪽 버튼을 놓으면(release) 현재 사각형 내부의 영상이 \"Cropped\" 윈도우에 나타난다.\n",
    "5. 새 위치에 마우스 왼쪽 버튼을 누르면 3 번 동작이 반복된다.\n",
    "6. 'q'를 누르면 모든 윈도우가 닫히고 프로그램이 종료된다."
   ]
  },
  {
   "cell_type": "code",
   "execution_count": 1,
   "id": "b5b8bd4e",
   "metadata": {},
   "outputs": [],
   "source": [
    "import cv2\n",
    "import matplotlib.pyplot as plt\n",
    "import matplotlib.image as mpimg\n",
    "\n",
    "import numpy as np\n",
    "\n",
    "\n",
    "def onMouseClick(event, x, y, flags, param):\n",
    "    global pt1, pt2, img_a, cropped_img, clicked\n",
    "    if(event == cv2.EVENT_LBUTTONDOWN and clicked != 1): # 왼쪽 버튼이 처음 눌리는 경우\n",
    "        pt1 = x, y\n",
    "        clicked = clicked | LDOWN\n",
    "    elif(event == cv2.EVENT_MOUSEMOVE and clicked == 1): # 왼쪽 버튼이 이미 눌린 상태에서 마우스가 움직일 때\n",
    "        pt2 = x, y # 마우스가 움직이는 동안 좌표를 업데이트\n",
    "        img_a = img.copy()\n",
    "        cv2.rectangle(img_a, pt1, pt2, white, cv2.LINE_4) \n",
    "        cv2.imshow(\"Image\", img_a)\n",
    "\n",
    "    elif(event == cv2.EVENT_LBUTTONUP): # 왼쪽 버튼이 떼지는 경우\n",
    "        pt2 = x, y # 왼쪽 버튼이 떼어진 순간의 좌표를 p2 에 저장\n",
    "        clicked = clicked | LUP # 왼쪽 버튼 떼어짐 체크\n",
    "\n",
    "\n",
    "        if(pt1[0] > pt2[0]):\n",
    "            if(pt1[1] < pt2[1]): # 왼쪽 버튼 클릭이 오른쪽 위에서 시작한 경우\n",
    "\n",
    "                pt1_copy = pt1[0] \n",
    "                li1 = list(pt1) # 튜플을 수정하기위해 리스트로 변환\n",
    "                li2 = list(pt2)\n",
    "                li1[0] = li2[0] \n",
    "                li2[0] = pt1_copy # y좌표를 서로 바꿔준다\n",
    "                pt1 = tuple(li1)\n",
    "                pt2 = tuple(li2) #튜플로 다시 변환\n",
    "\n",
    "            else:#왼쪽 버튼 클릭이 오른쪽 밑에서 시작한 경우\n",
    "                pt1_copy = pt1\n",
    "                pt1 = pt2\n",
    "                pt2 = pt1_copy  # 두좌표를 값을 바꿔줌 \n",
    "                \n",
    "        elif(pt1[1] > pt2[1]):#왼쪽 버튼 클릭이 왼쪽 밑에서 시작한 경우\n",
    "            pt1_copy = pt1[1] \n",
    "            li1 = list(pt1) # 튜플을 수정하기위해 리스트로 변환\n",
    "            li2 = list(pt2)\n",
    "            li1[1] = li2[1] \n",
    "            li2[1] = pt1_copy # y좌표를 서로 바꿔준다\n",
    "            pt1 = tuple(li1)\n",
    "            pt2 = tuple(li2) #튜플로 다시 변환\n",
    "        \n",
    "        \n",
    "    if(clicked == (LUP | LDOWN)): # 왼쪽 버튼이 눌렸다 떼어진 경우\n",
    "        img_a = img.copy() \n",
    "        cv2.rectangle(img_a, pt1, pt2, white, cv2.LINE_4)\n",
    "        cropped_img = img[pt1[1]:pt2[1]+1, pt1[0]:pt2[0]+1,:]\n",
    "        cv2.imshow(\"Cropped\", cropped_img)\n",
    "        cv2.imshow(\"Image\", img_a)\n",
    "        clicked = UNCLICKED # 마우스 클릭 초기화\n",
    "\n",
    "def saveCroppedImage(event, x, y, flags, param):\n",
    "    global cropped_img\n",
    "    if event == cv2.EVENT_LBUTTONUP:\n",
    "        file_name = input(\"Enter a file name:\")\n",
    "        cv2.imwrite(file_name, cropped_img)\n",
    "\n",
    "white = (255, 255, 255)\n",
    "img = cv2.imread(\"bird.png\")\n",
    "\n",
    "UNCLICKED = 0\n",
    "LDOWN = 1\n",
    "LUP = 2\n",
    "clicked = UNCLICKED\n",
    "\n",
    "pt1 = np.array([img.shape[1]//4, img.shape[0]//4]) # (x, y)\n",
    "pt2 = pt1 + img.shape[1] // 2\n",
    "\n",
    "\n",
    "img_a = img.copy()\n",
    "\n",
    "cv2.namedWindow(\"Cropped\", 0)\n",
    "cv2.imshow(\"Image\", img_a)\n",
    "\n",
    "cv2.setMouseCallback(\"Image\", onMouseClick)\n",
    "cv2.setMouseCallback(\"Cropped\", saveCroppedImage)\n",
    "while cv2.waitKey(0) != ord('q'):\n",
    "    pass\n",
    "\n",
    "\n",
    "cv2.destroyAllWindows()"
   ]
  },
  {
   "cell_type": "markdown",
   "id": "60d0185e-7ff1-4dcb-8bf0-f6f68c5deee6",
   "metadata": {},
   "source": [
    "## 문제 2.\n",
    "\n",
    "문제 1에서 원영상을 표현하는 3차원 배열에서 index slicing을 적용하여 crop된 영상 데이터 배열을 표현하는 경우에 copy() 함수를 사용하는 경우에 비해서 어떤 장점이 있는지 생각해서 적어보아라.\n",
    "\n",
    "참고: https://pythonspeed.com/articles/numpy-memory-views/"
   ]
  },
  {
   "cell_type": "markdown",
   "id": "ba51a586-b774-4f4d-8003-24988f7529e9",
   "metadata": {},
   "source": [
    "index slicing을 하는 것은 원래 배열에 대한 view 이기 때문에 메모리를 따로 할당하지 않습니다. 메모리를 따로 할당하지 않으므로 메모리 효율측면에서 copy()함수를 이용하는 것보다 index slicing을 사용하는 것이 더 좋습니다. 하지만 view는 원래 배열에 대한 메모리를 공유하기 때문에 모든 view를 삭제해야만 원래 배열의 메모리가 해제됩니다. 또한, view를 수정할 경우 원래 배열도 수정 되는 문제도 있습니다."
   ]
  }
 ],
 "metadata": {
  "interpreter": {
   "hash": "23194b43a0a4e45d7fd30fa1b89fac73fb89051b29c2695944c7e96084d231d3"
  },
  "kernelspec": {
   "display_name": "Python 3.9.6 64-bit",
   "language": "python",
   "name": "python3"
  },
  "language_info": {
   "codemirror_mode": {
    "name": "ipython",
    "version": 3
   },
   "file_extension": ".py",
   "mimetype": "text/x-python",
   "name": "python",
   "nbconvert_exporter": "python",
   "pygments_lexer": "ipython3",
   "version": "3.9.6"
  },
  "latex_envs": {
   "LaTeX_envs_menu_present": true,
   "autoclose": false,
   "autocomplete": true,
   "bibliofile": "biblio.bib",
   "cite_by": "apalike",
   "current_citInitial": 1,
   "eqLabelWithNumbers": true,
   "eqNumInitial": 1,
   "hotkeys": {
    "equation": "Ctrl-E",
    "itemize": "Ctrl-I"
   },
   "labels_anchors": false,
   "latex_user_defs": false,
   "report_style_numbering": false,
   "user_envs_cfg": false
  }
 },
 "nbformat": 4,
 "nbformat_minor": 5
}
