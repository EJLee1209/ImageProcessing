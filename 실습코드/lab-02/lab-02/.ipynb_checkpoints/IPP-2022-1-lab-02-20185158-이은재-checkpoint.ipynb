{
 "cells": [
  {
   "cell_type": "markdown",
   "id": "797d2e43-d1aa-4336-a7b7-c2247577d58a",
   "metadata": {},
   "source": [
    "<h1 align='center'> 영상처리 프로그래밍 실습 2</h1>\n",
    "\n",
    "<h6 align='right'> 2022. 3. 17.</h6>"
   ]
  },
  {
   "cell_type": "markdown",
   "id": "8d717b60",
   "metadata": {},
   "source": [
    "<div class=\"alert alert-block alert-info\">\n",
    "    \n",
    "- 파일 이름에서 00000000을 자신의 학번으로, name을 자신의 이름으로 수정하세요.\n",
    "\n",
    "- 다음 줄에 자신의 이름, 학번, 학과(전공)을 적으세요.\n",
    "\n",
    "* 이름:   &nbsp;&nbsp;          학번:    &nbsp;&nbsp;         학과(전공):\n",
    "    \n",
    "</div>\n",
    "\n",
    "- JupyterLab 문서의 최신 버전은 [JupyterLab Documentation](https://jupyterlab.readthedocs.io/en/stable/index.html#/)을  참고하라\n",
    "\n",
    "- Markdown은 [Markdown Guide](https://www.markdownguide.org/)를 참고하라.\n",
    "- [Markdown Cheat Sheet](https://www.markdownguide.org/cheat-sheet/)\n",
    "\n",
    "* 제출 마감: 3월 23일 (수) 오후 6:00까지 최종본 SmartLEAD제출\n"
   ]
  },
  {
   "cell_type": "code",
   "execution_count": null,
   "id": "34e117ec",
   "metadata": {},
   "outputs": [],
   "source": [
    "import cv2\n",
    "import matplotlib.pyplot as plt\n",
    "import matplotlib.image as mpimg\n",
    "\n",
    "import numpy as np\n",
    "print(\"OpenCV version\", cv2.__version__)\n",
    "print(\"NumPy version\", np.__version__)"
   ]
  },
  {
   "cell_type": "code",
   "execution_count": null,
   "id": "efb0e1b0",
   "metadata": {},
   "outputs": [],
   "source": []
  },
  {
   "cell_type": "markdown",
   "id": "57ed244a-0250-4c8d-8f8c-2db6051867a3",
   "metadata": {},
   "source": [
    "## 영상 읽기"
   ]
  },
  {
   "cell_type": "markdown",
   "id": "601e1756-97d8-463b-bf7f-5bb615c5a20e",
   "metadata": {},
   "source": [
    "### OpenCV의 imread() 로 읽기"
   ]
  },
  {
   "cell_type": "markdown",
   "id": "da989f56",
   "metadata": {},
   "source": [
    "#### PNG 파일 읽기"
   ]
  },
  {
   "cell_type": "code",
   "execution_count": null,
   "id": "a1530e35-7507-4047-bfc5-f1e635f71957",
   "metadata": {},
   "outputs": [],
   "source": [
    "img_bird_png = cv2.imread('bird.png')"
   ]
  },
  {
   "cell_type": "markdown",
   "id": "499936bc-2675-4439-8583-7c5465f2f63c",
   "metadata": {},
   "source": [
    "####  영상 데이터의 속성 확인하기"
   ]
  },
  {
   "cell_type": "code",
   "execution_count": null,
   "id": "9b45f4e5-777e-48d4-988f-9988f4e49de6",
   "metadata": {},
   "outputs": [],
   "source": []
  },
  {
   "cell_type": "code",
   "execution_count": null,
   "id": "20a13c76",
   "metadata": {},
   "outputs": [],
   "source": []
  },
  {
   "cell_type": "code",
   "execution_count": null,
   "id": "1603922a",
   "metadata": {},
   "outputs": [],
   "source": []
  },
  {
   "cell_type": "code",
   "execution_count": null,
   "id": "45344b75",
   "metadata": {},
   "outputs": [],
   "source": []
  },
  {
   "cell_type": "code",
   "execution_count": null,
   "id": "3bb9aef1-6e07-4a9d-b40b-29cfb9325e9c",
   "metadata": {
    "scrolled": true
   },
   "outputs": [],
   "source": []
  },
  {
   "cell_type": "markdown",
   "id": "15f9fb02",
   "metadata": {},
   "source": [
    "- argument로 cv2.IMREAD_UNCHANGED 추가"
   ]
  },
  {
   "cell_type": "code",
   "execution_count": null,
   "id": "52e7594a",
   "metadata": {},
   "outputs": [],
   "source": [
    "help(cv2.imread)"
   ]
  },
  {
   "cell_type": "code",
   "execution_count": null,
   "id": "4904aa9d",
   "metadata": {},
   "outputs": [],
   "source": []
  },
  {
   "cell_type": "code",
   "execution_count": null,
   "id": "49666ce3",
   "metadata": {},
   "outputs": [],
   "source": []
  },
  {
   "cell_type": "code",
   "execution_count": null,
   "id": "4d659ee0-193b-4c4e-9a97-a9abfe535c68",
   "metadata": {
    "tags": []
   },
   "outputs": [],
   "source": []
  },
  {
   "cell_type": "code",
   "execution_count": null,
   "id": "889eccb1-d3ed-43e4-862d-e3d90abfdfb1",
   "metadata": {},
   "outputs": [],
   "source": []
  },
  {
   "cell_type": "markdown",
   "id": "d5c28749",
   "metadata": {},
   "source": [
    "#### PNG 파일을 JPEG 파일로 저장하기"
   ]
  },
  {
   "cell_type": "code",
   "execution_count": null,
   "id": "492e3010",
   "metadata": {
    "scrolled": true
   },
   "outputs": [],
   "source": [
    "cv2.imwrite('bird.jpg', img_bird_png)"
   ]
  },
  {
   "cell_type": "markdown",
   "id": "c3b8359d-309c-4536-8069-241ea73561ca",
   "metadata": {},
   "source": [
    "#### JPEG 파일 읽기"
   ]
  },
  {
   "cell_type": "code",
   "execution_count": null,
   "id": "a3d4ac3d",
   "metadata": {},
   "outputs": [],
   "source": [
    "file_name = 'bird.jpg'\n"
   ]
  },
  {
   "cell_type": "markdown",
   "id": "0e48868f-f68a-4bd1-b44c-80ef4d7f7441",
   "metadata": {},
   "source": [
    "- 영상 데이터의 속성 확인하기"
   ]
  },
  {
   "cell_type": "code",
   "execution_count": null,
   "id": "01ce41eb-0241-4f81-b8c5-b6818aa85ba3",
   "metadata": {
    "tags": []
   },
   "outputs": [],
   "source": []
  },
  {
   "cell_type": "code",
   "execution_count": null,
   "id": "ae11dba7",
   "metadata": {},
   "outputs": [],
   "source": []
  },
  {
   "cell_type": "code",
   "execution_count": null,
   "id": "460b9c8f-7628-4bc4-8b3e-01afeedf1e82",
   "metadata": {},
   "outputs": [],
   "source": []
  },
  {
   "cell_type": "markdown",
   "id": "61b1902c",
   "metadata": {},
   "source": [
    "#### JPEG 파일의 영상 데이터 배열의 컬러 채널이 3개뿐인 이유\n",
    "\n",
    "**설명**:"
   ]
  },
  {
   "cell_type": "code",
   "execution_count": null,
   "id": "da289bd7-e4ec-4eb8-8332-eb89e88d91eb",
   "metadata": {},
   "outputs": [],
   "source": []
  },
  {
   "cell_type": "markdown",
   "id": "4cfe4b38-6d48-4fd2-b7e9-ff540e183462",
   "metadata": {},
   "source": [
    "### Matplotlib.image의 imread() 로 읽기"
   ]
  },
  {
   "cell_type": "markdown",
   "id": "bdbc4b4a-0427-4f2d-9a08-1a24a02b049d",
   "metadata": {},
   "source": [
    "#### JPEG 파일 읽기"
   ]
  },
  {
   "cell_type": "code",
   "execution_count": null,
   "id": "4a4d9b0f-4c4f-41e0-a90e-ae09308247dc",
   "metadata": {},
   "outputs": [],
   "source": [
    "file_name = 'bird.jpg'\n"
   ]
  },
  {
   "cell_type": "code",
   "execution_count": null,
   "id": "83b97bd8-d8bb-470a-bdaf-20fa9f1a4f4c",
   "metadata": {},
   "outputs": [],
   "source": []
  },
  {
   "cell_type": "code",
   "execution_count": null,
   "id": "5f111f4d-e915-450b-bb96-0697cd86e2f9",
   "metadata": {
    "tags": []
   },
   "outputs": [],
   "source": []
  },
  {
   "cell_type": "markdown",
   "id": "a6bf5924-feb2-4957-8648-50c6db4a0a60",
   "metadata": {},
   "source": [
    "- 두 NumPy ndarray가 같은지 확인하기"
   ]
  },
  {
   "cell_type": "code",
   "execution_count": null,
   "id": "02937ab1-7c26-4aa0-92d6-a843ed37c55a",
   "metadata": {},
   "outputs": [],
   "source": []
  },
  {
   "cell_type": "markdown",
   "id": "2df873b4-dddc-4ec9-b7bc-ae117c6bb307",
   "metadata": {},
   "source": [
    "#### PNG 파일 읽기"
   ]
  },
  {
   "cell_type": "code",
   "execution_count": null,
   "id": "6c17d5e8-1561-4720-ad3b-c2a11390be37",
   "metadata": {
    "tags": []
   },
   "outputs": [],
   "source": []
  },
  {
   "cell_type": "markdown",
   "id": "8ee586a5-30b7-438e-88e8-91dd8ef53fa9",
   "metadata": {},
   "source": [
    "- 영상의 속성 확인하기"
   ]
  },
  {
   "cell_type": "code",
   "execution_count": null,
   "id": "5524023d-977f-4cff-92b1-c27a05515c53",
   "metadata": {},
   "outputs": [],
   "source": []
  },
  {
   "cell_type": "code",
   "execution_count": null,
   "id": "b67a2575-dc64-4814-8509-ea6b29812234",
   "metadata": {},
   "outputs": [],
   "source": []
  },
  {
   "cell_type": "code",
   "execution_count": null,
   "id": "0a18102e",
   "metadata": {
    "tags": []
   },
   "outputs": [],
   "source": []
  },
  {
   "cell_type": "markdown",
   "id": "ee1fb32a-ce56-4b3f-b43e-93ebccddc432",
   "metadata": {},
   "source": [
    "### List 객체의 데이터 복사하기\n",
    "\n"
   ]
  },
  {
   "cell_type": "code",
   "execution_count": null,
   "id": "dbad5616",
   "metadata": {},
   "outputs": [],
   "source": [
    "x = [1, 3, 5, 7, 9]\n",
    "x"
   ]
  },
  {
   "cell_type": "code",
   "execution_count": null,
   "id": "038c7890",
   "metadata": {},
   "outputs": [],
   "source": []
  },
  {
   "cell_type": "code",
   "execution_count": null,
   "id": "5ea61027",
   "metadata": {},
   "outputs": [],
   "source": [
    "type(x)"
   ]
  },
  {
   "cell_type": "markdown",
   "id": "ce8854ec",
   "metadata": {},
   "source": [
    "- index를 통해서 개별 item에 접근\n",
    "  - positive index: 0, 1, 2, 3, 4\n",
    "  - negative index: -5, -4, -3, -2, -1"
   ]
  },
  {
   "cell_type": "code",
   "execution_count": null,
   "id": "e487ebcd",
   "metadata": {},
   "outputs": [],
   "source": [
    "x[1]"
   ]
  },
  {
   "cell_type": "markdown",
   "id": "b63e61e2",
   "metadata": {},
   "source": [
    "- index slicing"
   ]
  },
  {
   "cell_type": "code",
   "execution_count": null,
   "id": "38ce95e6",
   "metadata": {},
   "outputs": [],
   "source": [
    "x[:]"
   ]
  },
  {
   "cell_type": "code",
   "execution_count": null,
   "id": "59f6afeb",
   "metadata": {},
   "outputs": [],
   "source": [
    "x[:3]"
   ]
  },
  {
   "cell_type": "code",
   "execution_count": null,
   "id": "315a1a21",
   "metadata": {},
   "outputs": [],
   "source": [
    "x[1:]"
   ]
  },
  {
   "cell_type": "code",
   "execution_count": null,
   "id": "b8125e1e",
   "metadata": {},
   "outputs": [],
   "source": [
    "x[::2]"
   ]
  },
  {
   "cell_type": "code",
   "execution_count": null,
   "id": "918bf883",
   "metadata": {},
   "outputs": [],
   "source": [
    "x[::-1]"
   ]
  },
  {
   "cell_type": "code",
   "execution_count": null,
   "id": "337c6e0c",
   "metadata": {},
   "outputs": [],
   "source": [
    "x[0] = 'str'\n",
    "x"
   ]
  },
  {
   "cell_type": "markdown",
   "id": "8a32a255",
   "metadata": {},
   "source": [
    "#### List 더하기"
   ]
  },
  {
   "cell_type": "code",
   "execution_count": null,
   "id": "4bd58c9e",
   "metadata": {},
   "outputs": [],
   "source": [
    "x, y"
   ]
  },
  {
   "cell_type": "code",
   "execution_count": null,
   "id": "ef518f3d",
   "metadata": {},
   "outputs": [],
   "source": [
    "x = [1, 3, 5]\n",
    "y = [2, 4, 6]\n",
    "x + y"
   ]
  },
  {
   "cell_type": "code",
   "execution_count": null,
   "id": "653de1a1",
   "metadata": {},
   "outputs": [],
   "source": []
  },
  {
   "cell_type": "markdown",
   "id": "2e1c5b79",
   "metadata": {},
   "source": [
    "### Nested list"
   ]
  },
  {
   "cell_type": "code",
   "execution_count": null,
   "id": "161f51dc",
   "metadata": {},
   "outputs": [],
   "source": [
    "x = [[1, 2, 3, 4, 5], [6, 7, 8, 9, 10]]\n",
    "x"
   ]
  },
  {
   "cell_type": "code",
   "execution_count": null,
   "id": "4808096a",
   "metadata": {},
   "outputs": [],
   "source": [
    "y = [[0,0,0,0,0], [0,0,0,0,0]]\n",
    "y"
   ]
  },
  {
   "cell_type": "markdown",
   "id": "60e12479",
   "metadata": {},
   "source": [
    "- x의 각 item에 10을 더해서 y의 대응하는 item에 할당하라"
   ]
  },
  {
   "cell_type": "code",
   "execution_count": null,
   "id": "01b897ef",
   "metadata": {},
   "outputs": [],
   "source": []
  },
  {
   "cell_type": "markdown",
   "id": "cb6c00f5",
   "metadata": {},
   "source": [
    "### NumPy ndarray 복사하기"
   ]
  },
  {
   "cell_type": "code",
   "execution_count": null,
   "id": "15f9bc2d",
   "metadata": {},
   "outputs": [],
   "source": [
    "a1 = np.array([1, 3, 5])\n",
    "a1"
   ]
  },
  {
   "cell_type": "code",
   "execution_count": null,
   "id": "3c2bdaad",
   "metadata": {},
   "outputs": [],
   "source": []
  },
  {
   "cell_type": "markdown",
   "id": "34d3262e",
   "metadata": {},
   "source": [
    "### NumPy ndarray 배열 객체의 연산"
   ]
  },
  {
   "cell_type": "code",
   "execution_count": null,
   "id": "042355bb",
   "metadata": {},
   "outputs": [],
   "source": [
    "a2 + a2"
   ]
  },
  {
   "cell_type": "markdown",
   "id": "1a425330",
   "metadata": {},
   "source": [
    "### NumPy ndarray 배열 연산의 broadcasting"
   ]
  },
  {
   "cell_type": "code",
   "execution_count": null,
   "id": "4952030d",
   "metadata": {},
   "outputs": [],
   "source": [
    "a2 + 2"
   ]
  },
  {
   "cell_type": "code",
   "execution_count": null,
   "id": "da8cf102",
   "metadata": {},
   "outputs": [],
   "source": [
    "a2 * 3"
   ]
  },
  {
   "cell_type": "code",
   "execution_count": null,
   "id": "db8c033d",
   "metadata": {},
   "outputs": [],
   "source": [
    "a2 / 2"
   ]
  },
  {
   "cell_type": "markdown",
   "id": "4b2ad6e9",
   "metadata": {},
   "source": [
    "### 영상 복사하기\n",
    "\n",
    "1) OpenCV의 imread() 함수를 이용해서 tree-1.jpg 파일을 읽어서 ndarray를 img_tree_1 변수에 할당한다."
   ]
  },
  {
   "cell_type": "code",
   "execution_count": null,
   "id": "91e94343-00cb-4418-b100-372ff3bee2c7",
   "metadata": {},
   "outputs": [],
   "source": [
    "img_tree_1 ="
   ]
  },
  {
   "cell_type": "markdown",
   "id": "59033fe3-63aa-4bbf-9610-e455e26196ef",
   "metadata": {},
   "source": [
    "2) img_tree_1을 복사할 빈 ndarray img를 만든다."
   ]
  },
  {
   "cell_type": "code",
   "execution_count": null,
   "id": "8cf40e10-dec5-46e0-8805-2377b284f18d",
   "metadata": {},
   "outputs": [],
   "source": [
    "img ="
   ]
  },
  {
   "cell_type": "markdown",
   "id": "a58a9d37-7175-4168-b78a-19edf71fb725",
   "metadata": {},
   "source": [
    "3) img_tree_1의 모든 pixel을 img의 같은 위치에 복사한다."
   ]
  },
  {
   "cell_type": "code",
   "execution_count": null,
   "id": "209c0253-a66c-4bf5-b934-8a750b283b1a",
   "metadata": {},
   "outputs": [],
   "source": []
  },
  {
   "cell_type": "code",
   "execution_count": null,
   "id": "51caaf8d-ce85-4d48-a25f-3880c6f22508",
   "metadata": {},
   "outputs": [],
   "source": []
  },
  {
   "cell_type": "code",
   "execution_count": null,
   "id": "2ea918c8-6ad1-4b76-92fb-434de4854f7e",
   "metadata": {},
   "outputs": [],
   "source": []
  },
  {
   "cell_type": "code",
   "execution_count": null,
   "id": "29a5e8cc-f273-454a-8604-a73bf6f2d59e",
   "metadata": {},
   "outputs": [],
   "source": []
  },
  {
   "cell_type": "markdown",
   "id": "d8b335ca-7faf-4f8d-b8a2-17189943c548",
   "metadata": {},
   "source": [
    "### weighted sum of two images\n",
    "\n",
    "$$g(x,y) = \\alpha f_1(x,y) + (1-\\alpha )f_2(x,y), \\;\\; 0 \\le \\alpha \\le 1$$"
   ]
  },
  {
   "cell_type": "code",
   "execution_count": null,
   "id": "cffc53f2",
   "metadata": {},
   "outputs": [],
   "source": [
    "img_tree_1 = cv2.imread('tree-1.jpg')\n"
   ]
  },
  {
   "cell_type": "markdown",
   "id": "44068b3a-3222-40c4-a5ea-20a082199cab",
   "metadata": {
    "tags": []
   },
   "source": [
    "### "
   ]
  },
  {
   "cell_type": "code",
   "execution_count": null,
   "id": "1e6fff70",
   "metadata": {},
   "outputs": [],
   "source": []
  },
  {
   "cell_type": "code",
   "execution_count": null,
   "id": "9e64260b",
   "metadata": {},
   "outputs": [],
   "source": []
  },
  {
   "cell_type": "markdown",
   "id": "22213a44",
   "metadata": {},
   "source": [
    "## 문제 1.\n",
    "\n",
    "가중치 $\\alpha$를 1부터 0까지 0.01 간격으로 변경해 가면서, 두 영상의 weighted sum을 구하고 화면에 표시하는 프로그램을 작성하라.\n",
    "단, 영상과 영상 사이의 디스플레이 간격은 0.5초로 설정하라.\n"
   ]
  },
  {
   "cell_type": "code",
   "execution_count": null,
   "id": "7729cf6c-4cd2-45a3-a120-4dc56167707c",
   "metadata": {},
   "outputs": [],
   "source": []
  }
 ],
 "metadata": {
  "kernelspec": {
   "display_name": "Python 3 (ipykernel)",
   "language": "python",
   "name": "python3"
  },
  "language_info": {
   "codemirror_mode": {
    "name": "ipython",
    "version": 3
   },
   "file_extension": ".py",
   "mimetype": "text/x-python",
   "name": "python",
   "nbconvert_exporter": "python",
   "pygments_lexer": "ipython3",
   "version": "3.9.7"
  },
  "latex_envs": {
   "LaTeX_envs_menu_present": true,
   "autoclose": false,
   "autocomplete": true,
   "bibliofile": "biblio.bib",
   "cite_by": "apalike",
   "current_citInitial": 1,
   "eqLabelWithNumbers": true,
   "eqNumInitial": 1,
   "hotkeys": {
    "equation": "Ctrl-E",
    "itemize": "Ctrl-I"
   },
   "labels_anchors": false,
   "latex_user_defs": false,
   "report_style_numbering": false,
   "user_envs_cfg": false
  }
 },
 "nbformat": 4,
 "nbformat_minor": 5
}
