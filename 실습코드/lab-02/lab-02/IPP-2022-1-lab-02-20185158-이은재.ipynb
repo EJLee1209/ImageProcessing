{
 "cells": [
  {
   "cell_type": "markdown",
   "id": "797d2e43-d1aa-4336-a7b7-c2247577d58a",
   "metadata": {},
   "source": [
    "<h1 align='center'> 영상처리 프로그래밍 실습 2</h1>\n",
    "\n",
    "<h6 align='right'> 2022. 3. 17.</h6>"
   ]
  },
  {
   "cell_type": "markdown",
   "id": "8d717b60",
   "metadata": {},
   "source": [
    "<div class=\"alert alert-block alert-info\">\n",
    "    \n",
    "- 파일 이름에서 00000000을 자신의 학번으로, name을 자신의 이름으로 수정하세요.\n",
    "\n",
    "- 다음 줄에 자신의 이름, 학번, 학과(전공)을 적으세요.\n",
    "\n",
    "* 이름:   &nbsp;이은재&nbsp;          학번:    &nbsp;20185158&nbsp;         학과(전공): 빅데이터\n",
    "    \n",
    "</div>\n",
    "\n",
    "- JupyterLab 문서의 최신 버전은 [JupyterLab Documentation](https://jupyterlab.readthedocs.io/en/stable/index.html#/)을  참고하라\n",
    "\n",
    "- Markdown은 [Markdown Guide](https://www.markdownguide.org/)를 참고하라.\n",
    "- [Markdown Cheat Sheet](https://www.markdownguide.org/cheat-sheet/)\n",
    "\n",
    "* 제출 마감: 3월 23일 (수) 오후 6:00까지 최종본 SmartLEAD제출\n"
   ]
  },
  {
   "cell_type": "code",
   "execution_count": 1,
   "id": "34e117ec",
   "metadata": {},
   "outputs": [
    {
     "name": "stdout",
     "output_type": "stream",
     "text": [
      "OpenCV version 4.5.5\n",
      "NumPy version 1.22.3\n"
     ]
    }
   ],
   "source": [
    "import cv2\n",
    "import matplotlib.pyplot as plt\n",
    "import matplotlib.image as mpimg\n",
    "import numpy as np\n",
    "print(\"OpenCV version\", cv2.__version__)\n",
    "\n",
    "print(\"NumPy version\", np.__version__)"
   ]
  },
  {
   "cell_type": "code",
   "execution_count": null,
   "id": "efb0e1b0",
   "metadata": {},
   "outputs": [],
   "source": []
  },
  {
   "cell_type": "markdown",
   "id": "57ed244a-0250-4c8d-8f8c-2db6051867a3",
   "metadata": {},
   "source": [
    "## 영상 읽기"
   ]
  },
  {
   "cell_type": "markdown",
   "id": "601e1756-97d8-463b-bf7f-5bb615c5a20e",
   "metadata": {},
   "source": [
    "### OpenCV의 imread() 로 읽기"
   ]
  },
  {
   "cell_type": "markdown",
   "id": "da989f56",
   "metadata": {},
   "source": [
    "#### PNG 파일 읽기"
   ]
  },
  {
   "cell_type": "code",
   "execution_count": 2,
   "id": "a1530e35-7507-4047-bfc5-f1e635f71957",
   "metadata": {},
   "outputs": [
    {
     "data": {
      "text/plain": [
       "array([[[109,  92, 103],\n",
       "        [109,  92, 103],\n",
       "        [109,  92, 103],\n",
       "        ...,\n",
       "        [ 88,  71,  75],\n",
       "        [ 86,  69,  73],\n",
       "        [ 81,  64,  68]],\n",
       "\n",
       "       [[108,  92, 103],\n",
       "        [108,  92, 103],\n",
       "        [109,  93, 104],\n",
       "        ...,\n",
       "        [ 87,  70,  74],\n",
       "        [ 86,  69,  73],\n",
       "        [ 83,  66,  70]],\n",
       "\n",
       "       [[109,  93, 104],\n",
       "        [109,  93, 104],\n",
       "        [109,  93, 104],\n",
       "        ...,\n",
       "        [ 86,  69,  73],\n",
       "        [ 85,  68,  72],\n",
       "        [ 86,  69,  73]],\n",
       "\n",
       "       ...,\n",
       "\n",
       "       [[ 92,  85, 120],\n",
       "        [ 92,  85, 120],\n",
       "        [ 92,  85, 120],\n",
       "        ...,\n",
       "        [104,  95, 115],\n",
       "        [102,  93, 113],\n",
       "        [100,  91, 111]],\n",
       "\n",
       "       [[ 92,  85, 118],\n",
       "        [ 92,  85, 118],\n",
       "        [ 92,  85, 118],\n",
       "        ...,\n",
       "        [104,  95, 115],\n",
       "        [103,  94, 114],\n",
       "        [101,  92, 112]],\n",
       "\n",
       "       [[ 92,  85, 118],\n",
       "        [ 93,  86, 119],\n",
       "        [ 93,  86, 119],\n",
       "        ...,\n",
       "        [103,  94, 114],\n",
       "        [103,  94, 114],\n",
       "        [103,  94, 114]]], dtype=uint8)"
      ]
     },
     "execution_count": 2,
     "metadata": {},
     "output_type": "execute_result"
    }
   ],
   "source": [
    "img_bird_png = cv2.imread('bird.png')\n",
    "cv2.imread('bird.png')"
   ]
  },
  {
   "cell_type": "markdown",
   "id": "499936bc-2675-4439-8583-7c5465f2f63c",
   "metadata": {},
   "source": [
    "####  영상 데이터의 속성 확인하기"
   ]
  },
  {
   "cell_type": "code",
   "execution_count": 11,
   "id": "9b45f4e5-777e-48d4-988f-9988f4e49de6",
   "metadata": {},
   "outputs": [
    {
     "data": {
      "text/plain": [
       "numpy.ndarray"
      ]
     },
     "execution_count": 11,
     "metadata": {},
     "output_type": "execute_result"
    }
   ],
   "source": [
    "type(img_bird_png) # ndarray : n-dimensional array(다차원 배열)"
   ]
  },
  {
   "cell_type": "code",
   "execution_count": 12,
   "id": "20a13c76",
   "metadata": {},
   "outputs": [
    {
     "data": {
      "text/plain": [
       "(425, 640, 3)"
      ]
     },
     "execution_count": 12,
     "metadata": {},
     "output_type": "execute_result"
    }
   ],
   "source": [
    "img_bird_png.shape # tuple 425 : 세로방향의 픽셀 갯수 , 640 : 가로방향의 픽셀 갯수 , 3 : b,g,r (color component)"
   ]
  },
  {
   "cell_type": "code",
   "execution_count": 7,
   "id": "0dda2ced-d85d-4210-b526-d4dcef561334",
   "metadata": {},
   "outputs": [
    {
     "data": {
      "text/plain": [
       "dtype('uint8')"
      ]
     },
     "execution_count": 7,
     "metadata": {},
     "output_type": "execute_result"
    }
   ],
   "source": [
    "img_bird_png.dtype # 'uint8' : unsigned integer 8-bits (RGB는 24비트 필요)"
   ]
  },
  {
   "cell_type": "code",
   "execution_count": 6,
   "id": "1603922a",
   "metadata": {},
   "outputs": [
    {
     "data": {
      "text/plain": [
       "<matplotlib.image.AxesImage at 0x7f8a080fbdc0>"
      ]
     },
     "execution_count": 6,
     "metadata": {},
     "output_type": "execute_result"
    },
    {
     "data": {
      "image/png": "[encoded data removed]",
      "text/plain": [
       "<Figure size 432x288 with 1 Axes>"
      ]
     },
     "metadata": {
      "needs_background": "light"
     },
     "output_type": "display_data"
    }
   ],
   "source": [
    "plt.imshow(img_bird_png[:,:,::-1])"
   ]
  },
  {
   "cell_type": "code",
   "execution_count": null,
   "id": "45344b75",
   "metadata": {},
   "outputs": [],
   "source": []
  },
  {
   "cell_type": "code",
   "execution_count": null,
   "id": "3bb9aef1-6e07-4a9d-b40b-29cfb9325e9c",
   "metadata": {
    "scrolled": true
   },
   "outputs": [],
   "source": []
  },
  {
   "cell_type": "markdown",
   "id": "15f9fb02",
   "metadata": {},
   "source": [
    "- argument로 cv2.IMREAD_UNCHANGED 추가"
   ]
  },
  {
   "cell_type": "code",
   "execution_count": 3,
   "id": "52e7594a",
   "metadata": {},
   "outputs": [
    {
     "name": "stdout",
     "output_type": "stream",
     "text": [
      "Help on built-in function imread:\n",
      "\n",
      "imread(...)\n",
      "    imread(filename[, flags]) -> retval\n",
      "    .   @brief Loads an image from a file.\n",
      "    .   \n",
      "    .   @anchor imread\n",
      "    .   \n",
      "    .   The function imread loads an image from the specified file and returns it. If the image cannot be\n",
      "    .   read (because of missing file, improper permissions, unsupported or invalid format), the function\n",
      "    .   returns an empty matrix ( Mat::data==NULL ).\n",
      "    .   \n",
      "    .   Currently, the following file formats are supported:\n",
      "    .   \n",
      "    .   -   Windows bitmaps - \\*.bmp, \\*.dib (always supported)\n",
      "    .   -   JPEG files - \\*.jpeg, \\*.jpg, \\*.jpe (see the *Note* section)\n",
      "    .   -   JPEG 2000 files - \\*.jp2 (see the *Note* section)\n",
      "    .   -   Portable Network Graphics - \\*.png (see the *Note* section)\n",
      "    .   -   WebP - \\*.webp (see the *Note* section)\n",
      "    .   -   Portable image format - \\*.pbm, \\*.pgm, \\*.ppm \\*.pxm, \\*.pnm (always supported)\n",
      "    .   -   PFM files - \\*.pfm (see the *Note* section)\n",
      "    .   -   Sun rasters - \\*.sr, \\*.ras (always supported)\n",
      "    .   -   TIFF files - \\*.tiff, \\*.tif (see the *Note* section)\n",
      "    .   -   OpenEXR Image files - \\*.exr (see the *Note* section)\n",
      "    .   -   Radiance HDR - \\*.hdr, \\*.pic (always supported)\n",
      "    .   -   Raster and Vector geospatial data supported by GDAL (see the *Note* section)\n",
      "    .   \n",
      "    .   @note\n",
      "    .   -   The function determines the type of an image by the content, not by the file extension.\n",
      "    .   -   In the case of color images, the decoded images will have the channels stored in **B G R** order.\n",
      "    .   -   When using IMREAD_GRAYSCALE, the codec's internal grayscale conversion will be used, if available.\n",
      "    .       Results may differ to the output of cvtColor()\n",
      "    .   -   On Microsoft Windows\\* OS and MacOSX\\*, the codecs shipped with an OpenCV image (libjpeg,\n",
      "    .       libpng, libtiff, and libjasper) are used by default. So, OpenCV can always read JPEGs, PNGs,\n",
      "    .       and TIFFs. On MacOSX, there is also an option to use native MacOSX image readers. But beware\n",
      "    .       that currently these native image loaders give images with different pixel values because of\n",
      "    .       the color management embedded into MacOSX.\n",
      "    .   -   On Linux\\*, BSD flavors and other Unix-like open-source operating systems, OpenCV looks for\n",
      "    .       codecs supplied with an OS image. Install the relevant packages (do not forget the development\n",
      "    .       files, for example, \"libjpeg-dev\", in Debian\\* and Ubuntu\\*) to get the codec support or turn\n",
      "    .       on the OPENCV_BUILD_3RDPARTY_LIBS flag in CMake.\n",
      "    .   -   In the case you set *WITH_GDAL* flag to true in CMake and @ref IMREAD_LOAD_GDAL to load the image,\n",
      "    .       then the [GDAL](http://www.gdal.org) driver will be used in order to decode the image, supporting\n",
      "    .       the following formats: [Raster](http://www.gdal.org/formats_list.html),\n",
      "    .       [Vector](http://www.gdal.org/ogr_formats.html).\n",
      "    .   -   If EXIF information is embedded in the image file, the EXIF orientation will be taken into account\n",
      "    .       and thus the image will be rotated accordingly except if the flags @ref IMREAD_IGNORE_ORIENTATION\n",
      "    .       or @ref IMREAD_UNCHANGED are passed.\n",
      "    .   -   Use the IMREAD_UNCHANGED flag to keep the floating point values from PFM image.\n",
      "    .   -   By default number of pixels must be less than 2^30. Limit can be set using system\n",
      "    .       variable OPENCV_IO_MAX_IMAGE_PIXELS\n",
      "    .   \n",
      "    .   @param filename Name of file to be loaded.\n",
      "    .   @param flags Flag that can take values of cv::ImreadModes\n",
      "\n"
     ]
    }
   ],
   "source": [
    "help(cv2.imread)"
   ]
  },
  {
   "cell_type": "code",
   "execution_count": 9,
   "id": "4904aa9d",
   "metadata": {},
   "outputs": [],
   "source": [
    "img_bird_png_u = cv2.imread('bird.png', cv2.IMREAD_UNCHANGED)"
   ]
  },
  {
   "cell_type": "code",
   "execution_count": 10,
   "id": "49666ce3",
   "metadata": {},
   "outputs": [],
   "source": [
    "def print_array_attributes(img):\n",
    "    print(f\"shape: {img.shape}\")\n",
    "    print(f\"dtype: {img.dtype}\")\n",
    "    print(f\"min, max : {img.min()}, {img.max()}\")\n",
    "    "
   ]
  },
  {
   "cell_type": "code",
   "execution_count": 11,
   "id": "4d659ee0-193b-4c4e-9a97-a9abfe535c68",
   "metadata": {
    "tags": []
   },
   "outputs": [
    {
     "name": "stdout",
     "output_type": "stream",
     "text": [
      "shape: (425, 640, 3)\n",
      "dtype: uint8\n",
      "min, max : 0, 255\n"
     ]
    }
   ],
   "source": [
    "print_array_attributes(img_bird_png)"
   ]
  },
  {
   "cell_type": "code",
   "execution_count": 13,
   "id": "889eccb1-d3ed-43e4-862d-e3d90abfdfb1",
   "metadata": {},
   "outputs": [
    {
     "name": "stdout",
     "output_type": "stream",
     "text": [
      "shape: (425, 640, 4)\n",
      "dtype: uint8\n",
      "min, max : 0, 255\n"
     ]
    }
   ],
   "source": [
    "print_array_attributes(img_bird_png_u) # BGRA - A(alpha) : 투명도"
   ]
  },
  {
   "cell_type": "markdown",
   "id": "d5c28749",
   "metadata": {},
   "source": [
    "#### PNG 파일을 JPEG 파일로 저장하기"
   ]
  },
  {
   "cell_type": "code",
   "execution_count": 17,
   "id": "492e3010",
   "metadata": {
    "scrolled": true
   },
   "outputs": [
    {
     "data": {
      "text/plain": [
       "True"
      ]
     },
     "execution_count": 17,
     "metadata": {},
     "output_type": "execute_result"
    }
   ],
   "source": [
    "cv2.imwrite('bird.jpg', img_bird_png_u)"
   ]
  },
  {
   "cell_type": "markdown",
   "id": "c3b8359d-309c-4536-8069-241ea73561ca",
   "metadata": {},
   "source": [
    "#### JPEG 파일 읽기"
   ]
  },
  {
   "cell_type": "code",
   "execution_count": 18,
   "id": "a3d4ac3d",
   "metadata": {},
   "outputs": [],
   "source": [
    "file_name = 'bird.jpg'"
   ]
  },
  {
   "cell_type": "markdown",
   "id": "0e48868f-f68a-4bd1-b44c-80ef4d7f7441",
   "metadata": {},
   "source": [
    "- 영상 데이터의 속성 확인하기"
   ]
  },
  {
   "cell_type": "code",
   "execution_count": 19,
   "id": "01ce41eb-0241-4f81-b8c5-b6818aa85ba3",
   "metadata": {
    "tags": []
   },
   "outputs": [],
   "source": [
    "img_bird_jpg = cv2.imread(file_name)"
   ]
  },
  {
   "cell_type": "code",
   "execution_count": 20,
   "id": "ae11dba7",
   "metadata": {},
   "outputs": [
    {
     "name": "stdout",
     "output_type": "stream",
     "text": [
      "shape: (425, 640, 3)\n",
      "dtype: uint8\n",
      "min, max : 0, 255\n"
     ]
    }
   ],
   "source": [
    "print_array_attributes(img_bird_jpg)"
   ]
  },
  {
   "cell_type": "code",
   "execution_count": 24,
   "id": "460b9c8f-7628-4bc4-8b3e-01afeedf1e82",
   "metadata": {},
   "outputs": [],
   "source": [
    "img_bird_jpg_u = cv2.imread(file_name, cv2.IMREAD_UNCHANGED)"
   ]
  },
  {
   "cell_type": "code",
   "execution_count": 25,
   "id": "d75f6845-58d9-4a8b-8b63-80a7c34b2e33",
   "metadata": {},
   "outputs": [
    {
     "name": "stdout",
     "output_type": "stream",
     "text": [
      "shape: (425, 640, 3)\n",
      "dtype: uint8\n",
      "min, max : 0, 255\n"
     ]
    }
   ],
   "source": [
    "print_array_attributes(img_bird_jpg_u)"
   ]
  },
  {
   "cell_type": "markdown",
   "id": "61b1902c",
   "metadata": {},
   "source": [
    "#### JPEG 파일의 영상 데이터 배열의 컬러 채널이 3개뿐인 이유\n",
    "\n",
    "**설명**:"
   ]
  },
  {
   "cell_type": "code",
   "execution_count": null,
   "id": "da289bd7-e4ec-4eb8-8332-eb89e88d91eb",
   "metadata": {},
   "outputs": [],
   "source": [
    "jpeg에서 alpha채널을 지원하지 않기 때문이다"
   ]
  },
  {
   "cell_type": "markdown",
   "id": "4cfe4b38-6d48-4fd2-b7e9-ff540e183462",
   "metadata": {},
   "source": [
    "### Matplotlib.image의 imread() 로 읽기"
   ]
  },
  {
   "cell_type": "markdown",
   "id": "bdbc4b4a-0427-4f2d-9a08-1a24a02b049d",
   "metadata": {},
   "source": [
    "#### JPEG 파일 읽기"
   ]
  },
  {
   "cell_type": "code",
   "execution_count": 6,
   "id": "4a4d9b0f-4c4f-41e0-a90e-ae09308247dc",
   "metadata": {},
   "outputs": [],
   "source": [
    "file_name = 'bird.jpg'\n"
   ]
  },
  {
   "cell_type": "code",
   "execution_count": 26,
   "id": "83b97bd8-d8bb-470a-bdaf-20fa9f1a4f4c",
   "metadata": {},
   "outputs": [],
   "source": [
    "img_bird_jpg_mp = mpimg.imread(file_name)"
   ]
  },
  {
   "cell_type": "code",
   "execution_count": 27,
   "id": "5f111f4d-e915-450b-bb96-0697cd86e2f9",
   "metadata": {
    "tags": []
   },
   "outputs": [
    {
     "name": "stdout",
     "output_type": "stream",
     "text": [
      "shape: (425, 640, 3)\n",
      "dtype: uint8\n",
      "min, max : 0, 255\n"
     ]
    }
   ],
   "source": [
    "print_array_attributes(img_bird_jpg_mp)"
   ]
  },
  {
   "cell_type": "code",
   "execution_count": 32,
   "id": "e1aea27f-2b98-493b-9234-01c96adf3b1b",
   "metadata": {},
   "outputs": [
    {
     "data": {
      "text/plain": [
       "array([112,  98, 110], dtype=uint8)"
      ]
     },
     "execution_count": 32,
     "metadata": {},
     "output_type": "execute_result"
    }
   ],
   "source": [
    "img_bird_jpg[10,20] # BGR"
   ]
  },
  {
   "cell_type": "code",
   "execution_count": 30,
   "id": "1fde7b37-4f26-448e-b305-e743626fac07",
   "metadata": {},
   "outputs": [
    {
     "data": {
      "text/plain": [
       "array([103,  92, 108], dtype=uint8)"
      ]
     },
     "execution_count": 30,
     "metadata": {},
     "output_type": "execute_result"
    }
   ],
   "source": [
    "img_bird_jpg_mp[0,0] #RGB"
   ]
  },
  {
   "cell_type": "code",
   "execution_count": 31,
   "id": "973648ed-13e1-419f-a3ce-eda03f8b1cfe",
   "metadata": {},
   "outputs": [
    {
     "data": {
      "text/plain": [
       "<matplotlib.image.AxesImage at 0x7f89f806dcd0>"
      ]
     },
     "execution_count": 31,
     "metadata": {},
     "output_type": "execute_result"
    },
    {
     "data": {
      "image/png": "[encoded data removed]",
      "text/plain": [
       "<Figure size 432x288 with 1 Axes>"
      ]
     },
     "metadata": {
      "needs_background": "light"
     },
     "output_type": "display_data"
    }
   ],
   "source": [
    "plt.imshow(img_bird_jpg_mp)"
   ]
  },
  {
   "cell_type": "markdown",
   "id": "a6bf5924-feb2-4957-8648-50c6db4a0a60",
   "metadata": {},
   "source": [
    "- 두 NumPy ndarray가 같은지 확인하기"
   ]
  },
  {
   "cell_type": "code",
   "execution_count": 33,
   "id": "02937ab1-7c26-4aa0-92d6-a843ed37c55a",
   "metadata": {},
   "outputs": [
    {
     "data": {
      "text/plain": [
       "array([ True,  True,  True])"
      ]
     },
     "execution_count": 33,
     "metadata": {},
     "output_type": "execute_result"
    }
   ],
   "source": [
    "img_bird_jpg[0,0,:] == img_bird_jpg_mp[0,0,::-1]"
   ]
  },
  {
   "cell_type": "code",
   "execution_count": 37,
   "id": "c6ebe7ff-75bd-422f-a0e7-39f0eb879b6b",
   "metadata": {},
   "outputs": [
    {
     "data": {
      "text/plain": [
       "array([[1, 2, 3],\n",
       "       [4, 5, 6]])"
      ]
     },
     "execution_count": 37,
     "metadata": {},
     "output_type": "execute_result"
    }
   ],
   "source": [
    "a = np.array([[1,2,3],[4,5,6]])\n",
    "a"
   ]
  },
  {
   "cell_type": "code",
   "execution_count": 40,
   "id": "be8e363e-5b1f-4b34-a19f-6b1d8ef8c271",
   "metadata": {},
   "outputs": [
    {
     "data": {
      "text/plain": [
       "array([[ True,  True,  True],\n",
       "       [ True,  True,  True]])"
      ]
     },
     "execution_count": 40,
     "metadata": {},
     "output_type": "execute_result"
    }
   ],
   "source": [
    "b = np.array([[1,2,3],[4,5,6]])\n",
    "a == b"
   ]
  },
  {
   "cell_type": "code",
   "execution_count": 43,
   "id": "1c004ea1-b48a-4cd9-ae1b-27a0ec9ec54e",
   "metadata": {},
   "outputs": [
    {
     "data": {
      "text/plain": [
       "(6, 6)"
      ]
     },
     "execution_count": 43,
     "metadata": {},
     "output_type": "execute_result"
    }
   ],
   "source": [
    "a[1][2], a[1,2]"
   ]
  },
  {
   "cell_type": "code",
   "execution_count": 52,
   "id": "a4a0529a-7770-4216-892c-498e60bc7b46",
   "metadata": {},
   "outputs": [
    {
     "data": {
      "text/plain": [
       "array([6, 5, 4])"
      ]
     },
     "execution_count": 52,
     "metadata": {},
     "output_type": "execute_result"
    }
   ],
   "source": [
    "a[1,::-1] ##::-1 배열을 역순으로"
   ]
  },
  {
   "cell_type": "markdown",
   "id": "2df873b4-dddc-4ec9-b7bc-ae117c6bb307",
   "metadata": {},
   "source": [
    "#### PNG 파일 읽기"
   ]
  },
  {
   "cell_type": "code",
   "execution_count": 53,
   "id": "6c17d5e8-1561-4720-ad3b-c2a11390be37",
   "metadata": {
    "tags": []
   },
   "outputs": [],
   "source": [
    "file_name = 'bird.png'"
   ]
  },
  {
   "cell_type": "markdown",
   "id": "8ee586a5-30b7-438e-88e8-91dd8ef53fa9",
   "metadata": {},
   "source": [
    "- 영상의 속성 확인하기"
   ]
  },
  {
   "cell_type": "code",
   "execution_count": 54,
   "id": "5524023d-977f-4cff-92b1-c27a05515c53",
   "metadata": {},
   "outputs": [],
   "source": [
    "img_bird_png_mp = mpimg.imread(file_name)"
   ]
  },
  {
   "cell_type": "code",
   "execution_count": 56,
   "id": "b67a2575-dc64-4814-8509-ea6b29812234",
   "metadata": {},
   "outputs": [
    {
     "name": "stdout",
     "output_type": "stream",
     "text": [
      "shape: (425, 640, 4)\n",
      "dtype: float32\n",
      "min, max : 0.0, 1.0\n"
     ]
    }
   ],
   "source": [
    "print_array_attributes(img_bird_png_mp)"
   ]
  },
  {
   "cell_type": "code",
   "execution_count": null,
   "id": "0a18102e",
   "metadata": {
    "tags": []
   },
   "outputs": [],
   "source": []
  },
  {
   "cell_type": "markdown",
   "id": "ee1fb32a-ce56-4b3f-b43e-93ebccddc432",
   "metadata": {},
   "source": [
    "### List 객체의 데이터 복사하기\n",
    "\n"
   ]
  },
  {
   "cell_type": "code",
   "execution_count": 58,
   "id": "dbad5616",
   "metadata": {},
   "outputs": [
    {
     "data": {
      "text/plain": [
       "[1, 3, 5, 7, 9]"
      ]
     },
     "execution_count": 58,
     "metadata": {},
     "output_type": "execute_result"
    }
   ],
   "source": [
    "x = [1, 3, 5, 7, 9]\n",
    "x"
   ]
  },
  {
   "cell_type": "code",
   "execution_count": null,
   "id": "038c7890",
   "metadata": {},
   "outputs": [],
   "source": []
  },
  {
   "cell_type": "code",
   "execution_count": 8,
   "id": "5ea61027",
   "metadata": {},
   "outputs": [
    {
     "data": {
      "text/plain": [
       "list"
      ]
     },
     "execution_count": 8,
     "metadata": {},
     "output_type": "execute_result"
    }
   ],
   "source": [
    "type(x)"
   ]
  },
  {
   "cell_type": "markdown",
   "id": "ce8854ec",
   "metadata": {},
   "source": [
    "- index를 통해서 개별 item에 접근\n",
    "  - positive index: 0, 1, 2, 3, 4\n",
    "  - negative index: -5, -4, -3, -2, -1"
   ]
  },
  {
   "cell_type": "code",
   "execution_count": 59,
   "id": "e487ebcd",
   "metadata": {},
   "outputs": [
    {
     "data": {
      "text/plain": [
       "(3, 3)"
      ]
     },
     "execution_count": 59,
     "metadata": {},
     "output_type": "execute_result"
    }
   ],
   "source": [
    "x[1], x[-4]"
   ]
  },
  {
   "cell_type": "markdown",
   "id": "b63e61e2",
   "metadata": {},
   "source": [
    "- index slicing"
   ]
  },
  {
   "cell_type": "code",
   "execution_count": 61,
   "id": "38ce95e6",
   "metadata": {},
   "outputs": [
    {
     "data": {
      "text/plain": [
       "[1, 3, 5, 7, 9]"
      ]
     },
     "execution_count": 61,
     "metadata": {},
     "output_type": "execute_result"
    }
   ],
   "source": [
    "x[:]"
   ]
  },
  {
   "cell_type": "code",
   "execution_count": 11,
   "id": "59f6afeb",
   "metadata": {},
   "outputs": [
    {
     "data": {
      "text/plain": [
       "[1, 3, 5]"
      ]
     },
     "execution_count": 11,
     "metadata": {},
     "output_type": "execute_result"
    }
   ],
   "source": [
    "x[:3] #인덱스 0부터 3직전까지"
   ]
  },
  {
   "cell_type": "code",
   "execution_count": 12,
   "id": "315a1a21",
   "metadata": {},
   "outputs": [
    {
     "data": {
      "text/plain": [
       "[3, 5, 7, 9]"
      ]
     },
     "execution_count": 12,
     "metadata": {},
     "output_type": "execute_result"
    }
   ],
   "source": [
    "x[1:]"
   ]
  },
  {
   "cell_type": "code",
   "execution_count": 13,
   "id": "b8125e1e",
   "metadata": {},
   "outputs": [
    {
     "data": {
      "text/plain": [
       "[1, 5, 9]"
      ]
     },
     "execution_count": 13,
     "metadata": {},
     "output_type": "execute_result"
    }
   ],
   "source": [
    "x[::2] #처음부터 끝까지 2씩 건너뜀"
   ]
  },
  {
   "cell_type": "code",
   "execution_count": 14,
   "id": "918bf883",
   "metadata": {},
   "outputs": [
    {
     "data": {
      "text/plain": [
       "[9, 7, 5, 3, 1]"
      ]
     },
     "execution_count": 14,
     "metadata": {},
     "output_type": "execute_result"
    }
   ],
   "source": [
    "x[::-1] #역순"
   ]
  },
  {
   "cell_type": "code",
   "execution_count": 15,
   "id": "337c6e0c",
   "metadata": {},
   "outputs": [
    {
     "data": {
      "text/plain": [
       "['str', 3, 5, 7, 9]"
      ]
     },
     "execution_count": 15,
     "metadata": {},
     "output_type": "execute_result"
    }
   ],
   "source": [
    "x[0] = 'str'\n",
    "x"
   ]
  },
  {
   "cell_type": "markdown",
   "id": "8a32a255",
   "metadata": {},
   "source": [
    "#### List 더하기"
   ]
  },
  {
   "cell_type": "code",
   "execution_count": 19,
   "id": "4bd58c9e",
   "metadata": {},
   "outputs": [
    {
     "data": {
      "text/plain": [
       "([1, 3, 5], [2, 4, 6])"
      ]
     },
     "execution_count": 19,
     "metadata": {},
     "output_type": "execute_result"
    }
   ],
   "source": [
    "x, y"
   ]
  },
  {
   "cell_type": "code",
   "execution_count": 62,
   "id": "ef518f3d",
   "metadata": {},
   "outputs": [
    {
     "data": {
      "text/plain": [
       "[1, 3, 5, 2, 4, 6]"
      ]
     },
     "execution_count": 62,
     "metadata": {},
     "output_type": "execute_result"
    }
   ],
   "source": [
    "x = [1, 3, 5]\n",
    "y = [2, 4, 6]\n",
    "x + y"
   ]
  },
  {
   "cell_type": "code",
   "execution_count": 65,
   "id": "653de1a1",
   "metadata": {},
   "outputs": [
    {
     "data": {
      "text/plain": [
       "[1, 3, 5, 1, 3, 5, 1, 3, 5]"
      ]
     },
     "execution_count": 65,
     "metadata": {},
     "output_type": "execute_result"
    }
   ],
   "source": [
    "3 * x"
   ]
  },
  {
   "cell_type": "markdown",
   "id": "2e1c5b79",
   "metadata": {},
   "source": [
    "### Nested list"
   ]
  },
  {
   "cell_type": "code",
   "execution_count": 68,
   "id": "161f51dc",
   "metadata": {},
   "outputs": [
    {
     "data": {
      "text/plain": [
       "[[1, 2, 3, 4, 5], [6, 7, 8, 9, 10]]"
      ]
     },
     "execution_count": 68,
     "metadata": {},
     "output_type": "execute_result"
    }
   ],
   "source": [
    "x = [[1, 2, 3, 4, 5], [6, 7, 8, 9, 10]]\n",
    "x"
   ]
  },
  {
   "cell_type": "code",
   "execution_count": 69,
   "id": "4808096a",
   "metadata": {},
   "outputs": [
    {
     "data": {
      "text/plain": [
       "[[0, 0, 0, 0, 0], [0, 0, 0, 0, 0]]"
      ]
     },
     "execution_count": 69,
     "metadata": {},
     "output_type": "execute_result"
    }
   ],
   "source": [
    "y = [[0,0,0,0,0], [0,0,0,0,0]]\n",
    "y"
   ]
  },
  {
   "cell_type": "markdown",
   "id": "60e12479",
   "metadata": {},
   "source": [
    "- x의 각 item에 10을 더해서 y의 대응하는 item에 할당하라"
   ]
  },
  {
   "cell_type": "code",
   "execution_count": 77,
   "id": "01b897ef",
   "metadata": {},
   "outputs": [
    {
     "data": {
      "text/plain": [
       "[[11, 12, 13, 14, 15], [16, 17, 18, 19, 20]]"
      ]
     },
     "execution_count": 77,
     "metadata": {},
     "output_type": "execute_result"
    }
   ],
   "source": [
    "for n in range(5):\n",
    "    for m in range(2):\n",
    "        y[m][n] = x[m][n] + 10\n",
    "y"
   ]
  },
  {
   "cell_type": "markdown",
   "id": "cb6c00f5",
   "metadata": {},
   "source": [
    "### NumPy ndarray 복사하기"
   ]
  },
  {
   "cell_type": "code",
   "execution_count": 78,
   "id": "15f9bc2d",
   "metadata": {},
   "outputs": [
    {
     "data": {
      "text/plain": [
       "array([1, 3, 5])"
      ]
     },
     "execution_count": 78,
     "metadata": {},
     "output_type": "execute_result"
    }
   ],
   "source": [
    "a1 = np.array([1, 3, 5])\n",
    "a1"
   ]
  },
  {
   "cell_type": "code",
   "execution_count": 79,
   "id": "3c2bdaad",
   "metadata": {},
   "outputs": [
    {
     "data": {
      "text/plain": [
       "(3,)"
      ]
     },
     "execution_count": 79,
     "metadata": {},
     "output_type": "execute_result"
    }
   ],
   "source": [
    "a1.shape"
   ]
  },
  {
   "cell_type": "code",
   "execution_count": 84,
   "id": "eccedb4b-aa7b-411e-971a-97bc89489e70",
   "metadata": {},
   "outputs": [
    {
     "data": {
      "text/plain": [
       "array([1, 5, 5])"
      ]
     },
     "execution_count": 84,
     "metadata": {},
     "output_type": "execute_result"
    }
   ],
   "source": [
    "a1[1] = 5\n",
    "a1"
   ]
  },
  {
   "cell_type": "code",
   "execution_count": 85,
   "id": "935e7aa0-98b2-4eb0-a1a6-310186b7b791",
   "metadata": {},
   "outputs": [
    {
     "ename": "ValueError",
     "evalue": "invalid literal for int() with base 10: 'str'",
     "output_type": "error",
     "traceback": [
      "\u001b[0;31m---------------------------------------------------------------------------\u001b[0m",
      "\u001b[0;31mValueError\u001b[0m                                Traceback (most recent call last)",
      "\u001b[0;32m/var/folders/0q/rsxzjl1s7hv8wckb62mf516w0000gn/T/ipykernel_44548/3514637012.py\u001b[0m in \u001b[0;36m<module>\u001b[0;34m\u001b[0m\n\u001b[0;32m----> 1\u001b[0;31m \u001b[0ma1\u001b[0m\u001b[0;34m[\u001b[0m\u001b[0;36m1\u001b[0m\u001b[0;34m]\u001b[0m \u001b[0;34m=\u001b[0m \u001b[0;34m'str'\u001b[0m\u001b[0;34m\u001b[0m\u001b[0;34m\u001b[0m\u001b[0m\n\u001b[0m",
      "\u001b[0;31mValueError\u001b[0m: invalid literal for int() with base 10: 'str'"
     ]
    }
   ],
   "source": [
    "a1[1] = 'str'"
   ]
  },
  {
   "cell_type": "code",
   "execution_count": 86,
   "id": "371a6f01-99a3-4db4-8020-e2388562aaff",
   "metadata": {},
   "outputs": [
    {
     "data": {
      "text/plain": [
       "array([1, 4, 5])"
      ]
     },
     "execution_count": 86,
     "metadata": {},
     "output_type": "execute_result"
    }
   ],
   "source": [
    "a1[1] = 4.5\n",
    "a1"
   ]
  },
  {
   "cell_type": "code",
   "execution_count": 87,
   "id": "e8fc546f-5fbd-433f-bbd9-f689fbaa3836",
   "metadata": {},
   "outputs": [
    {
     "data": {
      "text/plain": [
       "dtype('int64')"
      ]
     },
     "execution_count": 87,
     "metadata": {},
     "output_type": "execute_result"
    }
   ],
   "source": [
    "a1.dtype"
   ]
  },
  {
   "cell_type": "code",
   "execution_count": 89,
   "id": "f71a3f88-0c42-4a47-8552-f3620a360e97",
   "metadata": {},
   "outputs": [
    {
     "data": {
      "text/plain": [
       "array([ 1, -5,  5])"
      ]
     },
     "execution_count": 89,
     "metadata": {},
     "output_type": "execute_result"
    }
   ],
   "source": [
    "a1[1] = -5\n",
    "a1"
   ]
  },
  {
   "cell_type": "code",
   "execution_count": 90,
   "id": "3fa91d22-2324-4481-be6d-66c9b7149362",
   "metadata": {},
   "outputs": [
    {
     "data": {
      "text/plain": [
       "array([1, 3, 5], dtype=uint8)"
      ]
     },
     "execution_count": 90,
     "metadata": {},
     "output_type": "execute_result"
    }
   ],
   "source": [
    "a2 = np.array([1,3,5], np.uint8)\n",
    "a2"
   ]
  },
  {
   "cell_type": "markdown",
   "id": "d11874dd-0313-4d4a-bdfc-5de5b9a0d3d8",
   "metadata": {},
   "source": [
    "unsigned integer 8-bit 데이터는 0부터 255(2&&8-1)까지의 정수만 표현"
   ]
  },
  {
   "cell_type": "code",
   "execution_count": 93,
   "id": "87e6c3f2-0592-416b-8143-1919c2c61563",
   "metadata": {},
   "outputs": [
    {
     "data": {
      "text/plain": [
       "array([255,   3,   5], dtype=uint8)"
      ]
     },
     "execution_count": 93,
     "metadata": {},
     "output_type": "execute_result"
    }
   ],
   "source": [
    "a2[0] = -1\n",
    "a2"
   ]
  },
  {
   "cell_type": "markdown",
   "id": "34d0ab37-f191-4dc2-8497-0c7ca1b2b8e4",
   "metadata": {},
   "source": [
    "**설명**: overflow와 underflow"
   ]
  },
  {
   "cell_type": "markdown",
   "id": "34d3262e",
   "metadata": {},
   "source": [
    "### NumPy ndarray 배열 객체의 연산"
   ]
  },
  {
   "cell_type": "code",
   "execution_count": 94,
   "id": "042355bb",
   "metadata": {},
   "outputs": [
    {
     "data": {
      "text/plain": [
       "array([254,   6,  10], dtype=uint8)"
      ]
     },
     "execution_count": 94,
     "metadata": {},
     "output_type": "execute_result"
    }
   ],
   "source": [
    "a2 + a2"
   ]
  },
  {
   "cell_type": "markdown",
   "id": "1a425330",
   "metadata": {},
   "source": [
    "### NumPy ndarray 배열 연산의 broadcasting"
   ]
  },
  {
   "cell_type": "code",
   "execution_count": 95,
   "id": "4952030d",
   "metadata": {},
   "outputs": [
    {
     "data": {
      "text/plain": [
       "array([1, 5, 7], dtype=uint8)"
      ]
     },
     "execution_count": 95,
     "metadata": {},
     "output_type": "execute_result"
    }
   ],
   "source": [
    "a2 + 2"
   ]
  },
  {
   "cell_type": "code",
   "execution_count": 96,
   "id": "da8cf102",
   "metadata": {},
   "outputs": [
    {
     "data": {
      "text/plain": [
       "array([253,   9,  15], dtype=uint8)"
      ]
     },
     "execution_count": 96,
     "metadata": {},
     "output_type": "execute_result"
    }
   ],
   "source": [
    "a2 * 3"
   ]
  },
  {
   "cell_type": "code",
   "execution_count": 102,
   "id": "db8c033d",
   "metadata": {},
   "outputs": [
    {
     "data": {
      "text/plain": [
       "dtype('float64')"
      ]
     },
     "execution_count": 102,
     "metadata": {},
     "output_type": "execute_result"
    }
   ],
   "source": [
    "a3 = a2 / 2\n",
    "a3.dtype"
   ]
  },
  {
   "cell_type": "code",
   "execution_count": 104,
   "id": "a4a1a097-c8c5-4bfe-8812-accad2eeb86c",
   "metadata": {},
   "outputs": [
    {
     "data": {
      "text/plain": [
       "dtype('uint8')"
      ]
     },
     "execution_count": 104,
     "metadata": {},
     "output_type": "execute_result"
    }
   ],
   "source": [
    "a4 = a2 // 2\n",
    "a4.dtype"
   ]
  },
  {
   "cell_type": "code",
   "execution_count": 105,
   "id": "df23c807-6c19-4dd5-b84d-8761cf98cc93",
   "metadata": {},
   "outputs": [
    {
     "data": {
      "text/plain": [
       "array([255,   3,   5], dtype=uint8)"
      ]
     },
     "execution_count": 105,
     "metadata": {},
     "output_type": "execute_result"
    }
   ],
   "source": [
    "a2"
   ]
  },
  {
   "cell_type": "code",
   "execution_count": 107,
   "id": "34b38a43-ff5b-482e-86c2-880e85c4b749",
   "metadata": {},
   "outputs": [
    {
     "data": {
      "text/plain": [
       "array([127.5,   1.5,   2.5])"
      ]
     },
     "execution_count": 107,
     "metadata": {},
     "output_type": "execute_result"
    }
   ],
   "source": [
    "a3"
   ]
  },
  {
   "cell_type": "code",
   "execution_count": 106,
   "id": "5a064c7f-9622-469c-834d-224e66cdd8c1",
   "metadata": {},
   "outputs": [
    {
     "data": {
      "text/plain": [
       "array([127,   1,   2], dtype=uint8)"
      ]
     },
     "execution_count": 106,
     "metadata": {},
     "output_type": "execute_result"
    }
   ],
   "source": [
    "a4"
   ]
  },
  {
   "cell_type": "markdown",
   "id": "4b2ad6e9",
   "metadata": {},
   "source": [
    "### 영상 복사하기\n",
    "\n",
    "1) OpenCV의 imread() 함수를 이용해서 tree-1.jpg 파일을 읽어서 ndarray를 img_tree_1 변수에 할당한다."
   ]
  },
  {
   "cell_type": "code",
   "execution_count": 108,
   "id": "91e94343-00cb-4418-b100-372ff3bee2c7",
   "metadata": {},
   "outputs": [],
   "source": [
    "img_tree_1 = cv2.imread('tree-1.jpg')"
   ]
  },
  {
   "cell_type": "markdown",
   "id": "59033fe3-63aa-4bbf-9610-e455e26196ef",
   "metadata": {},
   "source": [
    "2) img_tree_1을 복사할 빈 ndarray img를 만든다."
   ]
  },
  {
   "cell_type": "code",
   "execution_count": 124,
   "id": "7f2e3eb0-3d4f-4e82-b5f6-8d94840e9442",
   "metadata": {},
   "outputs": [
    {
     "data": {
      "text/plain": [
       "(426, 640, 3)"
      ]
     },
     "execution_count": 124,
     "metadata": {},
     "output_type": "execute_result"
    }
   ],
   "source": [
    "img_tree_1.shape"
   ]
  },
  {
   "cell_type": "code",
   "execution_count": 139,
   "id": "8cf40e10-dec5-46e0-8805-2377b284f18d",
   "metadata": {},
   "outputs": [],
   "source": [
    "img = np.zeros(img_tree_1.shape, img_tree_1.dtype)"
   ]
  },
  {
   "cell_type": "code",
   "execution_count": 133,
   "id": "a59a8da2-51eb-43c6-8fdf-3499028155cc",
   "metadata": {},
   "outputs": [],
   "source": [
    "img = np.zeros_like(img_tree_1)"
   ]
  },
  {
   "cell_type": "code",
   "execution_count": 141,
   "id": "fdd97b3b-3104-49db-b04a-e440e2a5e24c",
   "metadata": {},
   "outputs": [],
   "source": [
    "img = np.empty_like(img_tree_1)"
   ]
  },
  {
   "cell_type": "markdown",
   "id": "a58a9d37-7175-4168-b78a-19edf71fb725",
   "metadata": {},
   "source": [
    "3) img_tree_1의 모든 pixel을 img의 같은 위치에 복사한다."
   ]
  },
  {
   "cell_type": "code",
   "execution_count": 143,
   "id": "209c0253-a66c-4bf5-b934-8a750b283b1a",
   "metadata": {},
   "outputs": [],
   "source": [
    "img[:,:,:] = img_tree_1[:,:,:]"
   ]
  },
  {
   "cell_type": "code",
   "execution_count": 145,
   "id": "51caaf8d-ce85-4d48-a25f-3880c6f22508",
   "metadata": {},
   "outputs": [],
   "source": [
    "img = img_tree_1.copy() # O"
   ]
  },
  {
   "cell_type": "code",
   "execution_count": 148,
   "id": "2ea918c8-6ad1-4b76-92fb-434de4854f7e",
   "metadata": {},
   "outputs": [],
   "source": [
    "img = img_tree_1 # X (img의 주소를 img_tree_1도 가지게 됨)"
   ]
  },
  {
   "cell_type": "code",
   "execution_count": 149,
   "id": "29a5e8cc-f273-454a-8604-a73bf6f2d59e",
   "metadata": {},
   "outputs": [
    {
     "data": {
      "text/plain": [
       "140232193772112"
      ]
     },
     "execution_count": 149,
     "metadata": {},
     "output_type": "execute_result"
    }
   ],
   "source": [
    "id(img)"
   ]
  },
  {
   "cell_type": "code",
   "execution_count": 150,
   "id": "13652dfb-2eec-4a33-95bb-db13d41ed914",
   "metadata": {},
   "outputs": [
    {
     "data": {
      "text/plain": [
       "140232193772112"
      ]
     },
     "execution_count": 150,
     "metadata": {},
     "output_type": "execute_result"
    }
   ],
   "source": [
    "id(img_tree_1)"
   ]
  },
  {
   "cell_type": "code",
   "execution_count": 157,
   "id": "aec318f8-b587-442f-8f32-e5f5947826a3",
   "metadata": {},
   "outputs": [
    {
     "data": {
      "text/plain": [
       "([1, 3, 4], [1, 3, 4])"
      ]
     },
     "execution_count": 157,
     "metadata": {},
     "output_type": "execute_result"
    }
   ],
   "source": [
    "a = [1,3,4]\n",
    "b = a\n",
    "a, b"
   ]
  },
  {
   "cell_type": "code",
   "execution_count": 158,
   "id": "3b5c46ca-f4ca-421b-ab9a-8215ee9d64f8",
   "metadata": {},
   "outputs": [
    {
     "data": {
      "text/plain": [
       "([10, 3, 4], [10, 3, 4])"
      ]
     },
     "execution_count": 158,
     "metadata": {},
     "output_type": "execute_result"
    }
   ],
   "source": [
    "a[0] = 10\n",
    "a,b"
   ]
  },
  {
   "cell_type": "code",
   "execution_count": 159,
   "id": "834a5e58-b3da-4116-993a-8f7e59c508e3",
   "metadata": {},
   "outputs": [
    {
     "data": {
      "text/plain": [
       "([1, 3, 4], [1, 3, 4])"
      ]
     },
     "execution_count": 159,
     "metadata": {},
     "output_type": "execute_result"
    }
   ],
   "source": [
    "a = [1,3,4]\n",
    "b = a.copy()\n",
    "a,b"
   ]
  },
  {
   "cell_type": "code",
   "execution_count": 160,
   "id": "9026e5fc-501e-4c65-877f-c67629ab967f",
   "metadata": {},
   "outputs": [
    {
     "data": {
      "text/plain": [
       "([10, 3, 4], [1, 3, 4])"
      ]
     },
     "execution_count": 160,
     "metadata": {},
     "output_type": "execute_result"
    }
   ],
   "source": [
    "a[0] = 10\n",
    "a,b"
   ]
  },
  {
   "cell_type": "markdown",
   "id": "d8b335ca-7faf-4f8d-b8a2-17189943c548",
   "metadata": {},
   "source": [
    "### weighted sum of two images\n",
    "\n",
    "$$g(x,y) = \\alpha f_1(x,y) + (1-\\alpha )f_2(x,y), \\;\\; 0 \\le \\alpha \\le 1$$"
   ]
  },
  {
   "cell_type": "code",
   "execution_count": 3,
   "id": "cffc53f2",
   "metadata": {},
   "outputs": [],
   "source": [
    "img_tree_1 = cv2.imread('tree-1.jpg')\n",
    "img_tree_2 = cv2.imread('tree-2.jpg')\n",
    "img_tree_3 = cv2.imread('tree-3.jpg')\n",
    "img_tree_4 = cv2.imread('tree-4.jpg')"
   ]
  },
  {
   "cell_type": "code",
   "execution_count": 19,
   "id": "870cd43e-f328-42ea-a285-527d09d82ad1",
   "metadata": {},
   "outputs": [],
   "source": [
    "alpha = 0.5\n",
    "img_tree = (img_tree_1 * alpha + img_tree_4 * (1-alpha)).astype(np.uint8)\n",
    "cv2.imshow('Tree images',img_tree)\n",
    "cv2.waitKey(0)\n",
    "cv2.destroyAllWindows()"
   ]
  },
  {
   "cell_type": "code",
   "execution_count": 18,
   "id": "1e6fff70",
   "metadata": {},
   "outputs": [],
   "source": [
    "for alpha in np.arange(1,-0.1, -0.1):\n",
    "    img_tree = (img_tree_1 * alpha + img_tree_4 * (1-alpha)).astype(np.uint8)\n",
    "    cv2.imshow('Tree images',img_tree)\n",
    "    cv2.waitKey(0)\n",
    "    cv2.destroyAllWindows()"
   ]
  },
  {
   "cell_type": "markdown",
   "id": "22213a44",
   "metadata": {},
   "source": [
    "## 문제 1.\n",
    "\n",
    "가중치 $\\alpha$를 1부터 0까지 0.01 간격으로 변경해 가면서, 두 영상의 weighted sum을 구하고 화면에 표시하는 프로그램을 작성하라.\n",
    "\n",
    "영상의 순서는 tree-1 -> tree-2 --> tree-3 -->tree4 --> tree-1\n",
    "단, 영상과 영상 사이의 디스플레이 간격은 0.5초로 설정하라.\n"
   ]
  },
  {
   "cell_type": "code",
   "execution_count": 5,
   "id": "7729cf6c-4cd2-45a3-a120-4dc56167707c",
   "metadata": {},
   "outputs": [],
   "source": [
    "img_trees = [img_tree_1, img_tree_2, img_tree_3, img_tree_4, img_tree_1]\n",
    "for i in range(1,5):\n",
    "    for alpha in np.arange(1, 0, -0.01):\n",
    "        img_tree = (img_trees[i-1] * alpha + img_trees[i] * (1-alpha)).astype(np.uint8)\n",
    "        cv2.imshow('Tree images', img_tree)\n",
    "        cv2.waitKey(500)\n",
    "cv2.destroyAllWindows()\n"
   ]
  }
 ],
 "metadata": {
  "kernelspec": {
   "display_name": "Python 3 (ipykernel)",
   "language": "python",
   "name": "python3"
  },
  "language_info": {
   "codemirror_mode": {
    "name": "ipython",
    "version": 3
   },
   "file_extension": ".py",
   "mimetype": "text/x-python",
   "name": "python",
   "nbconvert_exporter": "python",
   "pygments_lexer": "ipython3",
   "version": "3.9.6"
  },
  "latex_envs": {
   "LaTeX_envs_menu_present": true,
   "autoclose": false,
   "autocomplete": true,
   "bibliofile": "biblio.bib",
   "cite_by": "apalike",
   "current_citInitial": 1,
   "eqLabelWithNumbers": true,
   "eqNumInitial": 1,
   "hotkeys": {
    "equation": "Ctrl-E",
    "itemize": "Ctrl-I"
   },
   "labels_anchors": false,
   "latex_user_defs": false,
   "report_style_numbering": false,
   "user_envs_cfg": false
  }
 },
 "nbformat": 4,
 "nbformat_minor": 5
}
