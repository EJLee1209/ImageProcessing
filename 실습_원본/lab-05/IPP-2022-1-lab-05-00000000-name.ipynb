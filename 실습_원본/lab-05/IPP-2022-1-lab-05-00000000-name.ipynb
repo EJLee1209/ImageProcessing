{
 "cells": [
  {
   "cell_type": "markdown",
   "id": "797d2e43-d1aa-4336-a7b7-c2247577d58a",
   "metadata": {},
   "source": [
    "<h1 align='center'> 영상처리 프로그래밍 실습 5</h1>\n",
    "\n",
    "<h6 align='right'> 2022. 3. 31. </h6>"
   ]
  },
  {
   "cell_type": "markdown",
   "id": "db5adea0",
   "metadata": {},
   "source": [
    "<div class=\"alert alert-block alert-info\">\n",
    "    \n",
    "- 파일 이름에서 00000000을 자신의 학번으로, name을 자신의 이름으로 수정하세요.\n",
    "\n",
    "- 다음 줄에 자신의 이름, 학번, 학과(전공)을 적으세요.\n",
    "\n",
    "* 이름:   &nbsp;&nbsp;          학번:    &nbsp;&nbsp;         학과(전공):\n",
    "    \n",
    "</div>\n",
    "\n",
    "- JupyterLab 문서의 최신 버전은 [JupyterLab Documentation](https://jupyterlab.readthedocs.io/en/stable/index.html#/)을  참고하라\n",
    "\n",
    "- Markdown은 [Markdown Guide](https://www.markdownguide.org/)를 참고하라.\n",
    "- [Markdown Cheat Sheet](https://www.markdownguide.org/cheat-sheet/)\n",
    "\n",
    "* 제출 마감: 4월 6일 (수) 오후 6:00까지 최종본을 SmartLEAD제출\n"
   ]
  },
  {
   "cell_type": "code",
   "execution_count": null,
   "id": "34e117ec",
   "metadata": {},
   "outputs": [],
   "source": [
    "import cv2\n",
    "import matplotlib.pyplot as plt\n",
    "import matplotlib.image as mpimg\n",
    "\n",
    "import numpy as np\n",
    "print(\"OpenCV version\", cv2.__version__)\n",
    "print(\"NumPy version\", np.__version__)"
   ]
  },
  {
   "cell_type": "markdown",
   "id": "bf14c6bf-a291-47ef-aaa6-e406dadd78e0",
   "metadata": {},
   "source": [
    "## 지난 주 문제 1.\n"
   ]
  },
  {
   "cell_type": "code",
   "execution_count": null,
   "id": "b5b8bd4e",
   "metadata": {},
   "outputs": [],
   "source": [
    "import numpy as np\n",
    "\n",
    "def onMouse(event, x, y, flags, param):\n",
    "    global pt1, pt2, clicked, img2, cropped_img\n",
    "    if event == cv2.EVENT_LBUTTONDOWN and not clicked:\n",
    "        clicked = True\n",
    "        pt1 = [x, y]\n",
    "    elif event == cv2.EVENT_MOUSEMOVE and clicked:\n",
    "        pt2 = [x, y]\n",
    "        img2 = img.copy()\n",
    "        cv2.rectangle(img2, pt1, pt2, white, cv2.LINE_4)\n",
    "        cv2.imshow(\"Image\", img2)\n",
    "    elif event == cv2.EVENT_LBUTTONUP and clicked:\n",
    "        pt2 = [x, y]\n",
    "        clicked = False\n",
    "        if pt1 != pt2:\n",
    "            cv2.rectangle(img2, pt1, pt2, white, cv2.LINE_4)\n",
    "            cv2.imshow(\"Image\", img2)\n",
    "            if pt1[1] > pt2[1]:\n",
    "                pt1[1], pt2[1] = pt2[1], pt1[1]\n",
    "            if pt1[0] > pt2[0]:\n",
    "                pt1[0], pt2[0] = pt2[0], pt1[0]\n",
    "                \n",
    "            cv2.imshow(\"Cropped\", img[pt1[1]:pt2[1]+1,pt1[0]:pt2[0]+1,:])\n",
    "        \n",
    "white = (255, 255, 255)\n",
    "clicked = False\n",
    "img = cv2.imread(\"bird.png\")\n",
    "img2 = img.copy()\n",
    "cropped_img = np.zeros_like(img)\n",
    "cv2.namedWindow(\"Cropped\", 0)\n",
    "cv2.imshow(\"Cropped\", cropped_img)\n",
    "print(img.shape)\n",
    "cv2.imshow(\"Image\", img2)\n",
    "#cv2.imshow(\"Cropped Image\", img2)\n",
    "\n",
    "cv2.setMouseCallback(\"Image\", onMouse)\n",
    "cv2.waitKey(0)\n",
    "cv2.destroyAllWindows()"
   ]
  },
  {
   "cell_type": "markdown",
   "id": "1f702ab1-eee0-488a-bd3f-f4c11f2fe1e8",
   "metadata": {},
   "source": [
    "## 예제 1. \n",
    "2 차원 공간 상의 두 점의 좌표를 각각 $\\mathbf{x}_1 = (x_1, y_1), \\mathbf{x}_2 = (x_2, y_2)$라고 하자. 그러면 두 점 사이의 거리는 다음과 같다.\n",
    "\n",
    "$$d(\\mathbf{x}_1, \\mathbf{x}_2) = \\sqrt{(x_1-x_2)^2 + (y_1-y_2)^2}$$\n",
    "\n",
    "다음 두 점 사이의 거리를 구하라.\n",
    "\n",
    "$\\mathbf{x}_1 = (1, 4), \\mathbf{x}_2 = (5, 7)$"
   ]
  },
  {
   "cell_type": "code",
   "execution_count": null,
   "id": "49748f78-7355-4ea1-acf5-56eba804b45f",
   "metadata": {},
   "outputs": [],
   "source": [
    "p1 = np.array([1, 4])\n",
    "p2 = np.array([5, 7])\n",
    "distance = \n",
    "print(distance)"
   ]
  },
  {
   "cell_type": "code",
   "execution_count": null,
   "id": "cb27f188-bfe4-42a1-be1a-6353a21541da",
   "metadata": {},
   "outputs": [],
   "source": []
  },
  {
   "cell_type": "markdown",
   "id": "cd16531c-3c4a-4a7b-a762-754623b46179",
   "metadata": {},
   "source": [
    "## 예제 2.\n",
    "\n",
    "'bird.png' 파일을 읽고 중앙에 영상의 정 중앙을 원의 중심으로 하고 영상의 높이의 1/3을 반지름으로 하는 원 외부의 영역을 모두 검은색으로 만드는 프로그램을 작성하라."
   ]
  },
  {
   "cell_type": "code",
   "execution_count": null,
   "id": "687754e5-8962-4604-8b45-8cd6c9a5e4e1",
   "metadata": {},
   "outputs": [],
   "source": [
    "bird = cv2.imread('bird.png')\n",
    "bird.dtype"
   ]
  },
  {
   "cell_type": "code",
   "execution_count": null,
   "id": "c89fb737-2ffe-481d-9da1-c8be74173eb0",
   "metadata": {},
   "outputs": [],
   "source": [
    "# x: down\n",
    "# y: right\n",
    "center = \n",
    "radius = \n",
    "\n",
    "x = \n",
    "y = \n",
    "\n",
    "idx = \n",
    "bird[idx] = [255, 255, 255]\n",
    "plt.figure()\n",
    "plt.imshow(bird[:,:,::-1])\n",
    "plt.show()"
   ]
  },
  {
   "cell_type": "markdown",
   "id": "2a9c59d8-d140-41b1-bf43-f943bea1ec0a",
   "metadata": {},
   "source": [
    "## 예제 3.\n",
    "\n",
    "'bird.png' 파일을 읽고 네 가장자리 변의 중앙을 연결하는 마름로 외부의 영역을 모두 검은색으로 만드는 프로그램을 작성하라."
   ]
  },
  {
   "cell_type": "code",
   "execution_count": null,
   "id": "aa370d43-8315-4984-9df3-a71125cb1560",
   "metadata": {},
   "outputs": [],
   "source": [
    "bird = cv2.imread('bird.png')\n",
    "\n",
    "x = \n",
    "y = \n",
    "\n",
    "A = np.array([0, bird.shape[1]//2])\n",
    "B = np.array([bird.shape[0]//2, 0])\n",
    "C = np.array([bird.shape[0]-1, bird.shape[1]//2])\n",
    "D = np.array([bird.shape[0]//2, bird.shape[1]-1])\n",
    "\n",
    "# AB \n",
    "slope_AB = (B-A)[1] / (B-A)[0]\n",
    "intercept_AB = A[1]\n",
    "idx_AB = \n",
    "\n",
    "bird[idx_AB] = (0,0,0)\n",
    "plt.imshow(bird[:,:,::-1])\n",
    "plt.show()"
   ]
  },
  {
   "cell_type": "markdown",
   "id": "fcd22c59-4d56-4c37-bc7e-b8081b9da2db",
   "metadata": {},
   "source": [
    "## 예제 4.\n",
    "cv2.imread 함수를 이용해서 'bird.png' 파일을 읽고, cv2.circle 함수를 이용해서 영상의 정 중앙을 원의 중심으로 하고 영상의 높이의 1/3을 반지름으로 하는 원을 그려라."
   ]
  },
  {
   "cell_type": "code",
   "execution_count": null,
   "id": "64fd2dbe-4cab-4af9-9c24-210e8171f789",
   "metadata": {},
   "outputs": [],
   "source": [
    "help(cv2.circle)"
   ]
  },
  {
   "cell_type": "code",
   "execution_count": null,
   "id": "2eaf4849-2346-4643-8c59-6aae100e380c",
   "metadata": {},
   "outputs": [],
   "source": [
    "white = (255, 255, 255)\n",
    "img = cv2.imread(\"bird.png\")\n",
    "\n",
    "center = \n",
    "radius = \n",
    "cv2.circle(img, center, radius, white, cv2.LINE_4)\n",
    "cv2.imshow(\"Image\", img)\n",
    "\n",
    "cv2.waitKey(0)\n",
    "cv2.destroyAllWindows()"
   ]
  },
  {
   "cell_type": "code",
   "execution_count": null,
   "id": "99654c9d-99e3-4074-9c13-8fe021316a48",
   "metadata": {},
   "outputs": [],
   "source": [
    "help(cv2.circle)"
   ]
  },
  {
   "cell_type": "code",
   "execution_count": null,
   "id": "0ea529e1-8bc3-450d-940d-ba44b566ed4c",
   "metadata": {},
   "outputs": [],
   "source": []
  },
  {
   "cell_type": "markdown",
   "id": "048e1bcb-2734-42a7-9bf7-8310a2cf0093",
   "metadata": {},
   "source": [
    "## 예제 5.\n",
    "\n",
    "다음 조건을 모두 만족하는 프로그램을 작성하라.\n",
    "\n",
    "1. 'bird.png' 파일을 읽고, cv2.imshow 함수를 이용하여 \"Image\" title을 가진 윈도우에 영상을 표시한다.\n",
    "2. cv2.namedWindow(\"Cropped\", 0) 으로 윈도우를 만들고  검은색 영상을 표시한다.\n",
    "3. \"Image\" 윈도우 위에 마우스 왼쪽 버튼을 눌렀을 때의 위치를 원의 중심으로 하고, 마우스 왼쪽 버튼을 누른 상태에서 마우스를 움직이면 그 위치가 원 둘레의 한 점이 되도록 원을 update 한다.\n",
    "4. 왼쪽 마우스 버튼을 떼면 원이 확정된다.\n",
    "5. \"Cropped\" title을 가진 윈도우에 원 내부의 영상을 표시한다."
   ]
  },
  {
   "cell_type": "code",
   "execution_count": null,
   "id": "818cfc36-241b-4a15-a5f6-7f78216111ad",
   "metadata": {},
   "outputs": [],
   "source": [
    "import numpy as np\n",
    "\n",
    "\n",
    "\n",
    "def onMouse(event, x, y, flags, param):\n",
    "    global pt1, pt2, clicked, img2, cropped_img\n",
    "    if event == cv2.EVENT_LBUTTONDOWN and not clicked:\n",
    "        clicked = True\n",
    "        pt1 = [x, y]\n",
    "    elif event == cv2.EVENT_MOUSEMOVE and clicked:\n",
    "        pt2 = [x, y]\n",
    "        img2 = img.copy()\n",
    "        # radius를 구하고, img2에 pt1을 중심으로 하고, radius를 반지름으로 하는 원을 그린다\n",
    "        radius = \n",
    "        cv2.circle(img2, pt1, radius, white, cv2.LINE_4)\n",
    "        cv2.imshow(\"Image\", img2)\n",
    "    elif event == cv2.EVENT_LBUTTONUP and clicked:\n",
    "        pt2 = [x, y]\n",
    "        clicked = False\n",
    "        if pt1 != pt2:\n",
    "            radius = get_distance(pt1, pt2)\n",
    "            # radius를 구하고, img2에 pt1을 중심으로 하고, radius를 반지름으로 하는 원을 그린다\n",
    "            cv2.circle(img2, pt1, radius, white, cv2.LINE_4)\n",
    "            cv2.imshow(\"Image\", img2)\n",
    "            \n",
    "            # cropped image를 구하여 별도의 창에 표시한다.\n",
    "            img_cropped = \n",
    "            cv2.imshow(\"Cropped\", img_cropped)\n",
    "        \n",
    "white = (255, 255, 255)\n",
    "clicked = False\n",
    "img = cv2.imread(\"bird.png\")\n",
    "img2 = img.copy()\n",
    "cropped_img = np.zeros_like(img)\n",
    "cv2.namedWindow(\"Cropped\", 0)\n",
    "cv2.imshow(\"Cropped\", cropped_img)\n",
    "print(img.shape)\n",
    "cv2.imshow(\"Image\", img2)\n",
    "#cv2.imshow(\"Cropped Image\", img2)\n",
    "\n",
    "cv2.setMouseCallback(\"Image\", onMouse)\n",
    "cv2.waitKey(0)\n",
    "cv2.destroyAllWindows()"
   ]
  },
  {
   "cell_type": "markdown",
   "id": "c0939e44-f989-41cf-91fc-6e6f3898913b",
   "metadata": {},
   "source": [
    "## 예제 6. OpenCV의 image resize\n",
    "\n",
    "'clock_150.jpg' 파일을 읽고, 가로 방향으로 1.5배, 세로 방향으로 2.5배 확장한 영상을 표시하라."
   ]
  },
  {
   "cell_type": "code",
   "execution_count": null,
   "id": "6da2b2ad-e01e-43d2-91fe-1151d07aed62",
   "metadata": {},
   "outputs": [],
   "source": []
  },
  {
   "cell_type": "code",
   "execution_count": null,
   "id": "897257dd-8d34-4638-85d9-7f6000d84623",
   "metadata": {},
   "outputs": [],
   "source": []
  },
  {
   "cell_type": "code",
   "execution_count": null,
   "id": "8fb7bf27-b8f9-4b8d-b7c6-2c09df0f9e32",
   "metadata": {},
   "outputs": [],
   "source": []
  },
  {
   "cell_type": "code",
   "execution_count": null,
   "id": "78187573-5f4a-405b-b820-6c204ab463ee",
   "metadata": {},
   "outputs": [],
   "source": [
    "clock_2 = cv2.resize(clock_150, None, fx=1.5, fy=2.5)\n",
    "plt.imshow(clock_2[:,:,::-1])"
   ]
  },
  {
   "cell_type": "markdown",
   "id": "ee1e8ab8-d9b8-409d-ba5d-6bd82228f5f2",
   "metadata": {},
   "source": [
    "## 문제 1.\n",
    "\n",
    "다음 조건을 모두 만족하는 프로그램을 작성하라.\n",
    "\n",
    "- 'clock_150.jpg' 파일을 읽고, cv2.imshow 함수를 이용하여 \"Clock\" title을 가진 윈도우에 영상을 표시한다.\n",
    "- \"Clock\" 윈도우 위에 마우스 오른쪽 버튼을 누르면 영상이 가로 세로 방향으로 조금씩 확대된다. 단, 최대 5 배 이상을 넘으면 더 이상 영상은 확대되지 않는다.\n",
    "- \"Clock\" 윈도우 위에 마우스 왼쪽 버튼을 누르면 영상이 가로 세로 방향으로 조금씩 축소된다. 단, 원래 영상 크기보다 작아지면 안된다.\n",
    "- 다음 숫자를 누르면 영상 확대 시 interpolation 옵션은 키보드의 숫자를 눌러서 지정한다.\n",
    "  - 1: Nearest-neighbor interpolation\n",
    "  - 2: Bilinear interpolation\n",
    "  - 3: Cubic interpolation \n"
   ]
  },
  {
   "cell_type": "code",
   "execution_count": null,
   "id": "473e4a18-0cd1-4f49-a498-9ca86760733b",
   "metadata": {},
   "outputs": [],
   "source": []
  },
  {
   "cell_type": "code",
   "execution_count": null,
   "id": "5a27b9a1-46fc-49f0-8c69-5c42a2e2afdb",
   "metadata": {},
   "outputs": [],
   "source": []
  },
  {
   "cell_type": "code",
   "execution_count": null,
   "id": "4bbadf07-b16e-4f22-b1ad-40d698e987bb",
   "metadata": {},
   "outputs": [],
   "source": []
  },
  {
   "cell_type": "code",
   "execution_count": null,
   "id": "e036017d",
   "metadata": {},
   "outputs": [],
   "source": []
  },
  {
   "cell_type": "code",
   "execution_count": null,
   "id": "f36c473e",
   "metadata": {
    "tags": []
   },
   "outputs": [],
   "source": [
    "x = np.random.randint(0, 5, 20)\n",
    "x"
   ]
  },
  {
   "cell_type": "code",
   "execution_count": null,
   "id": "46efa5a3",
   "metadata": {},
   "outputs": [],
   "source": [
    "type(x)"
   ]
  },
  {
   "cell_type": "code",
   "execution_count": null,
   "id": "46623558",
   "metadata": {},
   "outputs": [],
   "source": [
    "x.shape"
   ]
  },
  {
   "cell_type": "code",
   "execution_count": null,
   "id": "8c9561c8",
   "metadata": {},
   "outputs": [],
   "source": [
    "x.dtype"
   ]
  },
  {
   "cell_type": "code",
   "execution_count": null,
   "id": "6c22939b",
   "metadata": {},
   "outputs": [],
   "source": [
    "x.min()"
   ]
  },
  {
   "cell_type": "code",
   "execution_count": null,
   "id": "803aaf14",
   "metadata": {},
   "outputs": [],
   "source": [
    "x.max()"
   ]
  },
  {
   "cell_type": "code",
   "execution_count": null,
   "id": "05f9a818",
   "metadata": {},
   "outputs": [],
   "source": [
    "values = range(x.min(), x.max()+1)\n",
    "for n in values:\n",
    "    print(n, np.count_nonzero(x == n))"
   ]
  },
  {
   "cell_type": "code",
   "execution_count": null,
   "id": "0d522d0d",
   "metadata": {},
   "outputs": [],
   "source": [
    "plt.stem(values, [5,7,1,6,1])\n",
    "plt.xticks(values)\n",
    "plt.show()"
   ]
  },
  {
   "cell_type": "code",
   "execution_count": null,
   "id": "85979339",
   "metadata": {},
   "outputs": [],
   "source": [
    "# Red component image\n",
    "img_bird_jpg_mp_r = img_bird_jpg_mp[:,:,2]"
   ]
  },
  {
   "cell_type": "code",
   "execution_count": null,
   "id": "d2abd541",
   "metadata": {},
   "outputs": [],
   "source": [
    "img_bird_jpg_mp_r"
   ]
  },
  {
   "cell_type": "code",
   "execution_count": null,
   "id": "84b91941",
   "metadata": {},
   "outputs": [],
   "source": [
    "img_bird_jpg_mp_r.shape"
   ]
  },
  {
   "cell_type": "code",
   "execution_count": null,
   "id": "11ffee81",
   "metadata": {},
   "outputs": [],
   "source": [
    "values = np.arange(256)\n",
    "hist_bird_jpg_mp_r = np.zeros(256)\n",
    "for val in values:\n",
    "    hist_bird_jpg_mp_r[val] = np.count_nonzero(img_bird_jpg_mp_r == val)\n",
    "histogram_r"
   ]
  },
  {
   "cell_type": "code",
   "execution_count": null,
   "id": "4103734d",
   "metadata": {},
   "outputs": [],
   "source": [
    "plt.plot(hist_bird_jpg_mp_r)"
   ]
  },
  {
   "cell_type": "code",
   "execution_count": null,
   "id": "ad688b44",
   "metadata": {},
   "outputs": [],
   "source": [
    "plt.stem(hist_bird_jpg_mp_r, markerfmt=\" \")"
   ]
  },
  {
   "cell_type": "code",
   "execution_count": null,
   "id": "b962f02e",
   "metadata": {},
   "outputs": [],
   "source": [
    "def get_histogram(img, vmin=0, vmax=255):\n",
    "    x = np.arange(vmin, vmax+1)\n",
    "    histogram = np.zeros(vmax-vmin+1)\n",
    "    for pixel in x:\n",
    "        histogram[pixel - vmin] = np.count_nonzero(img == pixel)\n",
    "    return histogram"
   ]
  },
  {
   "cell_type": "code",
   "execution_count": null,
   "id": "f8faf2f0",
   "metadata": {},
   "outputs": [],
   "source": [
    "img_bird_jpg_mp_r = img_bird_jpg_mp[:,:,0]\n",
    "img_bird_jpg_mp_g = img_bird_jpg_mp[:,:,1]\n",
    "img_bird_jpg_mp_b = img_bird_jpg_mp[:,:,2]"
   ]
  },
  {
   "cell_type": "code",
   "execution_count": null,
   "id": "b38c12b6",
   "metadata": {},
   "outputs": [],
   "source": [
    "hist_bird_jpg_mp_r = get_histogram(img_bird_jpg_mp_r)\n",
    "hist_bird_jpg_mp_g = get_histogram(img_bird_jpg_mp_g)\n",
    "hist_bird_jpg_mp_b = get_histogram(img_bird_jpg_mp_b)\n"
   ]
  },
  {
   "cell_type": "code",
   "execution_count": null,
   "id": "46fb2f13",
   "metadata": {
    "tags": []
   },
   "outputs": [],
   "source": [
    "hist_bird_jpg_mp_g"
   ]
  },
  {
   "cell_type": "code",
   "execution_count": null,
   "id": "23d3d7e2",
   "metadata": {},
   "outputs": [],
   "source": [
    "plt.figure(figsize=(12,4))\n",
    "plt.bar(range(256), hist_bird_jpg_mp_r, alpha=0.5,  color='r')\n",
    "plt.bar(range(256), hist_bird_jpg_mp_g, alpha=0.4,  color='g')\n",
    "plt.bar(range(256), hist_bird_jpg_mp_b, alpha=0.3,  color='b')\n"
   ]
  }
 ],
 "metadata": {
  "kernelspec": {
   "display_name": "Python 3 (ipykernel)",
   "language": "python",
   "name": "python3"
  },
  "language_info": {
   "codemirror_mode": {
    "name": "ipython",
    "version": 3
   },
   "file_extension": ".py",
   "mimetype": "text/x-python",
   "name": "python",
   "nbconvert_exporter": "python",
   "pygments_lexer": "ipython3",
   "version": "3.9.7"
  },
  "latex_envs": {
   "LaTeX_envs_menu_present": true,
   "autoclose": false,
   "autocomplete": true,
   "bibliofile": "biblio.bib",
   "cite_by": "apalike",
   "current_citInitial": 1,
   "eqLabelWithNumbers": true,
   "eqNumInitial": 1,
   "hotkeys": {
    "equation": "Ctrl-E",
    "itemize": "Ctrl-I"
   },
   "labels_anchors": false,
   "latex_user_defs": false,
   "report_style_numbering": false,
   "user_envs_cfg": false
  }
 },
 "nbformat": 4,
 "nbformat_minor": 5
}
