{
 "cells": [
  {
   "cell_type": "markdown",
   "id": "797d2e43-d1aa-4336-a7b7-c2247577d58a",
   "metadata": {},
   "source": [
    "<h1 align='center'> 영상처리 프로그래밍 실습 4</h1>\n",
    "\n",
    "<h6 align='right'> 2022. 3. 31. </h6>"
   ]
  },
  {
   "cell_type": "markdown",
   "id": "db5adea0",
   "metadata": {},
   "source": [
    "<div class=\"alert alert-block alert-info\">\n",
    "    \n",
    "- 파일 이름에서 00000000을 자신의 학번으로, name을 자신의 이름으로 수정하세요.\n",
    "\n",
    "- 다음 줄에 자신의 이름, 학번, 학과(전공)을 적으세요.\n",
    "\n",
    "* 이름:   &nbsp;&nbsp;          학번:    &nbsp;&nbsp;         학과(전공):\n",
    "    \n",
    "</div>\n",
    "\n",
    "- JupyterLab 문서의 최신 버전은 [JupyterLab Documentation](https://jupyterlab.readthedocs.io/en/stable/index.html#/)을  참고하라\n",
    "\n",
    "- Markdown은 [Markdown Guide](https://www.markdownguide.org/)를 참고하라.\n",
    "- [Markdown Cheat Sheet](https://www.markdownguide.org/cheat-sheet/)\n",
    "\n",
    "* 제출 마감: 4월 6일 (수) 오후 6:00까지 최종본을 SmartLEAD제출\n"
   ]
  },
  {
   "cell_type": "code",
   "execution_count": null,
   "id": "34e117ec",
   "metadata": {},
   "outputs": [],
   "source": [
    "import cv2\n",
    "import matplotlib.pyplot as plt\n",
    "import matplotlib.image as mpimg\n",
    "\n",
    "import numpy as np\n",
    "print(\"OpenCV version\", cv2.__version__)\n",
    "print(\"NumPy version\", np.__version__)"
   ]
  },
  {
   "cell_type": "markdown",
   "id": "5d8a3574-a667-4851-917c-8d0b08922f7a",
   "metadata": {},
   "source": [
    "## 지난 주 예제 8."
   ]
  },
  {
   "cell_type": "code",
   "execution_count": null,
   "id": "d46da187-1438-4a26-9b5f-b1a873b1e616",
   "metadata": {},
   "outputs": [],
   "source": [
    "white = (255, 255, 255)\n",
    "img = cv2.imread(\"bird.png\")\n",
    "\n",
    "pt1 = np.array([30, 30])\n",
    "rect = [300, 200]\n",
    "img_a = img.copy()\n",
    "cv2.rectangle(img_a, pt1, rect, white, cv2.LINE_4)\n",
    "\n",
    "cropped_img = img[pt1[0]:pt1[0]+rect[1],pt1[1]:pt1[1]+rect[0],:]\n",
    "cv2.imshow(\"Cropped\", cropped_img)\n",
    "cv2.imshow(\"Image\", img_a)\n",
    "\n",
    "while cv2.waitKey(0) != ord('q'):\n",
    "    pass\n",
    "\n",
    "cv2.destroyAllWindows()"
   ]
  },
  {
   "cell_type": "markdown",
   "id": "bef394ab-26a0-48ab-97f2-9b4df39d2945",
   "metadata": {},
   "source": [
    "## 지난 주 문제 1.\n",
    "\n",
    "예제 8의 프로그램을 다음과 같이 수정하라.\n",
    "\n",
    "1. 'Image' 윈도우에서 마우스 왼쪽 버튼을 클릭하면 그 위치가 하얀색 창의 왼쪽 위 꼭지점의 좌표를 지정하게 되고, 흰색 창의 크기가 변하고 흰색 창에 포함된 영상이 'Cropped' 윈도우에 표시된다.\n",
    "\n",
    "2. 'Image' 윈도우에서 마우스 오른쪽 버튼을 클릭하면 그 위치가 하얀색 창의 오른쪽 아래 꼭지점의 좌표를 지정하게 되고, 흰색 창의 크기가 변하고 흰색 창에 포함된 영상이 'Cropped' 윈도우에 표시된다.\n",
    "\n",
    "3. 'Cropped' 윈도우에서 왼쪽 마우스 버튼을 클릭하면 사용자에게 저장할 파일 이름을 입력받아서 'Cropped' 윈도우에 표시된 영상 부분을 별도의 파일로 저장한다."
   ]
  },
  {
   "cell_type": "code",
   "execution_count": null,
   "id": "79c87fe4-4b57-46e2-8fce-08181e5c544d",
   "metadata": {},
   "outputs": [],
   "source": [
    "def onMouseClick(event, x, y, flags, param):\n",
    "    global pt1, pt2, img_a, cropped_img, clicked\n",
    "    if event == cv2.EVENT_LBUTTONUP:\n",
    "        pt1 = x, y\n",
    "        clicked = clicked | LUP\n",
    "        if clicked == (LUP | RUP) :\n",
    "            img_a = img.copy()\n",
    "            cv2.rectangle(img_a, pt1, pt2, white, cv2.LINE_4)\n",
    "            cropped_img = img[pt1[1]:pt2[1]+1, pt1[0]:pt2[0]+1,:]\n",
    "            cv2.imshow(\"Cropped\", cropped_img)\n",
    "            cv2.imshow(\"Image\", img_a)\n",
    "\n",
    "\n",
    "    elif event == cv2.EVENT_RBUTTONUP:\n",
    "        pt2 = x, y\n",
    "        clicked = clicked | RUP\n",
    "        if clicked == (LUP | RUP) :\n",
    "            img_a = img.copy()\n",
    "            cv2.rectangle(img_a, pt1, pt2, white, cv2.LINE_4)\n",
    "            cropped_img = img[pt1[1]:pt2[1]+1, pt1[0]:pt2[0]+1,:]\n",
    "            cv2.imshow(\"Cropped\", cropped_img)\n",
    "            cv2.imshow(\"Image\", img_a)\n",
    "\n",
    "            \n",
    "def saveCroppedImage(event, x, y, flags, param):\n",
    "    global cropped_img\n",
    "    if event == cv2.EVENT_LBUTTONUP:\n",
    "        file_name = input(\"Enter a file name:\")\n",
    "        cv2.imwrite(file_name, cropped_img)\n",
    "\n",
    "white = (255, 255, 255)\n",
    "img = cv2.imread(\"bird.png\")\n",
    "\n",
    "UNCLICKED = 0\n",
    "LUP = 1\n",
    "RUP = 2\n",
    "clicked = UNCLICKED\n",
    "\n",
    "pt1 = np.array([img.shape[1]//4, img.shape[0]//4]) # (x, y)\n",
    "pt2 = pt1 + img.shape[1] // 2\n",
    "\n",
    "\n",
    "img_a = img.copy()\n",
    "\n",
    "#cv2.namedWindow(\"Image\", cv2.WINDOW_GUI_NORMAL)\n",
    "cv2.namedWindow(\"Cropped\", cv2.WINDOW_GUI_NORMAL)\n",
    "cv2.imshow(\"Image\", img_a)\n",
    "\n",
    "cv2.setMouseCallback(\"Image\", onMouseClick)\n",
    "cv2.setMouseCallback(\"Cropped\", saveCroppedImage)\n",
    "while cv2.waitKey(0) != ord('q'):\n",
    "    pass\n",
    "\n",
    "\n",
    "cv2.destroyAllWindows()"
   ]
  },
  {
   "cell_type": "markdown",
   "id": "fcd22c59-4d56-4c37-bc7e-b8081b9da2db",
   "metadata": {},
   "source": [
    "## NumPy의 다차원 배열의 axis 이해하기"
   ]
  },
  {
   "cell_type": "code",
   "execution_count": null,
   "id": "818cfc36-241b-4a15-a5f6-7f78216111ad",
   "metadata": {},
   "outputs": [],
   "source": [
    "arr = np.arange(1, 121, 2)\n",
    "arr.shape"
   ]
  },
  {
   "cell_type": "code",
   "execution_count": null,
   "id": "bed35549-a853-4841-b4f3-49597f74593e",
   "metadata": {},
   "outputs": [],
   "source": [
    "arr"
   ]
  },
  {
   "cell_type": "markdown",
   "id": "f079ef1f-34a2-4b1c-bd12-262add0f002a",
   "metadata": {},
   "source": [
    "- arr을 shape이 (3, 4, 5)인 배열의 view를 arr3라 하고, arr3를 만들어라."
   ]
  },
  {
   "cell_type": "code",
   "execution_count": null,
   "id": "20cf0304-c61f-40dc-9ea8-c155c3fc0214",
   "metadata": {},
   "outputs": [],
   "source": [
    "arr3 = arr"
   ]
  },
  {
   "cell_type": "code",
   "execution_count": null,
   "id": "46df8398-b6a8-4df8-8581-026fca7ebe74",
   "metadata": {},
   "outputs": [],
   "source": []
  },
  {
   "cell_type": "code",
   "execution_count": null,
   "id": "bd4c7541-cc34-47c4-977b-5c41a1ffc384",
   "metadata": {},
   "outputs": [],
   "source": []
  },
  {
   "cell_type": "markdown",
   "id": "b5b64ee8-ba4e-4b91-adb6-5f2886dc11df",
   "metadata": {},
   "source": [
    "- np.sum() 함수를 이용하여 61, 63, 65, 67, 69의 합 325 구하기"
   ]
  },
  {
   "cell_type": "code",
   "execution_count": null,
   "id": "71579e41-47fe-4529-a6a3-257f17815fb8",
   "metadata": {},
   "outputs": [],
   "source": []
  },
  {
   "cell_type": "markdown",
   "id": "6aba3b66-4b73-40de-ab6a-05056e6ba8c8",
   "metadata": {},
   "source": [
    "- np.sum() 함수를 이용하여 47, 57, 67, 77의 합 178 구하기"
   ]
  },
  {
   "cell_type": "code",
   "execution_count": null,
   "id": "0921b941-9ad4-4eb9-9c4e-92effb317619",
   "metadata": {},
   "outputs": [],
   "source": []
  },
  {
   "cell_type": "code",
   "execution_count": null,
   "id": "297517e5-762c-475c-8c91-880b74b1f8ca",
   "metadata": {},
   "outputs": [],
   "source": []
  },
  {
   "cell_type": "markdown",
   "id": "4892ba25-6b2f-4cea-bc34-d90599135767",
   "metadata": {
    "tags": []
   },
   "source": [
    "- np.sum() 함수를 이용하여 15, 55, 95의 합 165 구하기"
   ]
  },
  {
   "cell_type": "code",
   "execution_count": null,
   "id": "775face0-d214-4b66-83bd-947202dce181",
   "metadata": {},
   "outputs": [],
   "source": []
  },
  {
   "cell_type": "code",
   "execution_count": null,
   "id": "1387124d-3010-4f6e-b467-19c08b8702b6",
   "metadata": {},
   "outputs": [],
   "source": []
  },
  {
   "cell_type": "code",
   "execution_count": null,
   "id": "96329102-427a-4bec-b2e9-810cdd0708f9",
   "metadata": {},
   "outputs": [],
   "source": []
  },
  {
   "cell_type": "code",
   "execution_count": null,
   "id": "fda744fb-95ae-44f5-ad86-44b4a7cd2fed",
   "metadata": {},
   "outputs": [],
   "source": []
  },
  {
   "cell_type": "markdown",
   "id": "e666f6ea",
   "metadata": {},
   "source": [
    "# NumPy ndarray 객체 구조 이해\n",
    "\n",
    "### NumPy 데이터 타입 이해\n",
    "```\n",
    "getsizeof(...)\n",
    "    getsizeof(object [, default]) -> int\n",
    "    \n",
    "    Return the size of object in bytes.\n",
    "```"
   ]
  },
  {
   "cell_type": "code",
   "execution_count": null,
   "id": "91319c9e-23e5-402f-bb5d-3b8504e6496e",
   "metadata": {
    "tags": []
   },
   "outputs": [],
   "source": [
    "help(sys.getsizeof) "
   ]
  },
  {
   "cell_type": "markdown",
   "id": "2dff4482-000f-460b-8006-947fec9f037d",
   "metadata": {},
   "source": [
    "## 예제 1. \n",
    "sys.getsizeof() 함수를 사용하여 ndarray의 원소의 개수에 따른 객체의 크기 확인하기\n"
   ]
  },
  {
   "cell_type": "code",
   "execution_count": null,
   "id": "18208d3a-209c-4bd9-a7aa-097a6a06b21a",
   "metadata": {},
   "outputs": [],
   "source": [
    "import sys"
   ]
  },
  {
   "cell_type": "code",
   "execution_count": null,
   "id": "76970972-5fa2-440c-91ce-457085c661a1",
   "metadata": {},
   "outputs": [],
   "source": [
    "def info_array(arr):\n",
    "    print(arr)\n",
    "    print(\"dtype:\", arr.dtype)\n",
    "    print(\"size:\", sys.getsizeof(arr))\n",
    "    print(\"id:\", id(arr))"
   ]
  },
  {
   "cell_type": "markdown",
   "id": "697ba98a-cec3-4f22-b0ab-a634bc7834f6",
   "metadata": {},
   "source": [
    "#### 1.1 빈 ndarray 객체의 크기는 얼마인가?"
   ]
  },
  {
   "cell_type": "code",
   "execution_count": null,
   "id": "4736591a-1138-44a0-b5f4-1cb48d236208",
   "metadata": {},
   "outputs": [],
   "source": [
    "empty_array = np.array([])\n",
    "info_array(empty_array)"
   ]
  },
  {
   "cell_type": "markdown",
   "id": "6114150d-f9b9-469a-ba8f-3651b408808e",
   "metadata": {},
   "source": [
    "#### 1.2 ndarray의 dtype에 따른 ndarray 객체의 크기 살펴 보기"
   ]
  },
  {
   "cell_type": "code",
   "execution_count": null,
   "id": "2a202027",
   "metadata": {},
   "outputs": [],
   "source": [
    "i32_array = np.arange(4, dtype=np.int16)\n",
    "info_array(i32_array)"
   ]
  },
  {
   "cell_type": "code",
   "execution_count": null,
   "id": "363b06a9-abb3-407e-82dd-43c4028b1e2f",
   "metadata": {},
   "outputs": [],
   "source": [
    "#32-bit integer\n",
    "i32_array = np.arange(4, dtype= )\n",
    "info_array(i32_array)"
   ]
  },
  {
   "cell_type": "code",
   "execution_count": null,
   "id": "8c52c163-1396-490f-a00f-75241c475bc5",
   "metadata": {},
   "outputs": [],
   "source": [
    "#64-bit integer\n",
    "i64_array = np.arange(4, dtype=)\n",
    "info_array(i64_array)"
   ]
  },
  {
   "cell_type": "code",
   "execution_count": null,
   "id": "bfdbab42-b306-4372-9c45-553ae5cc1447",
   "metadata": {},
   "outputs": [],
   "source": [
    "#8-bit unsigned integer\n",
    "u8_array = np.arange(4, dtype= )\n",
    "info_array(u8_array)"
   ]
  },
  {
   "cell_type": "code",
   "execution_count": null,
   "id": "0c3e2d84-ddf6-4865-aeb3-cd4ee088dd59",
   "metadata": {},
   "outputs": [],
   "source": [
    "f16_array = np.arange(4, dtype=)\n",
    "info_array(f16_array)"
   ]
  },
  {
   "cell_type": "code",
   "execution_count": null,
   "id": "e0daa06e-11c5-4d92-a07f-c70bdd5cbdb3",
   "metadata": {},
   "outputs": [],
   "source": []
  },
  {
   "cell_type": "code",
   "execution_count": null,
   "id": "7fd765df-a545-4e01-b180-0e1f175415e7",
   "metadata": {},
   "outputs": [],
   "source": []
  },
  {
   "cell_type": "markdown",
   "id": "4c4a2402-63ee-4619-9f62-f772b691d71f",
   "metadata": {
    "tags": []
   },
   "source": [
    "## 예제 2. \n",
    "sys.getsizeof() 함수를 사용하여 ndarray의 원소의 개수에 따른 객체의 크기 확인하기cv\n"
   ]
  },
  {
   "cell_type": "code",
   "execution_count": null,
   "id": "d3ab39d7-a045-49ca-8b8f-f5553b2359d9",
   "metadata": {},
   "outputs": [],
   "source": []
  },
  {
   "cell_type": "markdown",
   "id": "631354b3-4302-4c30-944f-8aaf595dd4e5",
   "metadata": {
    "tags": []
   },
   "source": [
    "## 예제 3. \n",
    "sys.getsizeof() 함수를 사용하여 ndarray와 view 객체의 크기 확인하기\n"
   ]
  },
  {
   "cell_type": "code",
   "execution_count": null,
   "id": "30b80b14",
   "metadata": {},
   "outputs": [],
   "source": [
    "x = np.arange(24)\n",
    "y = x.reshape(2,3,4)\n",
    "y"
   ]
  },
  {
   "cell_type": "code",
   "execution_count": null,
   "id": "46965339",
   "metadata": {
    "tags": []
   },
   "outputs": [],
   "source": [
    "x[0] = 100\n",
    "x"
   ]
  },
  {
   "cell_type": "code",
   "execution_count": null,
   "id": "eda809d8-82bd-4079-ad9d-ca7d21fc9263",
   "metadata": {},
   "outputs": [],
   "source": [
    "y"
   ]
  },
  {
   "cell_type": "code",
   "execution_count": null,
   "id": "d800207b-d870-49eb-9f71-3e6c0cc5c8e7",
   "metadata": {},
   "outputs": [],
   "source": []
  },
  {
   "cell_type": "markdown",
   "id": "5bcc6b59",
   "metadata": {
    "tags": []
   },
   "source": [
    "### NumPy view를 이용한 image cropping"
   ]
  },
  {
   "cell_type": "code",
   "execution_count": null,
   "id": "0d95c8ad-4b16-45d7-a6ea-3b7b1ae44d7b",
   "metadata": {},
   "outputs": [],
   "source": [
    "img = plt.imread('bird.png')\n",
    "plt.imshow(img)"
   ]
  },
  {
   "cell_type": "code",
   "execution_count": null,
   "id": "b1fb36d3-ad88-4a02-8954-f95b29800815",
   "metadata": {},
   "outputs": [],
   "source": [
    "img_cropped = img[100:200,100:200,::]\n",
    "plt.imshow(img_cropped)"
   ]
  },
  {
   "cell_type": "code",
   "execution_count": null,
   "id": "036f49f7-9cde-42df-8726-ced6e7b7e0ba",
   "metadata": {},
   "outputs": [],
   "source": [
    "sys.getsizeof(img), sys.getsizeof(img_cropped)"
   ]
  },
  {
   "cell_type": "code",
   "execution_count": null,
   "id": "5b840a37-0c08-4c75-860a-c42017fa872b",
   "metadata": {},
   "outputs": [],
   "source": [
    "img.shape"
   ]
  },
  {
   "cell_type": "code",
   "execution_count": null,
   "id": "20d4290a-da58-49ff-9f1d-7ffb23891b72",
   "metadata": {},
   "outputs": [],
   "source": [
    "sys.getsizeof(img)"
   ]
  },
  {
   "cell_type": "code",
   "execution_count": null,
   "id": "34e26435-a719-40c5-959b-2b92770e0129",
   "metadata": {},
   "outputs": [],
   "source": [
    "sys.getsizeof(cropped_img)"
   ]
  },
  {
   "cell_type": "code",
   "execution_count": null,
   "id": "17b70224-0168-4de7-821c-07f71fd7bcfd",
   "metadata": {},
   "outputs": [],
   "source": [
    "sys.getsizeof(np.array([])), sys.getsizeof(np.array([[]])), sys.getsizeof(np.array([[[]]]))"
   ]
  },
  {
   "cell_type": "code",
   "execution_count": null,
   "id": "4c36e02c-d2b6-4913-a19d-e8b876626a70",
   "metadata": {},
   "outputs": [],
   "source": [
    "img1 = img[100:200,100:200,:]\n",
    "print(id(img1))\n",
    "img2 = img[200:300,200:300,:]\n",
    "print(id(img1))"
   ]
  },
  {
   "cell_type": "code",
   "execution_count": null,
   "id": "b5ec5d44-c894-48c7-b3be-a93c7a9dc85f",
   "metadata": {
    "tags": []
   },
   "outputs": [],
   "source": [
    "x = np.arange(4, dtype=np.int32)\n",
    "y = x.view(dtype=np.uint8)\n",
    "y"
   ]
  },
  {
   "cell_type": "code",
   "execution_count": null,
   "id": "95b11ce7-4e02-46f4-a469-5f14cc486431",
   "metadata": {},
   "outputs": [],
   "source": [
    "sys.getsizeof(x), sys.getsizeof(y)"
   ]
  },
  {
   "cell_type": "code",
   "execution_count": null,
   "id": "6c06261b-a95a-48fd-9e64-831efaa732a9",
   "metadata": {},
   "outputs": [],
   "source": [
    "x = np.arange(8, dtype=np.int32)\n",
    "y = x.view(dtype=np.uint8)\n",
    "y"
   ]
  },
  {
   "cell_type": "code",
   "execution_count": null,
   "id": "5f34272a-8445-4ae0-aac2-2f11d9e03118",
   "metadata": {},
   "outputs": [],
   "source": [
    "sys.getsizeof(x), sys.getsizeof(y)"
   ]
  },
  {
   "cell_type": "code",
   "execution_count": null,
   "id": "8a04b9a4-f95e-4343-bfc1-62eb3fa0cb6e",
   "metadata": {},
   "outputs": [],
   "source": [
    "empty_arr = np.array([], dtype=np.int32)\n",
    "sys.getsizeof(empty_arr)"
   ]
  },
  {
   "cell_type": "markdown",
   "id": "afe9812b-b6e6-4883-a440-c3ffc9c2835e",
   "metadata": {},
   "source": [
    "## NumPy 브로드캐스팅 연습"
   ]
  },
  {
   "cell_type": "code",
   "execution_count": null,
   "id": "3693ca43-f515-43a9-9acb-6a2ae1b0a894",
   "metadata": {},
   "outputs": [],
   "source": [
    "a = np.arange(1, 7).reshape(2,3)\n",
    "a"
   ]
  },
  {
   "cell_type": "markdown",
   "id": "7ba4dd53-9697-4b0c-97b2-e920f818e267",
   "metadata": {},
   "source": [
    "####  배열 a와 연산 가능한 배열의 shape을 모두 적어라"
   ]
  },
  {
   "cell_type": "code",
   "execution_count": null,
   "id": "4c3e9560-e1e0-4413-8a28-4ce62f647c18",
   "metadata": {
    "tags": []
   },
   "outputs": [],
   "source": []
  },
  {
   "cell_type": "code",
   "execution_count": null,
   "id": "7695f6ea-83b6-4149-abf6-79088dff2da4",
   "metadata": {},
   "outputs": [],
   "source": []
  },
  {
   "cell_type": "code",
   "execution_count": null,
   "id": "07fd07b1-02a0-4acc-b9d0-faec456d7907",
   "metadata": {},
   "outputs": [],
   "source": []
  },
  {
   "cell_type": "code",
   "execution_count": null,
   "id": "50357605-d524-4787-931e-27a60bd56b41",
   "metadata": {},
   "outputs": [],
   "source": []
  },
  {
   "cell_type": "code",
   "execution_count": null,
   "id": "127e8a53-dd1a-40fc-9311-4c55371a88a2",
   "metadata": {},
   "outputs": [],
   "source": []
  },
  {
   "cell_type": "markdown",
   "id": "61e0a1bf",
   "metadata": {},
   "source": [
    "## 문제 1.\n",
    "다음 조건을 모두 만족하는 프로그램을 작성하라.\n",
    "\n",
    "1. 'bird.png' 파일을 읽고, cv2.imshow 함수를 이용하여 \"Image\" title을 가진 윈도우에 영상을 표시한다.\n",
    "2. cv2.namedWindow(\"Cropped\", 0) 으로 윈도우를 만든다.\n",
    "3. \"Image\" 윈도우 위에 마우스 왼쪽 버튼을 누른 상태로 마우스를 움직이면 처음 마우스를 누른 위치가 사각형의 꼭지점이고 현재 마우스의 위치가 대각선 꼭지점인 사각형이 나타난다. 마우스를 움직이면 사각형의 크기가 계속 변한다.\n",
    "4. 마우스의 왼쪽 버튼을 놓으면(release) 현재 사각형 내부의 영상이 \"Cropped\" 윈도우에 나타난다.\n",
    "5. 새 위치에 마우스 왼쪽 버튼을 누르면 3 번 동작이 반복된다.\n",
    "6. 'q'를 누르면 모든 윈도우가 닫히고 프로그램이 종료된다."
   ]
  },
  {
   "cell_type": "code",
   "execution_count": null,
   "id": "b5b8bd4e",
   "metadata": {},
   "outputs": [],
   "source": []
  },
  {
   "cell_type": "markdown",
   "id": "60d0185e-7ff1-4dcb-8bf0-f6f68c5deee6",
   "metadata": {},
   "source": [
    "## 문제 2.\n",
    "\n",
    "문제 1에서 원영상을 표현하는 3차원 배열에서 index slicing을 적용하여 crop된 영상 데이터 배열을 표현하는 경우에 copy() 함수를 사용하는 경우에 비해서 어떤 장점이 있는지 생각해서 적어보아라.\n",
    "\n",
    "참고: https://pythonspeed.com/articles/numpy-memory-views/"
   ]
  },
  {
   "cell_type": "markdown",
   "id": "ba51a586-b774-4f4d-8003-24988f7529e9",
   "metadata": {},
   "source": []
  },
  {
   "cell_type": "code",
   "execution_count": null,
   "id": "e036017d",
   "metadata": {},
   "outputs": [],
   "source": []
  }
 ],
 "metadata": {
  "kernelspec": {
   "display_name": "Python 3 (ipykernel)",
   "language": "python",
   "name": "python3"
  },
  "language_info": {
   "codemirror_mode": {
    "name": "ipython",
    "version": 3
   },
   "file_extension": ".py",
   "mimetype": "text/x-python",
   "name": "python",
   "nbconvert_exporter": "python",
   "pygments_lexer": "ipython3",
   "version": "3.9.7"
  },
  "latex_envs": {
   "LaTeX_envs_menu_present": true,
   "autoclose": false,
   "autocomplete": true,
   "bibliofile": "biblio.bib",
   "cite_by": "apalike",
   "current_citInitial": 1,
   "eqLabelWithNumbers": true,
   "eqNumInitial": 1,
   "hotkeys": {
    "equation": "Ctrl-E",
    "itemize": "Ctrl-I"
   },
   "labels_anchors": false,
   "latex_user_defs": false,
   "report_style_numbering": false,
   "user_envs_cfg": false
  }
 },
 "nbformat": 4,
 "nbformat_minor": 5
}
