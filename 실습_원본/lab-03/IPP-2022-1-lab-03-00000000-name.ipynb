{
 "cells": [
  {
   "cell_type": "markdown",
   "id": "797d2e43-d1aa-4336-a7b7-c2247577d58a",
   "metadata": {},
   "source": [
    "<h1 align='center'> 영상처리 프로그래밍 실습 3</h1>\n",
    "\n",
    "<h6 align='right'> 2022. 3. 24. </h6>"
   ]
  },
  {
   "cell_type": "markdown",
   "id": "db5adea0",
   "metadata": {},
   "source": [
    "<div class=\"alert alert-block alert-info\">\n",
    "    \n",
    "- 파일 이름에서 00000000을 자신의 학번으로, name을 자신의 이름으로 수정하세요.\n",
    "\n",
    "- 다음 줄에 자신의 이름, 학번, 학과(전공)을 적으세요.\n",
    "\n",
    "* 이름:   &nbsp;&nbsp;          학번:    &nbsp;&nbsp;         학과(전공):\n",
    "    \n",
    "</div>\n",
    "\n",
    "- JupyterLab 문서의 최신 버전은 [JupyterLab Documentation](https://jupyterlab.readthedocs.io/en/stable/index.html#/)을  참고하라\n",
    "\n",
    "- Markdown은 [Markdown Guide](https://www.markdownguide.org/)를 참고하라.\n",
    "- [Markdown Cheat Sheet](https://www.markdownguide.org/cheat-sheet/)\n",
    "\n",
    "* 제출 마감: 3월 30일 (수) 오후 6:00까지 최종본을 SmartLEAD제출\n"
   ]
  },
  {
   "cell_type": "code",
   "execution_count": null,
   "id": "34e117ec",
   "metadata": {},
   "outputs": [],
   "source": [
    "import cv2\n",
    "import matplotlib.pyplot as plt\n",
    "import matplotlib.image as mpimg\n",
    "\n",
    "import numpy as np\n",
    "print(\"OpenCV version\", cv2.__version__)\n",
    "print(\"NumPy version\", np.__version__)"
   ]
  },
  {
   "cell_type": "markdown",
   "id": "e666f6ea",
   "metadata": {},
   "source": [
    "## 예제 1. 영상의 반전\n",
    "\n",
    "###  8-비트 양자화 흑백 영상의 반전\n",
    "\n",
    "한 화소가 8-비트로 양자화된 2차원 흑백 영상 $f(x,y)$의 반전 영상 $g(x,y)$는 다음과 같이 표현된다.\n",
    "\n",
    "$$g(x,y) = 255 - f(x,y)$$\n",
    "\n",
    "'tree-1.jpg' 파일을 읽고, 흑백 영상으로 변환한 후에 흑백영상과 이 흑백영상의 반전 영상을 화면에 나란히 표시하는 프로그램을 작성하라."
   ]
  },
  {
   "cell_type": "code",
   "execution_count": null,
   "id": "2a202027",
   "metadata": {},
   "outputs": [],
   "source": [
    "img = mpimg.imread('tree-1.jpg')\n",
    "plt.imshow(img)\n",
    "plt.show()"
   ]
  },
  {
   "cell_type": "code",
   "execution_count": null,
   "id": "30b80b14",
   "metadata": {},
   "outputs": [],
   "source": []
  },
  {
   "cell_type": "code",
   "execution_count": null,
   "id": "46965339",
   "metadata": {
    "scrolled": true
   },
   "outputs": [],
   "source": []
  },
  {
   "cell_type": "markdown",
   "id": "5bcc6b59",
   "metadata": {},
   "source": [
    "### 컬러 영상의 반전\n",
    "\n",
    "'tree-1.jpg' 파일을 읽고, 이 영상과 이 영상의 반전 영상을 화면에 나란히 표시하는 프로그램을 작성하라.\n"
   ]
  },
  {
   "cell_type": "code",
   "execution_count": null,
   "id": "8971d320",
   "metadata": {},
   "outputs": [],
   "source": []
  },
  {
   "cell_type": "code",
   "execution_count": null,
   "id": "522077fb",
   "metadata": {},
   "outputs": [],
   "source": []
  },
  {
   "cell_type": "markdown",
   "id": "d33559d9",
   "metadata": {},
   "source": [
    "## 예제 2. \n",
    "\n",
    "tree-1.jpg 파일을 읽고, cv2.imshow 함수를 이용하여 영상을 새 윈도우에 표시하고, 왼쪽 마우스 버튼을 클릭하면 흑백 영상을 표시하고, 오른쪽 마우스를 누르면 컬러 영상을 표시하고, 'q'를 입력하면 프로그램을 종료하는 프로그램을 작성하라."
   ]
  },
  {
   "cell_type": "code",
   "execution_count": null,
   "id": "de587d0a",
   "metadata": {},
   "outputs": [],
   "source": []
  },
  {
   "cell_type": "markdown",
   "id": "b9fbfba8",
   "metadata": {},
   "source": [
    "## 예제 3. \n",
    "\n",
    "tree-1.jpg 파일을 읽고, cv2.imshow 함수를 이용하여 영상을 새 윈도우에 표시하고, 왼쪽 마우스 버튼을 클릭하면 흑백반전 영상을 표시하고, 오른쪽 마우스를 누르면 원 영상을 표시하고, 'q'를 입력하면 프로그램을 종료하는 프로그램을 작성하라."
   ]
  },
  {
   "cell_type": "code",
   "execution_count": null,
   "id": "bec3d040",
   "metadata": {},
   "outputs": [],
   "source": []
  },
  {
   "cell_type": "markdown",
   "id": "76fb30a4",
   "metadata": {},
   "source": [
    "## 예제 4. \n",
    "\n",
    "tree-1.jpg 파일을 읽고, cv2.imshow 함수를 이용하여 영상을 새 윈도우에 표시하고, 왼쪽 마우스 버튼을 클릭할 때마다 흑백 영상과 흑백 반전 영상을 번갈아 가면서 표시하고, 오른쪽 마우스 버튼을 클릭할 때마다 컬러 영상과 컬러 반전 영상을 번갈아 가면서 표시하고, 'q'를 입력하면 프로그램을 종료하는 프로그램을 작성하라."
   ]
  },
  {
   "cell_type": "code",
   "execution_count": null,
   "id": "c4dcbfd8",
   "metadata": {},
   "outputs": [],
   "source": []
  },
  {
   "cell_type": "markdown",
   "id": "d8b335ca-7faf-4f8d-b8a2-17189943c548",
   "metadata": {},
   "source": [
    "## Weighted sum of two images\n",
    "\n",
    "$$g(x,y) = \\alpha f_1(x,y) + (1-\\alpha )f_2(x,y), \\;\\; 0 \\le \\alpha \\le 1$$"
   ]
  },
  {
   "cell_type": "markdown",
   "id": "fc777909",
   "metadata": {},
   "source": [
    "## 예제 5: 지난 주 문제 1.\n",
    "\n",
    "가중치 $\\alpha$를 1부터 0까지 0.01 간격으로 변경해 가면서, 4 영상의 weighted sum을 구하고 화면에 표시하는 프로그램을 작성하라.\n",
    "\n",
    "영상의 순서는 tree-1 --> tree-2 --> tree-3 --> tree-4 --> tree-1\n",
    "\n",
    "단, 영상과 영상 사이의 디스플레이 간격은 0.5초로 설정하라.\n"
   ]
  },
  {
   "cell_type": "code",
   "execution_count": null,
   "id": "6c6cb9e5",
   "metadata": {},
   "outputs": [],
   "source": [
    "img_tree1 = mpimg.imread('tree-1.jpg')\n",
    "img_tree2 = mpimg.imread('tree-2.jpg')\n",
    "img_tree3 = mpimg.imread('tree-3.jpg')\n",
    "img_tree4 = mpimg.imread('tree-4.jpg')\n",
    "\n",
    "#img = img_tree1.copy()\n",
    "winname = \"Weighted Sum of images\"\n",
    "cv2.imshow(winname, img_tree1)\n",
    "cv2.waitKey(0)\n",
    "\n",
    "images = [img_tree1, img_tree2, img_tree3, img_tree4, img_tree1]\n",
    "for n in range(len(images)-1):\n",
    "    for alpha in np.arange(0, 1.0, 0.01):\n",
    "        img = ((1-alpha)*images[n] + alpha*images[n+1]).astype(np.uint8)\n",
    "        cv2.imshow(winname, img)\n",
    "        cv2.waitKey(500)\n",
    "cv2.destroyAllWindows()"
   ]
  },
  {
   "cell_type": "markdown",
   "id": "2015a350",
   "metadata": {},
   "source": [
    "## 예제 6.\n",
    "\n",
    "OpenCV의 waitKey 함수를 이용하여 예제 1에서 영상이 변화 과정을 반수동으로 변경할 수 있도록 프로그램을 수정하라.\n",
    "\n",
    "단, 입력한 키에 따른 동작은 다음과 같다.\n",
    "\n",
    "- '1': $\\alpha = 0. \\rightarrow 1.00$,  tree-1 $\\rightarrow$ tree-2\n",
    "- '2': $\\alpha = 0. \\rightarrow 1.00$,  tree-2 $\\rightarrow$ tree-3\n",
    "- '3': $\\alpha = 0. \\rightarrow 1.00$,  tree-3 $\\rightarrow$ tree-4\n",
    "- '4': $\\alpha = 0. \\rightarrow 1.00$,  tree-4 $\\rightarrow$ tree-1\n",
    "- 'q': 프로그램 종료\n",
    "\n"
   ]
  },
  {
   "cell_type": "code",
   "execution_count": null,
   "id": "872952dc",
   "metadata": {},
   "outputs": [],
   "source": [
    "img_tree1 = mpimg.imread('tree-1.jpg')\n",
    "img_tree2 = mpimg.imread('tree-2.jpg')\n",
    "img_tree3 = mpimg.imread('tree-3.jpg')\n",
    "img_tree4 = mpimg.imread('tree-4.jpg')\n",
    "\n",
    "#img = img_tree1.copy()\n",
    "winname = \"Weighted Sum of images\"\n",
    "cv2.imshow(winname, img_tree1)\n",
    "\n"
   ]
  },
  {
   "cell_type": "code",
   "execution_count": null,
   "id": "52888255",
   "metadata": {},
   "outputs": [],
   "source": []
  },
  {
   "cell_type": "markdown",
   "id": "068887a0",
   "metadata": {},
   "source": [
    "## 예제 7.\n",
    "\n",
    "OpenCV의 trackbar를 사용하여 예제 1에서 영상이 변화 과정을 수동으로 변경할 수 있도록 프로그램을 수정하라.\n",
    "\n",
    "단, Trackbar의 범위를 0부터 400까지 설정하고, trackbar에서 1이 변하면 $\\alpha$ 값이 0.01이 변하도록 변환하라. trackbar의 변환 범위는 다음과 같다.\n",
    "\n",
    "- Trackbar $= 0 \\rightarrow 100$:   $\\alpha = 0. \\rightarrow 1.00$,  tree-1 $\\rightarrow$ tree-2\n",
    "- Trackbar $= 100 \\rightarrow 200$: $\\alpha = 0. \\rightarrow 1.00$,  tree-2 $\\rightarrow$ tree-3\n",
    "- Trackbar $= 200 \\rightarrow 300$: $\\alpha = 0. \\rightarrow 1.00$,  tree-3 $\\rightarrow$ tree-4\n",
    "- Trackbar $= 300 \\rightarrow 400$: $\\alpha = 0. \\rightarrow 1.00$,  tree-4 $\\rightarrow$ tree-1\n",
    "\n",
    "그리고 'q'를 누르면 프로그램이 종료되어야 한다."
   ]
  },
  {
   "cell_type": "code",
   "execution_count": null,
   "id": "aaa35cd7",
   "metadata": {},
   "outputs": [],
   "source": [
    "\n"
   ]
  },
  {
   "cell_type": "code",
   "execution_count": null,
   "id": "862485d7",
   "metadata": {},
   "outputs": [],
   "source": []
  },
  {
   "cell_type": "markdown",
   "id": "6bec7d5b",
   "metadata": {},
   "source": [
    "## 예제 8. 영상 자르기"
   ]
  },
  {
   "cell_type": "code",
   "execution_count": null,
   "id": "e477fb66-d677-4ee6-bab9-8e70fae94143",
   "metadata": {},
   "outputs": [],
   "source": []
  },
  {
   "cell_type": "markdown",
   "id": "c7705e4b",
   "metadata": {},
   "source": [
    "## 문제 1.\n",
    "\n",
    "예제 8의 프로그램을 다음과 같이 수정하라.\n",
    "\n",
    "1. 'Image' 윈도우에서 마우스 왼쪽 버튼을 클릭하면 그 위치가 하얀색 창의 왼쪽 위 꼭지점의 좌표를 지정하게 되고, 흰색 창의 크기가 변하고 흰색 창에 포함된 영상이 'Cropped' 윈도우에 표시된다.\n",
    "\n",
    "2. 'Image' 윈도우에서 마우스 오른쪽 버튼을 클릭하면 그 위치가 하얀색 창의 오른쪽 아래 꼭지점의 좌표를 지정하게 되고, 흰색 창의 크기가 변하고 흰색 창에 포함된 영상이 'Cropped' 윈도우에 표시된다.\n",
    "\n",
    "3. 'Cropped' 윈도우에서 왼쪽 마우스 버튼을 클릭하면 사용자에게 저장할 파일 이름을 입력받아서 'Cropped' 윈도우에 표시된 영상 부분을 별도의 파일로 저장한다."
   ]
  },
  {
   "cell_type": "code",
   "execution_count": null,
   "id": "bc6bfe90",
   "metadata": {},
   "outputs": [],
   "source": []
  }
 ],
 "metadata": {
  "kernelspec": {
   "display_name": "Python 3 (ipykernel)",
   "language": "python",
   "name": "python3"
  },
  "language_info": {
   "codemirror_mode": {
    "name": "ipython",
    "version": 3
   },
   "file_extension": ".py",
   "mimetype": "text/x-python",
   "name": "python",
   "nbconvert_exporter": "python",
   "pygments_lexer": "ipython3",
   "version": "3.9.7"
  },
  "latex_envs": {
   "LaTeX_envs_menu_present": true,
   "autoclose": false,
   "autocomplete": true,
   "bibliofile": "biblio.bib",
   "cite_by": "apalike",
   "current_citInitial": 1,
   "eqLabelWithNumbers": true,
   "eqNumInitial": 1,
   "hotkeys": {
    "equation": "Ctrl-E",
    "itemize": "Ctrl-I"
   },
   "labels_anchors": false,
   "latex_user_defs": false,
   "report_style_numbering": false,
   "user_envs_cfg": false
  }
 },
 "nbformat": 4,
 "nbformat_minor": 5
}
