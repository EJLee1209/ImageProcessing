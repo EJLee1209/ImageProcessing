{
 "cells": [
  {
   "cell_type": "markdown",
   "id": "797d2e43-d1aa-4336-a7b7-c2247577d58a",
   "metadata": {},
   "source": [
    "<h1 align='center'> 영상처리 프로그래밍 실습 8</h1>\n",
    "\n",
    "<h6 align='right'> 2022. 5. 10. </h6>"
   ]
  },
  {
   "cell_type": "markdown",
   "id": "db5adea0",
   "metadata": {},
   "source": [
    "<div class=\"alert alert-block alert-info\">\n",
    "    \n",
    "- 파일 이름에서 00000000을 자신의 학번으로, name을 자신의 이름으로 수정하세요.\n",
    "\n",
    "- 다음 줄에 자신의 이름, 학번, 학과(전공)을 적으세요.\n",
    "\n",
    "* 이름:   &nbsp;&nbsp;          학번:    &nbsp;&nbsp;         학과(전공):\n",
    "    \n",
    "</div>\n",
    "\n",
    "- JupyterLab 문서의 최신 버전은 [JupyterLab Documentation](https://jupyterlab.readthedocs.io/en/stable/index.html#/)을  참고하라\n",
    "\n",
    "- Markdown은 [Markdown Guide](https://www.markdownguide.org/)를 참고하라.\n",
    "- [Markdown Cheat Sheet](https://www.markdownguide.org/cheat-sheet/)\n",
    "\n",
    "* 제출 마감: 5월 16일 (월) 오후 6:00까지 최종본을 SmartLEAD제출\n"
   ]
  },
  {
   "cell_type": "code",
   "execution_count": null,
   "id": "34e117ec",
   "metadata": {},
   "outputs": [],
   "source": [
    "import cv2\n",
    "import matplotlib.pyplot as plt\n",
    "\n",
    "import numpy as np\n",
    "print(\"OpenCV version\", cv2.__version__)\n",
    "print(\"NumPy version\", np.__version__)"
   ]
  },
  {
   "cell_type": "markdown",
   "id": "1f702ab1-eee0-488a-bd3f-f4c11f2fe1e8",
   "metadata": {
    "tags": []
   },
   "source": [
    "## 지난 주 문제 1. \n",
    "\n",
    "예제 2의 프로그램을 다음과 같이 변경하라.\n",
    "\n",
    "- 이동 평균 필터링을 가우시안 필터링으로 변경하라.\n",
    "- 가우시안 커널의 표준편차인 sigmaX와 sigmaY를 개별적으로 조정할 수 있는 trackBar interface를 2 개 제공한다. 단, 표준 편차의 최댓값은 10.0이 되도록 한다.\n"
   ]
  },
  {
   "cell_type": "code",
   "execution_count": null,
   "id": "b5b8bd4e",
   "metadata": {},
   "outputs": [],
   "source": [
    "def Gaussian_filtering(file_name):\n",
    "    def onGaussianFiltering(val):\n",
    "        nonlocal img2, ksize, sigmaX, sigmaY\n",
    "        ksize = val // 2 * 2 + 1\n",
    "        img_filtered = cv2.GaussianBlur(img, (ksize, ksize), sigmaX=sigmaX, sigmaY=sigmaY)\n",
    "        img2 = np.hstack((img, img_filtered))\n",
    "        cv2.imshow(winName, img2)\n",
    "            \n",
    "    def onSigmaX(val):\n",
    "        nonlocal sigmaX, sigmaY\n",
    "        sigmaX = val / sigma_scale_factor\n",
    "        v = ksize\n",
    "        onGaussianFiltering(v)\n",
    "\n",
    "    def onSigmaY(val):\n",
    "        nonlocal sigmaX, sigmaY\n",
    "        sigmaY = val / sigma_scale_factor\n",
    "        v = ksize\n",
    "        onGaussianFiltering(v)\n",
    "\n",
    "    \n",
    "    from os.path import exists\n",
    "    ksize = 3\n",
    "    sigmaX = 0.1\n",
    "    sigmaY = 0.1\n",
    "    sigma_scale_factor = 10\n",
    "    if exists(file_name):\n",
    "        img = cv2.imread(file_name)\n",
    "    else:\n",
    "        print(f\"Image file '{file_name}' does not exist.\")\n",
    "        return\n",
    "    img2 = np.hstack((img, img))\n",
    "\n",
    "    winName = \"Gaussian Filtering\"\n",
    "    cv2.namedWindow(winName, flags=1|cv2.WINDOW_GUI_NORMAL )\n",
    "    cv2.imshow(winName, img2)\n",
    "\n",
    "    cv2.createTrackbar('kernel size', winName, 1, 51, onGaussianFiltering)\n",
    "    cv2.createTrackbar('sigma_x', winName, int(sigmaX*sigma_scale_factor), 101, onSigmaX)\n",
    "    cv2.createTrackbar('sigma_y', winName, int(sigmaY*sigma_scale_factor), 101, onSigmaY)\n",
    "    cv2.setTrackbarMin('kernel size', winName, 1)\n",
    "    cv2.setTrackbarMin('sigma_x', winName, 1)\n",
    "    cv2.setTrackbarMin('sigma_y', winName, 1)\n",
    "    cv2.waitKey(0)\n",
    "    cv2.destroyAllWindows()\n",
    "    \n",
    "    "
   ]
  },
  {
   "cell_type": "code",
   "execution_count": null,
   "id": "131d7f18-ef52-4687-babf-2662357a7747",
   "metadata": {},
   "outputs": [],
   "source": [
    "Gaussian_filtering('grass.jpg')"
   ]
  },
  {
   "cell_type": "markdown",
   "id": "13cf5ce4-b8fc-40f5-b4a7-2b412de8b53b",
   "metadata": {},
   "source": [
    "## 예제 1.\n",
    "\n",
    "다음 프로그램을 실행하라.\n"
   ]
  },
  {
   "cell_type": "code",
   "execution_count": null,
   "id": "df0e6c61-9edc-4d0b-a5e7-f9cabcf8826a",
   "metadata": {},
   "outputs": [],
   "source": [
    "from scipy import misc\n",
    "ascent = misc.ascent()\n",
    "plt.imshow(ascent, cmap='gray')\n",
    "plt.show()"
   ]
  },
  {
   "cell_type": "code",
   "execution_count": null,
   "id": "13d07887-998f-46ab-aa41-add6c7352de1",
   "metadata": {},
   "outputs": [],
   "source": [
    "ascent.dtype, ascent.min(), ascent.max()"
   ]
  },
  {
   "cell_type": "code",
   "execution_count": null,
   "id": "80d983b9-b414-477a-ab4e-bf1784bcf424",
   "metadata": {},
   "outputs": [],
   "source": [
    "img = img.astype(np.uint8)"
   ]
  },
  {
   "cell_type": "markdown",
   "id": "d01f1956-486e-4a00-a34a-cd098a95441a",
   "metadata": {},
   "source": [
    "### 예제 2. \n",
    "예제 1의 영상에 아래 두 커널을 적용해서 gradient의 크기를 구하고, \n",
    "cv2.imshow 함수를 이용해서 원 영상과 gradient 크기 영상을 나란히 표시하라."
   ]
  },
  {
   "cell_type": "code",
   "execution_count": null,
   "id": "a6b92a8b-ad09-49da-9825-d4ea6df23f1e",
   "metadata": {},
   "outputs": [],
   "source": [
    "k_diff_x = np.array([[0, 0, 0], \n",
    "                [0, -1, 0], \n",
    "                [0, 1, 0]])\n",
    "k_diff_y = np.array([[0, 0, 0], \n",
    "                [0, -1, 1], \n",
    "                [0, 0, 0]])"
   ]
  },
  {
   "cell_type": "code",
   "execution_count": null,
   "id": "17321cd3-95a5-4fbc-8f14-9ded447bb900",
   "metadata": {},
   "outputs": [],
   "source": []
  },
  {
   "cell_type": "markdown",
   "id": "f9995c72-57fe-421d-afda-0c545df45b29",
   "metadata": {},
   "source": [
    "### 예제 3. \n",
    "예제 1의 영상에 두 개의 대각 방향의 Roberts 두 커널을 적용한 후에 에지의 크기를 구하고, \n",
    "cv2.imshow 함수를 이용해서 원 영상과 에지의 크기 영상을 나란히 표시하라."
   ]
  },
  {
   "cell_type": "code",
   "execution_count": null,
   "id": "67dc1e09-5366-475e-a60d-715d1f6012e7",
   "metadata": {},
   "outputs": [],
   "source": []
  },
  {
   "cell_type": "markdown",
   "id": "e95b33a3-0313-463e-b690-5e3e5c0c2eee",
   "metadata": {},
   "source": [
    "### 예제 4. \n",
    "예제 2와 예제 3의 프로그램을 하나로 통합하여 edge_detection(img) 함수로 만들려고 한다.\n",
    "단, trackBar interface를 이용해서 수평/수직 방향의 에지의 크기를 선택한다.\n",
    "- 0: 원 영상 - 원 영상\n",
    "- 1: 원 영상 - 수평/수직 방향의 에지 크기\n",
    "- 2: 원 영상 - 대각 방향의  에지 크기\n"
   ]
  },
  {
   "cell_type": "code",
   "execution_count": null,
   "id": "88eac79c-7bae-4862-90c1-c191236604c7",
   "metadata": {},
   "outputs": [],
   "source": [
    "def edge_detection(img):\n",
    "    \n"
   ]
  },
  {
   "cell_type": "code",
   "execution_count": null,
   "id": "1471a137-9017-473b-9d80-f912aa420d0d",
   "metadata": {},
   "outputs": [],
   "source": [
    "edge_detection(ascent)"
   ]
  },
  {
   "cell_type": "markdown",
   "id": "d6b519ba-f21f-4bf8-8737-56ad61c488cd",
   "metadata": {},
   "source": [
    "### 예제 5. \n",
    "예제 4의 프로그램에 다음 기능을 추가하라.\n",
    "- 0: 원 영상 - 원 영상\n",
    "- 1: 원 영상 - 수평/수직 방향의 에지 크기\n",
    "- 2: 원 영상 - 대각 방향의  에지 크기\n",
    "- 3: 원 영상 - Prewitt 커널 에지 크기\n",
    "- 4: 원 영상 - 4 방향 라플라시안 결과의 절대값\n",
    "- 5: 원 영상 - 8 방향 라플라시안 결과의 절대값\n"
   ]
  },
  {
   "cell_type": "code",
   "execution_count": null,
   "id": "4386b0e0-0173-424c-b8fb-093d4326a7ae",
   "metadata": {},
   "outputs": [],
   "source": [
    "from os.path import exists\n",
    "def edge_detection(img):\n",
    "    \n"
   ]
  },
  {
   "cell_type": "code",
   "execution_count": null,
   "id": "f8bd78c5-aeeb-48e9-b763-b91f266503cd",
   "metadata": {},
   "outputs": [],
   "source": [
    "edge_detection(ascent)"
   ]
  },
  {
   "cell_type": "markdown",
   "id": "8538bcfb-571c-4b7c-804f-709b18734813",
   "metadata": {},
   "source": [
    "### 예제 6. \n",
    "예제 5의 프로그램을 원 영상에 가우시안 잡음을 추가한 후에 에지를 검출하는 프로그램으로 수정하라.\n",
    "\n",
    "단, 왼쪽에는 가우시안 잡음이 포함된 영상을 표시하고, 오른쪽에는 예제 5에서 구한 에지 영상을 표시한다. \n",
    "또한, trackBar 인터페이스를 추가해서 가우시안 잡음의 분산을 조정할 수 있어야 한다.\n"
   ]
  },
  {
   "cell_type": "code",
   "execution_count": null,
   "id": "bae8c1a6-429f-4654-bbb2-776ed54b969d",
   "metadata": {},
   "outputs": [],
   "source": [
    "def edge_detection(img):\n",
    "    \n"
   ]
  },
  {
   "cell_type": "code",
   "execution_count": null,
   "id": "a9ab1c5f-1a79-48b7-8794-9650ea26eb3a",
   "metadata": {},
   "outputs": [],
   "source": [
    "edge_detection(ascent)"
   ]
  },
  {
   "cell_type": "markdown",
   "id": "e3e0ffe9-469f-4270-8fb9-caff099110db",
   "metadata": {},
   "source": [
    "### 예제 7. Canny Edge detection\n",
    "\n",
    "다음 도움말과 프로그램을 통해서 cv2.Canny() 함수의 사용법을 익혀보자."
   ]
  },
  {
   "cell_type": "code",
   "execution_count": null,
   "id": "b24484a3-3d2d-48ad-bf91-aed34a750a2e",
   "metadata": {},
   "outputs": [],
   "source": [
    "help(cv2.Canny)"
   ]
  },
  {
   "cell_type": "code",
   "execution_count": null,
   "id": "f8d7f652-b8bf-4e10-a549-5b08e48f56fe",
   "metadata": {},
   "outputs": [],
   "source": [
    "th1 = 80\n",
    "th2 = 200\n",
    "n = np.random.normal(0, 0.2, img.shape)\n",
    "noisy_img_f = img/255 + n\n",
    "noisy_img = (255*noisy_img_f).round(0).clip(0, 255).astype(np.uint8)\n",
    "#img_filtered = cv2.Canny(noisy_img, th1, th2)\n",
    "img_filtered = cv2.Canny(img, th1, th2)\n",
    "\n",
    "plt.subplot(121)\n",
    "plt.imshow(noisy_img, cmap='gray')\n",
    "plt.subplot(122)\n",
    "plt.imshow(img_filtered, cmap='gray')"
   ]
  },
  {
   "cell_type": "markdown",
   "id": "3edab800-3803-48f5-b788-243e5e36c8a4",
   "metadata": {},
   "source": [
    "### 문제 1. 다음 조건을 만족하는 함수 canny_edge_detection(filename) 함수를 작성하라.\n",
    "- parameter로 주어진 영상 파일이 없으면 오류 메시지를 콘솔에 출력하고 종료한다.\n",
    "- parameter로 주어진 영상 파일이 있으면 영상 파일을 읽고 원 영상과 cv2.Canny() 함수 실행 결과 영상을 나란히 표시한다.\n",
    "- OpenCV의 trackbar 인터페이스를 통해서 cv2.Canny에 필요한 두 개의 thresholds를 조절한다."
   ]
  },
  {
   "cell_type": "code",
   "execution_count": null,
   "id": "87ff7c95-e5b4-4ba3-b84a-1f419b95c15b",
   "metadata": {},
   "outputs": [],
   "source": []
  },
  {
   "cell_type": "code",
   "execution_count": null,
   "id": "6f83f4f5-4ecf-431b-abdc-dfd7c93ff94d",
   "metadata": {},
   "outputs": [],
   "source": []
  },
  {
   "cell_type": "code",
   "execution_count": null,
   "id": "7ade1034-be9c-4344-b819-572190866cc9",
   "metadata": {},
   "outputs": [],
   "source": []
  }
 ],
 "metadata": {
  "kernelspec": {
   "display_name": "Python 3 (ipykernel)",
   "language": "python",
   "name": "python3"
  },
  "language_info": {
   "codemirror_mode": {
    "name": "ipython",
    "version": 3
   },
   "file_extension": ".py",
   "mimetype": "text/x-python",
   "name": "python",
   "nbconvert_exporter": "python",
   "pygments_lexer": "ipython3",
   "version": "3.9.7"
  },
  "latex_envs": {
   "LaTeX_envs_menu_present": true,
   "autoclose": false,
   "autocomplete": true,
   "bibliofile": "biblio.bib",
   "cite_by": "apalike",
   "current_citInitial": 1,
   "eqLabelWithNumbers": true,
   "eqNumInitial": 1,
   "hotkeys": {
    "equation": "Ctrl-E",
    "itemize": "Ctrl-I"
   },
   "labels_anchors": false,
   "latex_user_defs": false,
   "report_style_numbering": false,
   "user_envs_cfg": false
  }
 },
 "nbformat": 4,
 "nbformat_minor": 5
}
